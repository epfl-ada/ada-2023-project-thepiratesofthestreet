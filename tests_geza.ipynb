{
 "cells": [
  {
   "cell_type": "code",
   "execution_count": 1,
   "metadata": {
    "ExecuteTime": {
     "end_time": "2023-11-08T13:04:30.262302600Z",
     "start_time": "2023-11-08T13:04:30.001053800Z"
    }
   },
   "outputs": [],
   "source": [
    "import pandas as pd\n",
    "import matplotlib.pyplot as plt\n",
    "import numpy as np"
   ]
  },
  {
   "cell_type": "markdown",
   "metadata": {},
   "source": [
    "# load dataframes"
   ]
  },
  {
   "cell_type": "code",
   "execution_count": 2,
   "metadata": {
    "ExecuteTime": {
     "end_time": "2023-11-08T13:04:30.274626200Z",
     "start_time": "2023-11-08T13:04:30.034041100Z"
    }
   },
   "outputs": [],
   "source": [
    "character_file = r'Dataset\\MovieSummaries\\character.metadata.tsv'\n",
    "movie_file = r\"Dataset\\MovieSummaries\\movie.metadata.tsv\"\n",
    "name_clusters_file = r'Dataset\\MovieSummaries\\name.clusters.txt' \n",
    "summaries_file = r'Dataset\\MovieSummaries\\plot_summaries.txt'\n",
    "tvtropes_clusters_file = r'Dataset\\MovieSummaries\\tvtropes.clusters.txt'"
   ]
  },
  {
   "cell_type": "markdown",
   "metadata": {},
   "source": [
    "## Character dataframe"
   ]
  },
  {
   "cell_type": "code",
   "execution_count": 3,
   "metadata": {
    "ExecuteTime": {
     "end_time": "2023-11-08T13:04:36.405671500Z",
     "start_time": "2023-11-08T13:04:30.107378200Z"
    }
   },
   "outputs": [
    {
     "data": {
      "text/html": [
       "<div>\n",
       "<style scoped>\n",
       "    .dataframe tbody tr th:only-of-type {\n",
       "        vertical-align: middle;\n",
       "    }\n",
       "\n",
       "    .dataframe tbody tr th {\n",
       "        vertical-align: top;\n",
       "    }\n",
       "\n",
       "    .dataframe thead th {\n",
       "        text-align: right;\n",
       "    }\n",
       "</style>\n",
       "<table border=\"1\" class=\"dataframe\">\n",
       "  <thead>\n",
       "    <tr style=\"text-align: right;\">\n",
       "      <th></th>\n",
       "      <th>wiki_movie_id</th>\n",
       "      <th>freebase_movie_id</th>\n",
       "      <th>release_date</th>\n",
       "      <th>character_name</th>\n",
       "      <th>actor_birth_date</th>\n",
       "      <th>actor_gender</th>\n",
       "      <th>actor_height_m</th>\n",
       "      <th>actor_ethnicity_id</th>\n",
       "      <th>actor_name</th>\n",
       "      <th>actor_age_at_release</th>\n",
       "      <th>character_actor_map_id</th>\n",
       "      <th>character_id</th>\n",
       "      <th>actor_id</th>\n",
       "    </tr>\n",
       "  </thead>\n",
       "  <tbody>\n",
       "    <tr>\n",
       "      <th>0</th>\n",
       "      <td>975900</td>\n",
       "      <td>/m/03vyhn</td>\n",
       "      <td>2001-08-24</td>\n",
       "      <td>Akooshay</td>\n",
       "      <td>1958-08-26</td>\n",
       "      <td>F</td>\n",
       "      <td>1.620</td>\n",
       "      <td>NaN</td>\n",
       "      <td>Wanda De Jesus</td>\n",
       "      <td>42.0</td>\n",
       "      <td>/m/0bgchxw</td>\n",
       "      <td>/m/0bgcj3x</td>\n",
       "      <td>/m/03wcfv7</td>\n",
       "    </tr>\n",
       "    <tr>\n",
       "      <th>1</th>\n",
       "      <td>975900</td>\n",
       "      <td>/m/03vyhn</td>\n",
       "      <td>2001-08-24</td>\n",
       "      <td>Lieutenant Melanie Ballard</td>\n",
       "      <td>1974-08-15</td>\n",
       "      <td>F</td>\n",
       "      <td>1.780</td>\n",
       "      <td>/m/044038p</td>\n",
       "      <td>Natasha Henstridge</td>\n",
       "      <td>27.0</td>\n",
       "      <td>/m/0jys3m</td>\n",
       "      <td>/m/0bgchn4</td>\n",
       "      <td>/m/0346l4</td>\n",
       "    </tr>\n",
       "    <tr>\n",
       "      <th>2</th>\n",
       "      <td>975900</td>\n",
       "      <td>/m/03vyhn</td>\n",
       "      <td>2001-08-24</td>\n",
       "      <td>Desolation Williams</td>\n",
       "      <td>1969-06-15</td>\n",
       "      <td>M</td>\n",
       "      <td>1.727</td>\n",
       "      <td>/m/0x67</td>\n",
       "      <td>Ice Cube</td>\n",
       "      <td>32.0</td>\n",
       "      <td>/m/0jys3g</td>\n",
       "      <td>/m/0bgchn_</td>\n",
       "      <td>/m/01vw26l</td>\n",
       "    </tr>\n",
       "    <tr>\n",
       "      <th>3</th>\n",
       "      <td>975900</td>\n",
       "      <td>/m/03vyhn</td>\n",
       "      <td>2001-08-24</td>\n",
       "      <td>Sgt Jericho Butler</td>\n",
       "      <td>1967-09-12</td>\n",
       "      <td>M</td>\n",
       "      <td>1.750</td>\n",
       "      <td>NaN</td>\n",
       "      <td>Jason Statham</td>\n",
       "      <td>33.0</td>\n",
       "      <td>/m/02vchl6</td>\n",
       "      <td>/m/0bgchnq</td>\n",
       "      <td>/m/034hyc</td>\n",
       "    </tr>\n",
       "    <tr>\n",
       "      <th>4</th>\n",
       "      <td>975900</td>\n",
       "      <td>/m/03vyhn</td>\n",
       "      <td>2001-08-24</td>\n",
       "      <td>Bashira Kincaid</td>\n",
       "      <td>1977-09-25</td>\n",
       "      <td>F</td>\n",
       "      <td>1.650</td>\n",
       "      <td>NaN</td>\n",
       "      <td>Clea DuVall</td>\n",
       "      <td>23.0</td>\n",
       "      <td>/m/02vbb3r</td>\n",
       "      <td>/m/0bgchp9</td>\n",
       "      <td>/m/01y9xg</td>\n",
       "    </tr>\n",
       "  </tbody>\n",
       "</table>\n",
       "</div>"
      ],
      "text/plain": [
       "   wiki_movie_id freebase_movie_id release_date              character_name  \\\n",
       "0         975900         /m/03vyhn   2001-08-24                    Akooshay   \n",
       "1         975900         /m/03vyhn   2001-08-24  Lieutenant Melanie Ballard   \n",
       "2         975900         /m/03vyhn   2001-08-24         Desolation Williams   \n",
       "3         975900         /m/03vyhn   2001-08-24          Sgt Jericho Butler   \n",
       "4         975900         /m/03vyhn   2001-08-24             Bashira Kincaid   \n",
       "\n",
       "  actor_birth_date actor_gender  actor_height_m actor_ethnicity_id  \\\n",
       "0       1958-08-26            F           1.620                NaN   \n",
       "1       1974-08-15            F           1.780         /m/044038p   \n",
       "2       1969-06-15            M           1.727            /m/0x67   \n",
       "3       1967-09-12            M           1.750                NaN   \n",
       "4       1977-09-25            F           1.650                NaN   \n",
       "\n",
       "           actor_name  actor_age_at_release character_actor_map_id  \\\n",
       "0      Wanda De Jesus                  42.0             /m/0bgchxw   \n",
       "1  Natasha Henstridge                  27.0              /m/0jys3m   \n",
       "2            Ice Cube                  32.0              /m/0jys3g   \n",
       "3       Jason Statham                  33.0             /m/02vchl6   \n",
       "4         Clea DuVall                  23.0             /m/02vbb3r   \n",
       "\n",
       "  character_id    actor_id  \n",
       "0   /m/0bgcj3x  /m/03wcfv7  \n",
       "1   /m/0bgchn4   /m/0346l4  \n",
       "2   /m/0bgchn_  /m/01vw26l  \n",
       "3   /m/0bgchnq   /m/034hyc  \n",
       "4   /m/0bgchp9   /m/01y9xg  "
      ]
     },
     "execution_count": 3,
     "metadata": {},
     "output_type": "execute_result"
    }
   ],
   "source": [
    "column_names = [\n",
    "    \"wiki_movie_id\",\n",
    "    \"freebase_movie_id\",\n",
    "    \"release_date\",\n",
    "    \"character_name\",\n",
    "    \"actor_birth_date\",\n",
    "    \"actor_gender\",\n",
    "    \"actor_height_m\",\n",
    "    \"actor_ethnicity_id\",\n",
    "    \"actor_name\",\n",
    "    \"actor_age_at_release\",\n",
    "    \"character_actor_map_id\",\n",
    "    \"character_id\",\n",
    "    \"actor_id\"\n",
    "]\n",
    "character = pd.read_csv(character_file, delimiter='\\t', names = column_names)\n",
    "character.head()"
   ]
  },
  {
   "cell_type": "code",
   "execution_count": 4,
   "metadata": {
    "ExecuteTime": {
     "end_time": "2023-11-08T13:04:36.619895900Z",
     "start_time": "2023-11-08T13:04:36.367823100Z"
    }
   },
   "outputs": [
    {
     "data": {
      "text/plain": [
       "<pandas.core.groupby.generic.SeriesGroupBy object at 0x00000181F9D382E0>"
      ]
     },
     "execution_count": 4,
     "metadata": {},
     "output_type": "execute_result"
    }
   ],
   "source": [
    "character.groupby(\"actor_name\")[\"character_name\"]"
   ]
  },
  {
   "cell_type": "code",
   "execution_count": 5,
   "metadata": {
    "ExecuteTime": {
     "end_time": "2023-11-08T13:04:39.880067700Z",
     "start_time": "2023-11-08T13:04:36.429267800Z"
    }
   },
   "outputs": [
    {
     "data": {
      "text/plain": [
       "(0.0, 30.0)"
      ]
     },
     "execution_count": 5,
     "metadata": {},
     "output_type": "execute_result"
    },
    {
     "data": {
      "image/png": "[encoded data removed]",
      "text/plain": [
       "<Figure size 640x480 with 1 Axes>"
      ]
     },
     "metadata": {},
     "output_type": "display_data"
    }
   ],
   "source": [
    "character.groupby(\"wiki_movie_id\")[\"actor_name\"].agg(\"count\").plot.hist(bins=100)\n",
    "plt.xlim(0,30)"
   ]
  },
  {
   "cell_type": "code",
   "execution_count": 6,
   "metadata": {
    "ExecuteTime": {
     "end_time": "2023-11-08T13:04:40.243363900Z",
     "start_time": "2023-11-08T13:04:39.887473700Z"
    }
   },
   "outputs": [
    {
     "data": {
      "text/plain": [
       "64330"
      ]
     },
     "execution_count": 6,
     "metadata": {},
     "output_type": "execute_result"
    }
   ],
   "source": [
    "character.freebase_movie_id.unique().size"
   ]
  },
  {
   "cell_type": "markdown",
   "metadata": {},
   "source": [
    "## Movie dataframe"
   ]
  },
  {
   "cell_type": "code",
   "execution_count": 7,
   "metadata": {
    "ExecuteTime": {
     "end_time": "2023-11-08T13:04:47.253527Z",
     "start_time": "2023-11-08T13:04:40.080564900Z"
    }
   },
   "outputs": [
    {
     "data": {
      "text/html": [
       "<div>\n",
       "<style scoped>\n",
       "    .dataframe tbody tr th:only-of-type {\n",
       "        vertical-align: middle;\n",
       "    }\n",
       "\n",
       "    .dataframe tbody tr th {\n",
       "        vertical-align: top;\n",
       "    }\n",
       "\n",
       "    .dataframe thead th {\n",
       "        text-align: right;\n",
       "    }\n",
       "</style>\n",
       "<table border=\"1\" class=\"dataframe\">\n",
       "  <thead>\n",
       "    <tr style=\"text-align: right;\">\n",
       "      <th></th>\n",
       "      <th>Wikipedia_movie_ID</th>\n",
       "      <th>Freebase_movie_ID</th>\n",
       "      <th>Movie_name</th>\n",
       "      <th>Movie_release_date</th>\n",
       "      <th>Movie_box_office_revenu</th>\n",
       "      <th>Movie_runtime</th>\n",
       "      <th>Movie_languages</th>\n",
       "      <th>Movie_countries</th>\n",
       "      <th>Movie_genres</th>\n",
       "      <th>Movie_release_date_datetime</th>\n",
       "      <th>Movie_release_year</th>\n",
       "    </tr>\n",
       "  </thead>\n",
       "  <tbody>\n",
       "    <tr>\n",
       "      <th>0</th>\n",
       "      <td>975900</td>\n",
       "      <td>/m/03vyhn</td>\n",
       "      <td>Ghosts of Mars</td>\n",
       "      <td>2001-08-24</td>\n",
       "      <td>14010832.0</td>\n",
       "      <td>98.0</td>\n",
       "      <td>{\"/m/02h40lc\": \"English Language\"}</td>\n",
       "      <td>{\"/m/09c7w0\": \"United States of America\"}</td>\n",
       "      <td>{\"/m/01jfsb\": \"Thriller\", \"/m/06n90\": \"Science...</td>\n",
       "      <td>2001-08-24</td>\n",
       "      <td>2001</td>\n",
       "    </tr>\n",
       "    <tr>\n",
       "      <th>1</th>\n",
       "      <td>3196793</td>\n",
       "      <td>/m/08yl5d</td>\n",
       "      <td>Getting Away with Murder: The JonBenét Ramsey ...</td>\n",
       "      <td>2000-02-16</td>\n",
       "      <td>NaN</td>\n",
       "      <td>95.0</td>\n",
       "      <td>{\"/m/02h40lc\": \"English Language\"}</td>\n",
       "      <td>{\"/m/09c7w0\": \"United States of America\"}</td>\n",
       "      <td>{\"/m/02n4kr\": \"Mystery\", \"/m/03bxz7\": \"Biograp...</td>\n",
       "      <td>2000-02-16</td>\n",
       "      <td>2000</td>\n",
       "    </tr>\n",
       "    <tr>\n",
       "      <th>2</th>\n",
       "      <td>28463795</td>\n",
       "      <td>/m/0crgdbh</td>\n",
       "      <td>Brun bitter</td>\n",
       "      <td>1988</td>\n",
       "      <td>NaN</td>\n",
       "      <td>83.0</td>\n",
       "      <td>{\"/m/05f_3\": \"Norwegian Language\"}</td>\n",
       "      <td>{\"/m/05b4w\": \"Norway\"}</td>\n",
       "      <td>{\"/m/0lsxr\": \"Crime Fiction\", \"/m/07s9rl0\": \"D...</td>\n",
       "      <td>1988-01-01</td>\n",
       "      <td>1988</td>\n",
       "    </tr>\n",
       "    <tr>\n",
       "      <th>3</th>\n",
       "      <td>9363483</td>\n",
       "      <td>/m/0285_cd</td>\n",
       "      <td>White Of The Eye</td>\n",
       "      <td>1987</td>\n",
       "      <td>NaN</td>\n",
       "      <td>110.0</td>\n",
       "      <td>{\"/m/02h40lc\": \"English Language\"}</td>\n",
       "      <td>{\"/m/07ssc\": \"United Kingdom\"}</td>\n",
       "      <td>{\"/m/01jfsb\": \"Thriller\", \"/m/0glj9q\": \"Erotic...</td>\n",
       "      <td>1987-01-01</td>\n",
       "      <td>1987</td>\n",
       "    </tr>\n",
       "    <tr>\n",
       "      <th>4</th>\n",
       "      <td>261236</td>\n",
       "      <td>/m/01mrr1</td>\n",
       "      <td>A Woman in Flames</td>\n",
       "      <td>1983</td>\n",
       "      <td>NaN</td>\n",
       "      <td>106.0</td>\n",
       "      <td>{\"/m/04306rv\": \"German Language\"}</td>\n",
       "      <td>{\"/m/0345h\": \"Germany\"}</td>\n",
       "      <td>{\"/m/07s9rl0\": \"Drama\"}</td>\n",
       "      <td>1983-01-01</td>\n",
       "      <td>1983</td>\n",
       "    </tr>\n",
       "  </tbody>\n",
       "</table>\n",
       "</div>"
      ],
      "text/plain": [
       "   Wikipedia_movie_ID Freebase_movie_ID  \\\n",
       "0              975900         /m/03vyhn   \n",
       "1             3196793         /m/08yl5d   \n",
       "2            28463795        /m/0crgdbh   \n",
       "3             9363483        /m/0285_cd   \n",
       "4              261236         /m/01mrr1   \n",
       "\n",
       "                                          Movie_name Movie_release_date  \\\n",
       "0                                     Ghosts of Mars         2001-08-24   \n",
       "1  Getting Away with Murder: The JonBenét Ramsey ...         2000-02-16   \n",
       "2                                        Brun bitter               1988   \n",
       "3                                   White Of The Eye               1987   \n",
       "4                                  A Woman in Flames               1983   \n",
       "\n",
       "   Movie_box_office_revenu  Movie_runtime                     Movie_languages  \\\n",
       "0               14010832.0           98.0  {\"/m/02h40lc\": \"English Language\"}   \n",
       "1                      NaN           95.0  {\"/m/02h40lc\": \"English Language\"}   \n",
       "2                      NaN           83.0  {\"/m/05f_3\": \"Norwegian Language\"}   \n",
       "3                      NaN          110.0  {\"/m/02h40lc\": \"English Language\"}   \n",
       "4                      NaN          106.0   {\"/m/04306rv\": \"German Language\"}   \n",
       "\n",
       "                             Movie_countries  \\\n",
       "0  {\"/m/09c7w0\": \"United States of America\"}   \n",
       "1  {\"/m/09c7w0\": \"United States of America\"}   \n",
       "2                     {\"/m/05b4w\": \"Norway\"}   \n",
       "3             {\"/m/07ssc\": \"United Kingdom\"}   \n",
       "4                    {\"/m/0345h\": \"Germany\"}   \n",
       "\n",
       "                                        Movie_genres  \\\n",
       "0  {\"/m/01jfsb\": \"Thriller\", \"/m/06n90\": \"Science...   \n",
       "1  {\"/m/02n4kr\": \"Mystery\", \"/m/03bxz7\": \"Biograp...   \n",
       "2  {\"/m/0lsxr\": \"Crime Fiction\", \"/m/07s9rl0\": \"D...   \n",
       "3  {\"/m/01jfsb\": \"Thriller\", \"/m/0glj9q\": \"Erotic...   \n",
       "4                            {\"/m/07s9rl0\": \"Drama\"}   \n",
       "\n",
       "  Movie_release_date_datetime Movie_release_year  \n",
       "0                  2001-08-24               2001  \n",
       "1                  2000-02-16               2000  \n",
       "2                  1988-01-01               1988  \n",
       "3                  1987-01-01               1987  \n",
       "4                  1983-01-01               1983  "
      ]
     },
     "execution_count": 7,
     "metadata": {},
     "output_type": "execute_result"
    }
   ],
   "source": [
    "column_names = ['Wikipedia_movie_ID',\n",
    "                'Freebase_movie_ID',\n",
    "                'Movie_name',\n",
    "                'Movie_release_date',\n",
    "                'Movie_box_office_revenu', 'Movie_runtime', 'Movie_languages', 'Movie_countries', 'Movie_genres']\n",
    "movie = pd.read_csv(movie_file, delimiter='\\t', names = column_names)\n",
    "movie['Movie_release_date_datetime']= pd.to_datetime(movie['Movie_release_date'], format='mixed', errors='coerce')\n",
    "movie['Movie_release_year'] = movie['Movie_release_date_datetime'].dt.strftime('%Y')\n",
    "movie.head()"
   ]
  },
  {
   "cell_type": "code",
   "execution_count": 11,
   "metadata": {
    "ExecuteTime": {
     "end_time": "2023-11-08T13:04:47.557269700Z",
     "start_time": "2023-11-08T13:04:47.230579800Z"
    }
   },
   "outputs": [
    {
     "name": "stdout",
     "output_type": "stream",
     "text": [
      "The total number of movies (based on unique freebase id): 81741\n",
      "The number of movies with a box office revenue noted: 8401\n"
     ]
    }
   ],
   "source": [
    "print(f\"The total number of movies (based on unique freebase id): {movie.Freebase_movie_ID.unique().size}\")\n",
    "print(f\"The number of movies with a box office revenue noted: {movie.Movie_box_office_revenu.count()}\")"
   ]
  },
  {
   "cell_type": "markdown",
   "metadata": {},
   "source": [
    "## Summaries Dataframe"
   ]
  },
  {
   "cell_type": "code",
   "execution_count": 14,
   "metadata": {
    "ExecuteTime": {
     "end_time": "2023-11-08T09:29:30.880123700Z",
     "start_time": "2023-11-08T09:29:28.627107800Z"
    }
   },
   "outputs": [
    {
     "data": {
      "text/html": [
       "<div>\n",
       "<style scoped>\n",
       "    .dataframe tbody tr th:only-of-type {\n",
       "        vertical-align: middle;\n",
       "    }\n",
       "\n",
       "    .dataframe tbody tr th {\n",
       "        vertical-align: top;\n",
       "    }\n",
       "\n",
       "    .dataframe thead th {\n",
       "        text-align: right;\n",
       "    }\n",
       "</style>\n",
       "<table border=\"1\" class=\"dataframe\">\n",
       "  <thead>\n",
       "    <tr style=\"text-align: right;\">\n",
       "      <th></th>\n",
       "      <th>movie_ID</th>\n",
       "      <th>movie_summary</th>\n",
       "    </tr>\n",
       "  </thead>\n",
       "  <tbody>\n",
       "    <tr>\n",
       "      <th>0</th>\n",
       "      <td>23890098</td>\n",
       "      <td>Shlykov, a hard-working taxi driver and Lyosha...</td>\n",
       "    </tr>\n",
       "    <tr>\n",
       "      <th>1</th>\n",
       "      <td>31186339</td>\n",
       "      <td>The nation of Panem consists of a wealthy Capi...</td>\n",
       "    </tr>\n",
       "    <tr>\n",
       "      <th>2</th>\n",
       "      <td>20663735</td>\n",
       "      <td>Poovalli Induchoodan  is sentenced for six yea...</td>\n",
       "    </tr>\n",
       "    <tr>\n",
       "      <th>3</th>\n",
       "      <td>2231378</td>\n",
       "      <td>The Lemon Drop Kid , a New York City swindler,...</td>\n",
       "    </tr>\n",
       "    <tr>\n",
       "      <th>4</th>\n",
       "      <td>595909</td>\n",
       "      <td>Seventh-day Adventist Church pastor Michael Ch...</td>\n",
       "    </tr>\n",
       "  </tbody>\n",
       "</table>\n",
       "</div>"
      ],
      "text/plain": [
       "   movie_ID                                      movie_summary\n",
       "0  23890098  Shlykov, a hard-working taxi driver and Lyosha...\n",
       "1  31186339  The nation of Panem consists of a wealthy Capi...\n",
       "2  20663735  Poovalli Induchoodan  is sentenced for six yea...\n",
       "3   2231378  The Lemon Drop Kid , a New York City swindler,...\n",
       "4    595909  Seventh-day Adventist Church pastor Michael Ch..."
      ]
     },
     "execution_count": 14,
     "metadata": {},
     "output_type": "execute_result"
    }
   ],
   "source": [
    "summaries_movie = pd.read_csv(summaries_file, delimiter='\\t', names=['movie_ID', 'movie_summary'])\n",
    "summaries_movie.head()"
   ]
  },
  {
   "cell_type": "code",
   "execution_count": 27,
   "metadata": {
    "ExecuteTime": {
     "end_time": "2023-11-08T09:29:30.962128900Z",
     "start_time": "2023-11-08T09:29:30.866124700Z"
    }
   },
   "outputs": [
    {
     "name": "stdout",
     "output_type": "stream",
     "text": [
      "The number of movies with a summary: 42303\n",
      "The number with NaN as summary: 0\n",
      "A summary sample:\n",
      " 32171    The story revolves around Yoko Inoue , a young...\n",
      "Name: movie_summary, dtype: object\n"
     ]
    }
   ],
   "source": [
    "print(f\"The number of movies with a summary: {summaries_movie.movie_ID.unique().size}\")\n",
    "print(f\"The number with NaN as summary: {summaries_movie.movie_summary.isna().sum()}\")\n",
    "print(f\"A summary sample:\\n {summaries_movie.movie_summary.sample(1)}\")"
   ]
  },
  {
   "cell_type": "markdown",
   "metadata": {},
   "source": [
    "# Character names and type dataframe"
   ]
  },
  {
   "cell_type": "code",
   "execution_count": 29,
   "metadata": {
    "ExecuteTime": {
     "end_time": "2023-11-08T13:07:32.695352900Z",
     "start_time": "2023-11-08T13:07:32.455413200Z"
    }
   },
   "outputs": [
    {
     "data": {
      "text/html": [
       "<div>\n",
       "<style scoped>\n",
       "    .dataframe tbody tr th:only-of-type {\n",
       "        vertical-align: middle;\n",
       "    }\n",
       "\n",
       "    .dataframe tbody tr th {\n",
       "        vertical-align: top;\n",
       "    }\n",
       "\n",
       "    .dataframe thead th {\n",
       "        text-align: right;\n",
       "    }\n",
       "</style>\n",
       "<table border=\"1\" class=\"dataframe\">\n",
       "  <thead>\n",
       "    <tr style=\"text-align: right;\">\n",
       "      <th></th>\n",
       "      <th>character_name</th>\n",
       "      <th>instance_code</th>\n",
       "    </tr>\n",
       "  </thead>\n",
       "  <tbody>\n",
       "    <tr>\n",
       "      <th>0</th>\n",
       "      <td>Stuart Little</td>\n",
       "      <td>/m/0k3w9c</td>\n",
       "    </tr>\n",
       "    <tr>\n",
       "      <th>1</th>\n",
       "      <td>Stuart Little</td>\n",
       "      <td>/m/0k3wcx</td>\n",
       "    </tr>\n",
       "    <tr>\n",
       "      <th>2</th>\n",
       "      <td>Stuart Little</td>\n",
       "      <td>/m/0k3wbn</td>\n",
       "    </tr>\n",
       "    <tr>\n",
       "      <th>3</th>\n",
       "      <td>John Doe</td>\n",
       "      <td>/m/0jyg35</td>\n",
       "    </tr>\n",
       "    <tr>\n",
       "      <th>4</th>\n",
       "      <td>John Doe</td>\n",
       "      <td>/m/0k2_zn</td>\n",
       "    </tr>\n",
       "  </tbody>\n",
       "</table>\n",
       "</div>"
      ],
      "text/plain": [
       "  character_name instance_code\n",
       "0  Stuart Little     /m/0k3w9c\n",
       "1  Stuart Little     /m/0k3wcx\n",
       "2  Stuart Little     /m/0k3wbn\n",
       "3       John Doe     /m/0jyg35\n",
       "4       John Doe     /m/0k2_zn"
      ]
     },
     "execution_count": 29,
     "metadata": {},
     "output_type": "execute_result"
    }
   ],
   "source": [
    "name_clusters = pd.read_csv(name_clusters_file, delimiter='\\t', names=['character_name', 'instance_code'])\n",
    "name_clusters.head()"
   ]
  },
  {
   "cell_type": "code",
   "execution_count": 30,
   "metadata": {
    "ExecuteTime": {
     "end_time": "2023-11-08T13:07:35.085450400Z",
     "start_time": "2023-11-08T13:07:34.844459400Z"
    }
   },
   "outputs": [
    {
     "data": {
      "text/html": [
       "<div>\n",
       "<style scoped>\n",
       "    .dataframe tbody tr th:only-of-type {\n",
       "        vertical-align: middle;\n",
       "    }\n",
       "\n",
       "    .dataframe tbody tr th {\n",
       "        vertical-align: top;\n",
       "    }\n",
       "\n",
       "    .dataframe thead th {\n",
       "        text-align: right;\n",
       "    }\n",
       "</style>\n",
       "<table border=\"1\" class=\"dataframe\">\n",
       "  <thead>\n",
       "    <tr style=\"text-align: right;\">\n",
       "      <th></th>\n",
       "      <th>character_type</th>\n",
       "      <th>instance_ref</th>\n",
       "    </tr>\n",
       "  </thead>\n",
       "  <tbody>\n",
       "    <tr>\n",
       "      <th>0</th>\n",
       "      <td>absent_minded_professor</td>\n",
       "      <td>{\"char\": \"Professor Philip Brainard\", \"movie\":...</td>\n",
       "    </tr>\n",
       "    <tr>\n",
       "      <th>1</th>\n",
       "      <td>absent_minded_professor</td>\n",
       "      <td>{\"char\": \"Professor Keenbean\", \"movie\": \"Richi...</td>\n",
       "    </tr>\n",
       "    <tr>\n",
       "      <th>2</th>\n",
       "      <td>absent_minded_professor</td>\n",
       "      <td>{\"char\": \"Dr. Reinhardt Lane\", \"movie\": \"The S...</td>\n",
       "    </tr>\n",
       "    <tr>\n",
       "      <th>3</th>\n",
       "      <td>absent_minded_professor</td>\n",
       "      <td>{\"char\": \"Dr. Harold Medford\", \"movie\": \"Them!...</td>\n",
       "    </tr>\n",
       "    <tr>\n",
       "      <th>4</th>\n",
       "      <td>absent_minded_professor</td>\n",
       "      <td>{\"char\": \"Daniel Jackson\", \"movie\": \"Stargate\"...</td>\n",
       "    </tr>\n",
       "  </tbody>\n",
       "</table>\n",
       "</div>"
      ],
      "text/plain": [
       "            character_type                                       instance_ref\n",
       "0  absent_minded_professor  {\"char\": \"Professor Philip Brainard\", \"movie\":...\n",
       "1  absent_minded_professor  {\"char\": \"Professor Keenbean\", \"movie\": \"Richi...\n",
       "2  absent_minded_professor  {\"char\": \"Dr. Reinhardt Lane\", \"movie\": \"The S...\n",
       "3  absent_minded_professor  {\"char\": \"Dr. Harold Medford\", \"movie\": \"Them!...\n",
       "4  absent_minded_professor  {\"char\": \"Daniel Jackson\", \"movie\": \"Stargate\"..."
      ]
     },
     "execution_count": 30,
     "metadata": {},
     "output_type": "execute_result"
    }
   ],
   "source": [
    "tvtropes = pd.read_csv(tvtropes_clusters_file, delimiter='\\t', names=['character_type', 'instance_ref'])\n",
    "tvtropes.head()"
   ]
  },
  {
   "cell_type": "code",
   "execution_count": 32,
   "metadata": {
    "ExecuteTime": {
     "end_time": "2023-11-08T13:07:36.527438700Z",
     "start_time": "2023-11-08T13:07:36.400392900Z"
    }
   },
   "outputs": [
    {
     "data": {
      "text/plain": [
       "'{\"char\": \"Professor Philip Brainard\", \"movie\": \"Flubber\", \"id\": \"/m/0jy9q0\", \"actor\": \"Robin Williams\"}'"
      ]
     },
     "execution_count": 32,
     "metadata": {},
     "output_type": "execute_result"
    }
   ],
   "source": [
    "tvtropes['instance_ref'][0]"
   ]
  },
  {
   "cell_type": "markdown",
   "metadata": {},
   "source": [
    "# Search easily for words in text"
   ]
  },
  {
   "cell_type": "code",
   "execution_count": 33,
   "metadata": {
    "ExecuteTime": {
     "end_time": "2023-11-08T09:29:48.888454300Z",
     "start_time": "2023-11-08T09:29:35.262733200Z"
    }
   },
   "outputs": [],
   "source": [
    "import re\n",
    "\n",
    "# Get a copy of the dataframe\n",
    "my_df = summaries_movie.copy()\n",
    "\n",
    "# List of words related to \"smoking\"\n",
    "related_words = [\"addiction\", \"smoke\", \"smoker\", \"smoking\", \"cigar\", \"cigarette\", \"tobacco\", \"nicotine\", \"ashtray\"]\n",
    "\n",
    "# Initialize the new columns\n",
    "my_df['related_to_smoke'] = False\n",
    "my_df['smoke_terms'] = pd.NA\n",
    "\n",
    "# Iterate through all summaries\n",
    "for index, row in my_df.iterrows():\n",
    "    row_summary = row['movie_summary']\n",
    "\n",
    "    # regular expression to search for related words\n",
    "    pattern = r\"\\b(\" + \"|\".join(related_words) + r\")\\b\"\n",
    "\n",
    "    # Search with regex\n",
    "    matches = re.findall(pattern, row_summary, flags=re.IGNORECASE)\n",
    "\n",
    "    # Save the results\n",
    "    if len(matches) > 0:\n",
    "        my_df.at[index, 'related_to_smoke'] = True\n",
    "        my_df.at[index, 'smoke_terms'] = ','.join(matches)\n",
    "        #print(f\"Related words found in the text: {matches}\")"
   ]
  },
  {
   "cell_type": "code",
   "execution_count": 34,
   "metadata": {},
   "outputs": [
    {
     "data": {
      "text/html": [
       "<div>\n",
       "<style scoped>\n",
       "    .dataframe tbody tr th:only-of-type {\n",
       "        vertical-align: middle;\n",
       "    }\n",
       "\n",
       "    .dataframe tbody tr th {\n",
       "        vertical-align: top;\n",
       "    }\n",
       "\n",
       "    .dataframe thead th {\n",
       "        text-align: right;\n",
       "    }\n",
       "</style>\n",
       "<table border=\"1\" class=\"dataframe\">\n",
       "  <thead>\n",
       "    <tr style=\"text-align: right;\">\n",
       "      <th></th>\n",
       "      <th>movie_ID</th>\n",
       "      <th>movie_summary</th>\n",
       "      <th>related_to_smoke</th>\n",
       "      <th>smoke_terms</th>\n",
       "    </tr>\n",
       "  </thead>\n",
       "  <tbody>\n",
       "    <tr>\n",
       "      <th>0</th>\n",
       "      <td>23890098</td>\n",
       "      <td>Shlykov, a hard-working taxi driver and Lyosha...</td>\n",
       "      <td>False</td>\n",
       "      <td>&lt;NA&gt;</td>\n",
       "    </tr>\n",
       "    <tr>\n",
       "      <th>1</th>\n",
       "      <td>31186339</td>\n",
       "      <td>The nation of Panem consists of a wealthy Capi...</td>\n",
       "      <td>False</td>\n",
       "      <td>&lt;NA&gt;</td>\n",
       "    </tr>\n",
       "    <tr>\n",
       "      <th>2</th>\n",
       "      <td>20663735</td>\n",
       "      <td>Poovalli Induchoodan  is sentenced for six yea...</td>\n",
       "      <td>False</td>\n",
       "      <td>&lt;NA&gt;</td>\n",
       "    </tr>\n",
       "    <tr>\n",
       "      <th>3</th>\n",
       "      <td>2231378</td>\n",
       "      <td>The Lemon Drop Kid , a New York City swindler,...</td>\n",
       "      <td>False</td>\n",
       "      <td>&lt;NA&gt;</td>\n",
       "    </tr>\n",
       "    <tr>\n",
       "      <th>4</th>\n",
       "      <td>595909</td>\n",
       "      <td>Seventh-day Adventist Church pastor Michael Ch...</td>\n",
       "      <td>False</td>\n",
       "      <td>&lt;NA&gt;</td>\n",
       "    </tr>\n",
       "  </tbody>\n",
       "</table>\n",
       "</div>"
      ],
      "text/plain": [
       "   movie_ID                                      movie_summary  \\\n",
       "0  23890098  Shlykov, a hard-working taxi driver and Lyosha...   \n",
       "1  31186339  The nation of Panem consists of a wealthy Capi...   \n",
       "2  20663735  Poovalli Induchoodan  is sentenced for six yea...   \n",
       "3   2231378  The Lemon Drop Kid , a New York City swindler,...   \n",
       "4    595909  Seventh-day Adventist Church pastor Michael Ch...   \n",
       "\n",
       "   related_to_smoke smoke_terms  \n",
       "0             False        <NA>  \n",
       "1             False        <NA>  \n",
       "2             False        <NA>  \n",
       "3             False        <NA>  \n",
       "4             False        <NA>  "
      ]
     },
     "execution_count": 34,
     "metadata": {},
     "output_type": "execute_result"
    }
   ],
   "source": [
    "my_df.head()"
   ]
  },
  {
   "cell_type": "code",
   "execution_count": 35,
   "metadata": {},
   "outputs": [
    {
     "data": {
      "text/html": [
       "<div>\n",
       "<style scoped>\n",
       "    .dataframe tbody tr th:only-of-type {\n",
       "        vertical-align: middle;\n",
       "    }\n",
       "\n",
       "    .dataframe tbody tr th {\n",
       "        vertical-align: top;\n",
       "    }\n",
       "\n",
       "    .dataframe thead th {\n",
       "        text-align: right;\n",
       "    }\n",
       "</style>\n",
       "<table border=\"1\" class=\"dataframe\">\n",
       "  <thead>\n",
       "    <tr style=\"text-align: right;\">\n",
       "      <th></th>\n",
       "      <th>movie_ID</th>\n",
       "      <th>movie_summary</th>\n",
       "      <th>related_to_smoke</th>\n",
       "      <th>smoke_terms</th>\n",
       "      <th>Wikipedia_movie_ID</th>\n",
       "      <th>Movie_release_year</th>\n",
       "    </tr>\n",
       "  </thead>\n",
       "  <tbody>\n",
       "    <tr>\n",
       "      <th>0</th>\n",
       "      <td>23890098</td>\n",
       "      <td>Shlykov, a hard-working taxi driver and Lyosha...</td>\n",
       "      <td>False</td>\n",
       "      <td>&lt;NA&gt;</td>\n",
       "      <td>23890098.0</td>\n",
       "      <td>1990</td>\n",
       "    </tr>\n",
       "    <tr>\n",
       "      <th>1</th>\n",
       "      <td>31186339</td>\n",
       "      <td>The nation of Panem consists of a wealthy Capi...</td>\n",
       "      <td>False</td>\n",
       "      <td>&lt;NA&gt;</td>\n",
       "      <td>31186339.0</td>\n",
       "      <td>2012</td>\n",
       "    </tr>\n",
       "    <tr>\n",
       "      <th>2</th>\n",
       "      <td>20663735</td>\n",
       "      <td>Poovalli Induchoodan  is sentenced for six yea...</td>\n",
       "      <td>False</td>\n",
       "      <td>&lt;NA&gt;</td>\n",
       "      <td>20663735.0</td>\n",
       "      <td>2000</td>\n",
       "    </tr>\n",
       "    <tr>\n",
       "      <th>3</th>\n",
       "      <td>2231378</td>\n",
       "      <td>The Lemon Drop Kid , a New York City swindler,...</td>\n",
       "      <td>False</td>\n",
       "      <td>&lt;NA&gt;</td>\n",
       "      <td>2231378.0</td>\n",
       "      <td>1951</td>\n",
       "    </tr>\n",
       "    <tr>\n",
       "      <th>4</th>\n",
       "      <td>595909</td>\n",
       "      <td>Seventh-day Adventist Church pastor Michael Ch...</td>\n",
       "      <td>False</td>\n",
       "      <td>&lt;NA&gt;</td>\n",
       "      <td>595909.0</td>\n",
       "      <td>1988</td>\n",
       "    </tr>\n",
       "  </tbody>\n",
       "</table>\n",
       "</div>"
      ],
      "text/plain": [
       "   movie_ID                                      movie_summary  \\\n",
       "0  23890098  Shlykov, a hard-working taxi driver and Lyosha...   \n",
       "1  31186339  The nation of Panem consists of a wealthy Capi...   \n",
       "2  20663735  Poovalli Induchoodan  is sentenced for six yea...   \n",
       "3   2231378  The Lemon Drop Kid , a New York City swindler,...   \n",
       "4    595909  Seventh-day Adventist Church pastor Michael Ch...   \n",
       "\n",
       "   related_to_smoke smoke_terms  Wikipedia_movie_ID Movie_release_year  \n",
       "0             False        <NA>          23890098.0               1990  \n",
       "1             False        <NA>          31186339.0               2012  \n",
       "2             False        <NA>          20663735.0               2000  \n",
       "3             False        <NA>           2231378.0               1951  \n",
       "4             False        <NA>            595909.0               1988  "
      ]
     },
     "execution_count": 35,
     "metadata": {},
     "output_type": "execute_result"
    }
   ],
   "source": [
    "# Merge with movie informations (here release year)\n",
    "id_year = movie[['Wikipedia_movie_ID', 'Movie_release_year']]\n",
    "my_df = pd.merge(my_df, id_year, how='left', left_on='movie_ID', right_on='Wikipedia_movie_ID')\n",
    "my_df.head()"
   ]
  },
  {
   "cell_type": "code",
   "execution_count": 37,
   "metadata": {},
   "outputs": [],
   "source": [
    "# Check per year\n",
    "result = my_df.groupby('Movie_release_year')['related_to_smoke'].agg(['sum', 'count'])\n",
    "result['proportion'] = result[\"sum\"]/result[\"count\"]"
   ]
  },
  {
   "cell_type": "code",
   "execution_count": 40,
   "metadata": {},
   "outputs": [
    {
     "data": {
      "text/plain": [
       "Text(0.5, 1.0, 'Proportion of movies with smoking related terms in their summary')"
      ]
     },
     "execution_count": 40,
     "metadata": {},
     "output_type": "execute_result"
    },
    {
     "data": {
      "image/png": "[encoded data removed]",
      "text/plain": [
       "<Figure size 640x480 with 1 Axes>"
      ]
     },
     "metadata": {},
     "output_type": "display_data"
    }
   ],
   "source": [
    "result['proportion'].plot()\n",
    "plt.title(\"Proportion of movies with smoking related terms in their summary\")"
   ]
  },
  {
   "cell_type": "code",
   "execution_count": 34,
   "metadata": {},
   "outputs": [
    {
     "data": {
      "text/plain": [
       "array([ 0,  0,  0,  0,  0,  0,  0,  0,  0,  0,  0,  0,  0,  0,  0,  0,  0,\n",
       "        0,  1,  0,  0,  0,  2,  0,  0,  2,  1,  0,  0,  0,  0,  1,  2,  0,\n",
       "        0,  3,  1,  1,  1,  3,  5,  1,  4,  5,  0,  8,  1,  4,  5,  6,  2,\n",
       "        2,  6,  6,  1,  6,  3,  1,  8,  4,  3,  3,  4,  1,  4,  1,  7,  1,\n",
       "        4,  4,  1,  3,  2,  7,  7,  5,  7,  2,  6,  8,  3,  4,  1,  2,  3,\n",
       "        7,  5,  6,  2,  4,  6,  9,  4,  7,  5, 11,  5, 10,  9,  6,  9,  9,\n",
       "        7, 11, 11, 11, 14, 17, 21, 17, 18, 21, 14, 21, 28, 23, 22, 16, 14,\n",
       "        4,  0,  0], dtype=int64)"
      ]
     },
     "execution_count": 34,
     "metadata": {},
     "output_type": "execute_result"
    }
   ],
   "source": [
    "result['sum'].values"
   ]
  },
  {
   "cell_type": "markdown",
   "metadata": {
    "collapsed": false
   },
   "source": [
    "# Check a bit the box-officed (BO) movies "
   ]
  },
  {
   "cell_type": "code",
   "execution_count": 47,
   "metadata": {
    "ExecuteTime": {
     "end_time": "2023-11-08T09:51:42.357451600Z",
     "start_time": "2023-11-08T09:51:42.317451800Z"
    },
    "collapsed": false
   },
   "outputs": [
    {
     "name": "stdout",
     "output_type": "stream",
     "text": [
      "The number of movies with no box office value is 73340, and only 8401 with a given value.\n",
      "This results in a proportion of 0.103\n"
     ]
    }
   ],
   "source": [
    "non_BO_movies_count = np.sum(np.isnan(movie[\"Movie_box_office_revenu\"]))\n",
    "BO_movies_count = np.sum(~np.isnan(movie[\"Movie_box_office_revenu\"]))\n",
    "print(f\"The number of movies with no box office value is {non_BO_movies_count}, and only {BO_movies_count} with a given value.\")\n",
    "print(f'This results in a proportion of {movie[\"Movie_box_office_revenu\"].count()/movie[\"Movie_box_office_revenu\"].size:.3f}')"
   ]
  },
  {
   "cell_type": "markdown",
   "metadata": {},
   "source": [
    "# Try to get a dataframe of ages and box-office/rating of the movie they play in\n",
    "\n",
    "## A) Load dataframes"
   ]
  },
  {
   "cell_type": "code",
   "execution_count": 48,
   "metadata": {
    "ExecuteTime": {
     "end_time": "2023-11-08T09:52:18.338408100Z",
     "start_time": "2023-11-08T09:52:16.673895600Z"
    }
   },
   "outputs": [
    {
     "name": "stderr",
     "output_type": "stream",
     "text": [
      "C:\\Users\\gezas\\AppData\\Local\\Temp\\ipykernel_16192\\127694293.py:2: DtypeWarning: Columns (4) have mixed types. Specify dtype option on import or set low_memory=False.\n",
      "  imdb_titles_df = pd.read_csv(r\"Dataset/IMDB/title.basics.tsv/data.tsv\", sep = '\\t')\n"
     ]
    }
   ],
   "source": [
    "ratings = pd.read_csv(r\"Dataset/IMDB/data.tsv\", sep = '\\t')\n",
    "imdb_titles_df = pd.read_csv(r\"Dataset/IMDB/title.basics.tsv/data.tsv\", sep = '\\t')"
   ]
  },
  {
   "cell_type": "code",
   "execution_count": 49,
   "metadata": {},
   "outputs": [
    {
     "data": {
      "text/html": [
       "<div>\n",
       "<style scoped>\n",
       "    .dataframe tbody tr th:only-of-type {\n",
       "        vertical-align: middle;\n",
       "    }\n",
       "\n",
       "    .dataframe tbody tr th {\n",
       "        vertical-align: top;\n",
       "    }\n",
       "\n",
       "    .dataframe thead th {\n",
       "        text-align: right;\n",
       "    }\n",
       "</style>\n",
       "<table border=\"1\" class=\"dataframe\">\n",
       "  <thead>\n",
       "    <tr style=\"text-align: right;\">\n",
       "      <th></th>\n",
       "      <th>tconst</th>\n",
       "      <th>averageRating</th>\n",
       "      <th>numVotes</th>\n",
       "    </tr>\n",
       "  </thead>\n",
       "  <tbody>\n",
       "    <tr>\n",
       "      <th>0</th>\n",
       "      <td>tt0000001</td>\n",
       "      <td>5.7</td>\n",
       "      <td>2005</td>\n",
       "    </tr>\n",
       "    <tr>\n",
       "      <th>1</th>\n",
       "      <td>tt0000002</td>\n",
       "      <td>5.8</td>\n",
       "      <td>269</td>\n",
       "    </tr>\n",
       "    <tr>\n",
       "      <th>2</th>\n",
       "      <td>tt0000003</td>\n",
       "      <td>6.5</td>\n",
       "      <td>1907</td>\n",
       "    </tr>\n",
       "    <tr>\n",
       "      <th>3</th>\n",
       "      <td>tt0000004</td>\n",
       "      <td>5.5</td>\n",
       "      <td>178</td>\n",
       "    </tr>\n",
       "    <tr>\n",
       "      <th>4</th>\n",
       "      <td>tt0000005</td>\n",
       "      <td>6.2</td>\n",
       "      <td>2687</td>\n",
       "    </tr>\n",
       "  </tbody>\n",
       "</table>\n",
       "</div>"
      ],
      "text/plain": [
       "      tconst  averageRating  numVotes\n",
       "0  tt0000001            5.7      2005\n",
       "1  tt0000002            5.8       269\n",
       "2  tt0000003            6.5      1907\n",
       "3  tt0000004            5.5       178\n",
       "4  tt0000005            6.2      2687"
      ]
     },
     "execution_count": 49,
     "metadata": {},
     "output_type": "execute_result"
    }
   ],
   "source": [
    "ratings.head()"
   ]
  },
  {
   "cell_type": "code",
   "execution_count": 50,
   "metadata": {
    "ExecuteTime": {
     "end_time": "2023-11-08T09:53:54.107873Z",
     "start_time": "2023-11-08T09:53:53.795803400Z"
    }
   },
   "outputs": [
    {
     "data": {
      "text/html": [
       "<div>\n",
       "<style scoped>\n",
       "    .dataframe tbody tr th:only-of-type {\n",
       "        vertical-align: middle;\n",
       "    }\n",
       "\n",
       "    .dataframe tbody tr th {\n",
       "        vertical-align: top;\n",
       "    }\n",
       "\n",
       "    .dataframe thead th {\n",
       "        text-align: right;\n",
       "    }\n",
       "</style>\n",
       "<table border=\"1\" class=\"dataframe\">\n",
       "  <thead>\n",
       "    <tr style=\"text-align: right;\">\n",
       "      <th></th>\n",
       "      <th>tconst</th>\n",
       "      <th>titleType</th>\n",
       "      <th>primaryTitle</th>\n",
       "      <th>originalTitle</th>\n",
       "      <th>isAdult</th>\n",
       "      <th>startYear</th>\n",
       "      <th>endYear</th>\n",
       "      <th>runtimeMinutes</th>\n",
       "      <th>genres</th>\n",
       "    </tr>\n",
       "  </thead>\n",
       "  <tbody>\n",
       "    <tr>\n",
       "      <th>0</th>\n",
       "      <td>tt0000001</td>\n",
       "      <td>short</td>\n",
       "      <td>Carmencita</td>\n",
       "      <td>Carmencita</td>\n",
       "      <td>0</td>\n",
       "      <td>1894</td>\n",
       "      <td>\\N</td>\n",
       "      <td>1</td>\n",
       "      <td>Documentary,Short</td>\n",
       "    </tr>\n",
       "    <tr>\n",
       "      <th>1</th>\n",
       "      <td>tt0000002</td>\n",
       "      <td>short</td>\n",
       "      <td>Le clown et ses chiens</td>\n",
       "      <td>Le clown et ses chiens</td>\n",
       "      <td>0</td>\n",
       "      <td>1892</td>\n",
       "      <td>\\N</td>\n",
       "      <td>5</td>\n",
       "      <td>Animation,Short</td>\n",
       "    </tr>\n",
       "    <tr>\n",
       "      <th>2</th>\n",
       "      <td>tt0000003</td>\n",
       "      <td>short</td>\n",
       "      <td>Pauvre Pierrot</td>\n",
       "      <td>Pauvre Pierrot</td>\n",
       "      <td>0</td>\n",
       "      <td>1892</td>\n",
       "      <td>\\N</td>\n",
       "      <td>4</td>\n",
       "      <td>Animation,Comedy,Romance</td>\n",
       "    </tr>\n",
       "    <tr>\n",
       "      <th>3</th>\n",
       "      <td>tt0000004</td>\n",
       "      <td>short</td>\n",
       "      <td>Un bon bock</td>\n",
       "      <td>Un bon bock</td>\n",
       "      <td>0</td>\n",
       "      <td>1892</td>\n",
       "      <td>\\N</td>\n",
       "      <td>12</td>\n",
       "      <td>Animation,Short</td>\n",
       "    </tr>\n",
       "    <tr>\n",
       "      <th>4</th>\n",
       "      <td>tt0000005</td>\n",
       "      <td>short</td>\n",
       "      <td>Blacksmith Scene</td>\n",
       "      <td>Blacksmith Scene</td>\n",
       "      <td>0</td>\n",
       "      <td>1893</td>\n",
       "      <td>\\N</td>\n",
       "      <td>1</td>\n",
       "      <td>Comedy,Short</td>\n",
       "    </tr>\n",
       "  </tbody>\n",
       "</table>\n",
       "</div>"
      ],
      "text/plain": [
       "      tconst titleType            primaryTitle           originalTitle  \\\n",
       "0  tt0000001     short              Carmencita              Carmencita   \n",
       "1  tt0000002     short  Le clown et ses chiens  Le clown et ses chiens   \n",
       "2  tt0000003     short          Pauvre Pierrot          Pauvre Pierrot   \n",
       "3  tt0000004     short             Un bon bock             Un bon bock   \n",
       "4  tt0000005     short        Blacksmith Scene        Blacksmith Scene   \n",
       "\n",
       "  isAdult startYear endYear runtimeMinutes                    genres  \n",
       "0       0      1894      \\N              1         Documentary,Short  \n",
       "1       0      1892      \\N              5           Animation,Short  \n",
       "2       0      1892      \\N              4  Animation,Comedy,Romance  \n",
       "3       0      1892      \\N             12           Animation,Short  \n",
       "4       0      1893      \\N              1              Comedy,Short  "
      ]
     },
     "execution_count": 50,
     "metadata": {},
     "output_type": "execute_result"
    }
   ],
   "source": [
    "imdb_titles_df.head()"
   ]
  },
  {
   "cell_type": "code",
   "execution_count": 55,
   "metadata": {
    "ExecuteTime": {
     "end_time": "2023-11-08T09:53:55.006929800Z",
     "start_time": "2023-11-08T09:53:54.201998400Z"
    }
   },
   "outputs": [
    {
     "data": {
      "text/plain": [
       "(81741, 1366672, 10293183)"
      ]
     },
     "execution_count": 55,
     "metadata": {},
     "output_type": "execute_result"
    }
   ],
   "source": [
    "# Compare lengths\n",
    "len(movie['Movie_name']), len(ratings['tconst']), len(imdb_titles_df['originalTitle'])"
   ]
  },
  {
   "cell_type": "code",
   "execution_count": 56,
   "metadata": {
    "collapsed": false
   },
   "outputs": [
    {
     "data": {
      "text/plain": [
       "Text(0.5, 0, 'log10 number of voters')"
      ]
     },
     "execution_count": 56,
     "metadata": {},
     "output_type": "execute_result"
    },
    {
     "data": {
      "image/png": "[encoded data removed]",
      "text/plain": [
       "<Figure size 640x480 with 1 Axes>"
      ]
     },
     "metadata": {},
     "output_type": "display_data"
    }
   ],
   "source": [
    "np.log10(ratings['numVotes']).plot.hist(bins=50)\n",
    "plt.xlabel(\"log10 number of voters\")"
   ]
  },
  {
   "cell_type": "code",
   "execution_count": 57,
   "metadata": {
    "collapsed": false
   },
   "outputs": [
    {
     "data": {
      "text/plain": [
       "Text(0.5, 1.0, 'histogram of movie ratings')"
      ]
     },
     "execution_count": 57,
     "metadata": {},
     "output_type": "execute_result"
    },
    {
     "data": {
      "image/png": "[encoded data removed]",
      "text/plain": [
       "<Figure size 640x480 with 1 Axes>"
      ]
     },
     "metadata": {},
     "output_type": "display_data"
    }
   ],
   "source": [
    "ratings['averageRating'].plot.hist(bins=50)\n",
    "plt.xlabel('average IMDB rating')\n",
    "plt.title('histogram of movie ratings')"
   ]
  },
  {
   "cell_type": "markdown",
   "metadata": {
    "collapsed": false
   },
   "source": [
    "## B) merge movies information with imdb indexing"
   ]
  },
  {
   "cell_type": "code",
   "execution_count": 58,
   "metadata": {
    "ExecuteTime": {
     "end_time": "2023-11-08T10:01:25.210152200Z",
     "start_time": "2023-11-08T10:01:04.521800100Z"
    }
   },
   "outputs": [],
   "source": [
    "result_merge = pd.merge(movie[['Movie_name', 'Movie_box_office_revenu', 'Movie_genres', 'Movie_release_year','Wikipedia_movie_ID']],\n",
    "                        imdb_titles_df[['originalTitle', 'tconst']],\n",
    "         how='left', left_on='Movie_name', right_on='originalTitle').copy()"
   ]
  },
  {
   "cell_type": "code",
   "execution_count": 59,
   "metadata": {},
   "outputs": [
    {
     "data": {
      "text/html": [
       "<div>\n",
       "<style scoped>\n",
       "    .dataframe tbody tr th:only-of-type {\n",
       "        vertical-align: middle;\n",
       "    }\n",
       "\n",
       "    .dataframe tbody tr th {\n",
       "        vertical-align: top;\n",
       "    }\n",
       "\n",
       "    .dataframe thead th {\n",
       "        text-align: right;\n",
       "    }\n",
       "</style>\n",
       "<table border=\"1\" class=\"dataframe\">\n",
       "  <thead>\n",
       "    <tr style=\"text-align: right;\">\n",
       "      <th></th>\n",
       "      <th>Movie_name</th>\n",
       "      <th>Movie_box_office_revenu</th>\n",
       "      <th>Movie_genres</th>\n",
       "      <th>Movie_release_year</th>\n",
       "      <th>Wikipedia_movie_ID</th>\n",
       "      <th>originalTitle</th>\n",
       "      <th>tconst</th>\n",
       "    </tr>\n",
       "  </thead>\n",
       "  <tbody>\n",
       "    <tr>\n",
       "      <th>0</th>\n",
       "      <td>Ghosts of Mars</td>\n",
       "      <td>14010832.0</td>\n",
       "      <td>{\"/m/01jfsb\": \"Thriller\", \"/m/06n90\": \"Science...</td>\n",
       "      <td>2001</td>\n",
       "      <td>975900</td>\n",
       "      <td>Ghosts of Mars</td>\n",
       "      <td>tt0228333</td>\n",
       "    </tr>\n",
       "    <tr>\n",
       "      <th>1</th>\n",
       "      <td>Ghosts of Mars</td>\n",
       "      <td>14010832.0</td>\n",
       "      <td>{\"/m/01jfsb\": \"Thriller\", \"/m/06n90\": \"Science...</td>\n",
       "      <td>2001</td>\n",
       "      <td>975900</td>\n",
       "      <td>Ghosts of Mars</td>\n",
       "      <td>tt0594845</td>\n",
       "    </tr>\n",
       "    <tr>\n",
       "      <th>2</th>\n",
       "      <td>Ghosts of Mars</td>\n",
       "      <td>14010832.0</td>\n",
       "      <td>{\"/m/01jfsb\": \"Thriller\", \"/m/06n90\": \"Science...</td>\n",
       "      <td>2001</td>\n",
       "      <td>975900</td>\n",
       "      <td>Ghosts of Mars</td>\n",
       "      <td>tt2450324</td>\n",
       "    </tr>\n",
       "    <tr>\n",
       "      <th>3</th>\n",
       "      <td>Getting Away with Murder: The JonBenét Ramsey ...</td>\n",
       "      <td>NaN</td>\n",
       "      <td>{\"/m/02n4kr\": \"Mystery\", \"/m/03bxz7\": \"Biograp...</td>\n",
       "      <td>2000</td>\n",
       "      <td>3196793</td>\n",
       "      <td>NaN</td>\n",
       "      <td>NaN</td>\n",
       "    </tr>\n",
       "    <tr>\n",
       "      <th>4</th>\n",
       "      <td>Brun bitter</td>\n",
       "      <td>NaN</td>\n",
       "      <td>{\"/m/0lsxr\": \"Crime Fiction\", \"/m/07s9rl0\": \"D...</td>\n",
       "      <td>1988</td>\n",
       "      <td>28463795</td>\n",
       "      <td>Brun bitter</td>\n",
       "      <td>tt0094806</td>\n",
       "    </tr>\n",
       "  </tbody>\n",
       "</table>\n",
       "</div>"
      ],
      "text/plain": [
       "                                          Movie_name  Movie_box_office_revenu  \\\n",
       "0                                     Ghosts of Mars               14010832.0   \n",
       "1                                     Ghosts of Mars               14010832.0   \n",
       "2                                     Ghosts of Mars               14010832.0   \n",
       "3  Getting Away with Murder: The JonBenét Ramsey ...                      NaN   \n",
       "4                                        Brun bitter                      NaN   \n",
       "\n",
       "                                        Movie_genres Movie_release_year  \\\n",
       "0  {\"/m/01jfsb\": \"Thriller\", \"/m/06n90\": \"Science...               2001   \n",
       "1  {\"/m/01jfsb\": \"Thriller\", \"/m/06n90\": \"Science...               2001   \n",
       "2  {\"/m/01jfsb\": \"Thriller\", \"/m/06n90\": \"Science...               2001   \n",
       "3  {\"/m/02n4kr\": \"Mystery\", \"/m/03bxz7\": \"Biograp...               2000   \n",
       "4  {\"/m/0lsxr\": \"Crime Fiction\", \"/m/07s9rl0\": \"D...               1988   \n",
       "\n",
       "   Wikipedia_movie_ID   originalTitle     tconst  \n",
       "0              975900  Ghosts of Mars  tt0228333  \n",
       "1              975900  Ghosts of Mars  tt0594845  \n",
       "2              975900  Ghosts of Mars  tt2450324  \n",
       "3             3196793             NaN        NaN  \n",
       "4            28463795     Brun bitter  tt0094806  "
      ]
     },
     "execution_count": 59,
     "metadata": {},
     "output_type": "execute_result"
    }
   ],
   "source": [
    "result_merge.head()"
   ]
  },
  {
   "cell_type": "code",
   "execution_count": 60,
   "metadata": {
    "ExecuteTime": {
     "end_time": "2023-11-08T09:59:22.987023800Z",
     "start_time": "2023-11-08T09:59:22.352065600Z"
    }
   },
   "outputs": [
    {
     "data": {
      "text/html": [
       "<div>\n",
       "<style scoped>\n",
       "    .dataframe tbody tr th:only-of-type {\n",
       "        vertical-align: middle;\n",
       "    }\n",
       "\n",
       "    .dataframe tbody tr th {\n",
       "        vertical-align: top;\n",
       "    }\n",
       "\n",
       "    .dataframe thead th {\n",
       "        text-align: right;\n",
       "    }\n",
       "</style>\n",
       "<table border=\"1\" class=\"dataframe\">\n",
       "  <thead>\n",
       "    <tr style=\"text-align: right;\">\n",
       "      <th></th>\n",
       "      <th>tconst</th>\n",
       "      <th>averageRating</th>\n",
       "      <th>numVotes</th>\n",
       "    </tr>\n",
       "  </thead>\n",
       "  <tbody>\n",
       "    <tr>\n",
       "      <th>0</th>\n",
       "      <td>tt0000001</td>\n",
       "      <td>5.7</td>\n",
       "      <td>2005</td>\n",
       "    </tr>\n",
       "    <tr>\n",
       "      <th>1</th>\n",
       "      <td>tt0000002</td>\n",
       "      <td>5.8</td>\n",
       "      <td>269</td>\n",
       "    </tr>\n",
       "    <tr>\n",
       "      <th>2</th>\n",
       "      <td>tt0000003</td>\n",
       "      <td>6.5</td>\n",
       "      <td>1907</td>\n",
       "    </tr>\n",
       "    <tr>\n",
       "      <th>3</th>\n",
       "      <td>tt0000004</td>\n",
       "      <td>5.5</td>\n",
       "      <td>178</td>\n",
       "    </tr>\n",
       "    <tr>\n",
       "      <th>4</th>\n",
       "      <td>tt0000005</td>\n",
       "      <td>6.2</td>\n",
       "      <td>2687</td>\n",
       "    </tr>\n",
       "  </tbody>\n",
       "</table>\n",
       "</div>"
      ],
      "text/plain": [
       "      tconst  averageRating  numVotes\n",
       "0  tt0000001            5.7      2005\n",
       "1  tt0000002            5.8       269\n",
       "2  tt0000003            6.5      1907\n",
       "3  tt0000004            5.5       178\n",
       "4  tt0000005            6.2      2687"
      ]
     },
     "execution_count": 60,
     "metadata": {},
     "output_type": "execute_result"
    }
   ],
   "source": [
    "ratings_50 = ratings[ratings['numVotes']>50]\n",
    "ratings_50.head()"
   ]
  },
  {
   "cell_type": "markdown",
   "metadata": {
    "collapsed": false
   },
   "source": [
    "## C) Merge ratings and Movies dataframe based on imdb index"
   ]
  },
  {
   "cell_type": "code",
   "execution_count": 61,
   "metadata": {
    "ExecuteTime": {
     "end_time": "2023-11-08T10:02:34.277697300Z",
     "start_time": "2023-11-08T10:02:31.833387100Z"
    }
   },
   "outputs": [],
   "source": [
    "movie_ratings = pd.merge(result_merge, ratings_50, how='left').copy()"
   ]
  },
  {
   "cell_type": "code",
   "execution_count": 62,
   "metadata": {
    "ExecuteTime": {
     "end_time": "2023-11-08T10:02:34.357138Z",
     "start_time": "2023-11-08T10:02:34.281697100Z"
    }
   },
   "outputs": [
    {
     "data": {
      "text/html": [
       "<div>\n",
       "<style scoped>\n",
       "    .dataframe tbody tr th:only-of-type {\n",
       "        vertical-align: middle;\n",
       "    }\n",
       "\n",
       "    .dataframe tbody tr th {\n",
       "        vertical-align: top;\n",
       "    }\n",
       "\n",
       "    .dataframe thead th {\n",
       "        text-align: right;\n",
       "    }\n",
       "</style>\n",
       "<table border=\"1\" class=\"dataframe\">\n",
       "  <thead>\n",
       "    <tr style=\"text-align: right;\">\n",
       "      <th></th>\n",
       "      <th>Movie_name</th>\n",
       "      <th>Movie_box_office_revenu</th>\n",
       "      <th>Movie_genres</th>\n",
       "      <th>Movie_release_year</th>\n",
       "      <th>Wikipedia_movie_ID</th>\n",
       "      <th>originalTitle</th>\n",
       "      <th>tconst</th>\n",
       "      <th>averageRating</th>\n",
       "      <th>numVotes</th>\n",
       "    </tr>\n",
       "  </thead>\n",
       "  <tbody>\n",
       "    <tr>\n",
       "      <th>0</th>\n",
       "      <td>Ghosts of Mars</td>\n",
       "      <td>14010832.0</td>\n",
       "      <td>{\"/m/01jfsb\": \"Thriller\", \"/m/06n90\": \"Science...</td>\n",
       "      <td>2001</td>\n",
       "      <td>975900</td>\n",
       "      <td>Ghosts of Mars</td>\n",
       "      <td>tt0228333</td>\n",
       "      <td>4.9</td>\n",
       "      <td>56887.0</td>\n",
       "    </tr>\n",
       "    <tr>\n",
       "      <th>1</th>\n",
       "      <td>Ghosts of Mars</td>\n",
       "      <td>14010832.0</td>\n",
       "      <td>{\"/m/01jfsb\": \"Thriller\", \"/m/06n90\": \"Science...</td>\n",
       "      <td>2001</td>\n",
       "      <td>975900</td>\n",
       "      <td>Ghosts of Mars</td>\n",
       "      <td>tt0594845</td>\n",
       "      <td>NaN</td>\n",
       "      <td>NaN</td>\n",
       "    </tr>\n",
       "    <tr>\n",
       "      <th>2</th>\n",
       "      <td>Ghosts of Mars</td>\n",
       "      <td>14010832.0</td>\n",
       "      <td>{\"/m/01jfsb\": \"Thriller\", \"/m/06n90\": \"Science...</td>\n",
       "      <td>2001</td>\n",
       "      <td>975900</td>\n",
       "      <td>Ghosts of Mars</td>\n",
       "      <td>tt2450324</td>\n",
       "      <td>NaN</td>\n",
       "      <td>NaN</td>\n",
       "    </tr>\n",
       "    <tr>\n",
       "      <th>3</th>\n",
       "      <td>Getting Away with Murder: The JonBenét Ramsey ...</td>\n",
       "      <td>NaN</td>\n",
       "      <td>{\"/m/02n4kr\": \"Mystery\", \"/m/03bxz7\": \"Biograp...</td>\n",
       "      <td>2000</td>\n",
       "      <td>3196793</td>\n",
       "      <td>NaN</td>\n",
       "      <td>NaN</td>\n",
       "      <td>NaN</td>\n",
       "      <td>NaN</td>\n",
       "    </tr>\n",
       "    <tr>\n",
       "      <th>4</th>\n",
       "      <td>Brun bitter</td>\n",
       "      <td>NaN</td>\n",
       "      <td>{\"/m/0lsxr\": \"Crime Fiction\", \"/m/07s9rl0\": \"D...</td>\n",
       "      <td>1988</td>\n",
       "      <td>28463795</td>\n",
       "      <td>Brun bitter</td>\n",
       "      <td>tt0094806</td>\n",
       "      <td>NaN</td>\n",
       "      <td>NaN</td>\n",
       "    </tr>\n",
       "  </tbody>\n",
       "</table>\n",
       "</div>"
      ],
      "text/plain": [
       "                                          Movie_name  Movie_box_office_revenu  \\\n",
       "0                                     Ghosts of Mars               14010832.0   \n",
       "1                                     Ghosts of Mars               14010832.0   \n",
       "2                                     Ghosts of Mars               14010832.0   \n",
       "3  Getting Away with Murder: The JonBenét Ramsey ...                      NaN   \n",
       "4                                        Brun bitter                      NaN   \n",
       "\n",
       "                                        Movie_genres Movie_release_year  \\\n",
       "0  {\"/m/01jfsb\": \"Thriller\", \"/m/06n90\": \"Science...               2001   \n",
       "1  {\"/m/01jfsb\": \"Thriller\", \"/m/06n90\": \"Science...               2001   \n",
       "2  {\"/m/01jfsb\": \"Thriller\", \"/m/06n90\": \"Science...               2001   \n",
       "3  {\"/m/02n4kr\": \"Mystery\", \"/m/03bxz7\": \"Biograp...               2000   \n",
       "4  {\"/m/0lsxr\": \"Crime Fiction\", \"/m/07s9rl0\": \"D...               1988   \n",
       "\n",
       "   Wikipedia_movie_ID   originalTitle     tconst  averageRating  numVotes  \n",
       "0              975900  Ghosts of Mars  tt0228333            4.9   56887.0  \n",
       "1              975900  Ghosts of Mars  tt0594845            NaN       NaN  \n",
       "2              975900  Ghosts of Mars  tt2450324            NaN       NaN  \n",
       "3             3196793             NaN        NaN            NaN       NaN  \n",
       "4            28463795     Brun bitter  tt0094806            NaN       NaN  "
      ]
     },
     "execution_count": 62,
     "metadata": {},
     "output_type": "execute_result"
    }
   ],
   "source": [
    "movie_ratings.head()"
   ]
  },
  {
   "cell_type": "markdown",
   "metadata": {
    "collapsed": false
   },
   "source": [
    "## Clean the merged dataframe by removing duplicates"
   ]
  },
  {
   "cell_type": "code",
   "execution_count": 63,
   "metadata": {
    "ExecuteTime": {
     "end_time": "2023-11-08T10:03:10.301096600Z",
     "start_time": "2023-11-08T10:03:10.041096600Z"
    }
   },
   "outputs": [
    {
     "data": {
      "text/html": [
       "<div>\n",
       "<style scoped>\n",
       "    .dataframe tbody tr th:only-of-type {\n",
       "        vertical-align: middle;\n",
       "    }\n",
       "\n",
       "    .dataframe tbody tr th {\n",
       "        vertical-align: top;\n",
       "    }\n",
       "\n",
       "    .dataframe thead th {\n",
       "        text-align: right;\n",
       "    }\n",
       "</style>\n",
       "<table border=\"1\" class=\"dataframe\">\n",
       "  <thead>\n",
       "    <tr style=\"text-align: right;\">\n",
       "      <th></th>\n",
       "      <th>Movie_name</th>\n",
       "      <th>Movie_box_office_revenu</th>\n",
       "      <th>Movie_genres</th>\n",
       "      <th>Movie_release_year</th>\n",
       "      <th>Wikipedia_movie_ID</th>\n",
       "      <th>originalTitle</th>\n",
       "      <th>tconst</th>\n",
       "      <th>averageRating</th>\n",
       "      <th>numVotes</th>\n",
       "    </tr>\n",
       "  </thead>\n",
       "  <tbody>\n",
       "    <tr>\n",
       "      <th>0</th>\n",
       "      <td>Ghosts of Mars</td>\n",
       "      <td>14010832.0</td>\n",
       "      <td>{\"/m/01jfsb\": \"Thriller\", \"/m/06n90\": \"Science...</td>\n",
       "      <td>2001</td>\n",
       "      <td>975900</td>\n",
       "      <td>Ghosts of Mars</td>\n",
       "      <td>tt0228333</td>\n",
       "      <td>4.9</td>\n",
       "      <td>56887.0</td>\n",
       "    </tr>\n",
       "    <tr>\n",
       "      <th>1</th>\n",
       "      <td>The Sorcerer's Apprentice</td>\n",
       "      <td>NaN</td>\n",
       "      <td>{\"/m/0hqxf\": \"Family Film\", \"/m/01hmnh\": \"Fant...</td>\n",
       "      <td>2002</td>\n",
       "      <td>18998739</td>\n",
       "      <td>The Sorcerer's Apprentice</td>\n",
       "      <td>tt0048644</td>\n",
       "      <td>6.4</td>\n",
       "      <td>194.0</td>\n",
       "    </tr>\n",
       "    <tr>\n",
       "      <th>2</th>\n",
       "      <td>City of the Dead</td>\n",
       "      <td>NaN</td>\n",
       "      <td>{\"/m/03npn\": \"Horror\", \"/m/0fdjb\": \"Supernatur...</td>\n",
       "      <td>1960</td>\n",
       "      <td>2345652</td>\n",
       "      <td>City of the Dead</td>\n",
       "      <td>tt0599746</td>\n",
       "      <td>6.5</td>\n",
       "      <td>299.0</td>\n",
       "    </tr>\n",
       "    <tr>\n",
       "      <th>3</th>\n",
       "      <td>Sarah and Son</td>\n",
       "      <td>NaN</td>\n",
       "      <td>{\"/m/07s9rl0\": \"Drama\", \"/m/01g6gs\": \"Black-an...</td>\n",
       "      <td>1930</td>\n",
       "      <td>175026</td>\n",
       "      <td>Sarah and Son</td>\n",
       "      <td>tt0021335</td>\n",
       "      <td>5.4</td>\n",
       "      <td>299.0</td>\n",
       "    </tr>\n",
       "    <tr>\n",
       "      <th>4</th>\n",
       "      <td>The Mechanical Monsters</td>\n",
       "      <td>NaN</td>\n",
       "      <td>{\"/m/06n90\": \"Science Fiction\", \"/m/03k9fj\": \"...</td>\n",
       "      <td>NaN</td>\n",
       "      <td>11250635</td>\n",
       "      <td>The Mechanical Monsters</td>\n",
       "      <td>tt0033888</td>\n",
       "      <td>7.4</td>\n",
       "      <td>1607.0</td>\n",
       "    </tr>\n",
       "    <tr>\n",
       "      <th>...</th>\n",
       "      <td>...</td>\n",
       "      <td>...</td>\n",
       "      <td>...</td>\n",
       "      <td>...</td>\n",
       "      <td>...</td>\n",
       "      <td>...</td>\n",
       "      <td>...</td>\n",
       "      <td>...</td>\n",
       "      <td>...</td>\n",
       "    </tr>\n",
       "    <tr>\n",
       "      <th>38094</th>\n",
       "      <td>Guilty as Sin</td>\n",
       "      <td>22886222.0</td>\n",
       "      <td>{\"/m/01jfsb\": \"Thriller\", \"/m/0glj9q\": \"Erotic...</td>\n",
       "      <td>1993</td>\n",
       "      <td>664006</td>\n",
       "      <td>Guilty as Sin</td>\n",
       "      <td>tt0107057</td>\n",
       "      <td>5.7</td>\n",
       "      <td>5743.0</td>\n",
       "    </tr>\n",
       "    <tr>\n",
       "      <th>38095</th>\n",
       "      <td>Gopi Kishan</td>\n",
       "      <td>NaN</td>\n",
       "      <td>{\"/m/07s9rl0\": \"Drama\", \"/m/02kdv5l\": \"Action\"...</td>\n",
       "      <td>1994</td>\n",
       "      <td>15394941</td>\n",
       "      <td>Gopi Kishan</td>\n",
       "      <td>tt0109922</td>\n",
       "      <td>5.8</td>\n",
       "      <td>964.0</td>\n",
       "    </tr>\n",
       "    <tr>\n",
       "      <th>38096</th>\n",
       "      <td>Mermaids: The Body Found</td>\n",
       "      <td>NaN</td>\n",
       "      <td>{\"/m/07s9rl0\": \"Drama\"}</td>\n",
       "      <td>2011</td>\n",
       "      <td>35228177</td>\n",
       "      <td>Mermaids: The Body Found</td>\n",
       "      <td>tt1816585</td>\n",
       "      <td>4.6</td>\n",
       "      <td>1711.0</td>\n",
       "    </tr>\n",
       "    <tr>\n",
       "      <th>38097</th>\n",
       "      <td>Another Nice Mess</td>\n",
       "      <td>NaN</td>\n",
       "      <td>{\"/m/06nbt\": \"Satire\", \"/m/01z4y\": \"Comedy\"}</td>\n",
       "      <td>1972</td>\n",
       "      <td>9971909</td>\n",
       "      <td>Another Nice Mess</td>\n",
       "      <td>tt0362411</td>\n",
       "      <td>5.8</td>\n",
       "      <td>111.0</td>\n",
       "    </tr>\n",
       "    <tr>\n",
       "      <th>38098</th>\n",
       "      <td>Spliced</td>\n",
       "      <td>NaN</td>\n",
       "      <td>{\"/m/01jfsb\": \"Thriller\", \"/m/03npn\": \"Horror\"...</td>\n",
       "      <td>2002</td>\n",
       "      <td>12476867</td>\n",
       "      <td>Spliced</td>\n",
       "      <td>tt1596561</td>\n",
       "      <td>7.0</td>\n",
       "      <td>304.0</td>\n",
       "    </tr>\n",
       "  </tbody>\n",
       "</table>\n",
       "<p>38099 rows × 9 columns</p>\n",
       "</div>"
      ],
      "text/plain": [
       "                      Movie_name  Movie_box_office_revenu  \\\n",
       "0                 Ghosts of Mars               14010832.0   \n",
       "1      The Sorcerer's Apprentice                      NaN   \n",
       "2               City of the Dead                      NaN   \n",
       "3                  Sarah and Son                      NaN   \n",
       "4        The Mechanical Monsters                      NaN   \n",
       "...                          ...                      ...   \n",
       "38094              Guilty as Sin               22886222.0   \n",
       "38095                Gopi Kishan                      NaN   \n",
       "38096   Mermaids: The Body Found                      NaN   \n",
       "38097          Another Nice Mess                      NaN   \n",
       "38098                    Spliced                      NaN   \n",
       "\n",
       "                                            Movie_genres Movie_release_year  \\\n",
       "0      {\"/m/01jfsb\": \"Thriller\", \"/m/06n90\": \"Science...               2001   \n",
       "1      {\"/m/0hqxf\": \"Family Film\", \"/m/01hmnh\": \"Fant...               2002   \n",
       "2      {\"/m/03npn\": \"Horror\", \"/m/0fdjb\": \"Supernatur...               1960   \n",
       "3      {\"/m/07s9rl0\": \"Drama\", \"/m/01g6gs\": \"Black-an...               1930   \n",
       "4      {\"/m/06n90\": \"Science Fiction\", \"/m/03k9fj\": \"...                NaN   \n",
       "...                                                  ...                ...   \n",
       "38094  {\"/m/01jfsb\": \"Thriller\", \"/m/0glj9q\": \"Erotic...               1993   \n",
       "38095  {\"/m/07s9rl0\": \"Drama\", \"/m/02kdv5l\": \"Action\"...               1994   \n",
       "38096                            {\"/m/07s9rl0\": \"Drama\"}               2011   \n",
       "38097       {\"/m/06nbt\": \"Satire\", \"/m/01z4y\": \"Comedy\"}               1972   \n",
       "38098  {\"/m/01jfsb\": \"Thriller\", \"/m/03npn\": \"Horror\"...               2002   \n",
       "\n",
       "       Wikipedia_movie_ID              originalTitle     tconst  \\\n",
       "0                  975900             Ghosts of Mars  tt0228333   \n",
       "1                18998739  The Sorcerer's Apprentice  tt0048644   \n",
       "2                 2345652           City of the Dead  tt0599746   \n",
       "3                  175026              Sarah and Son  tt0021335   \n",
       "4                11250635    The Mechanical Monsters  tt0033888   \n",
       "...                   ...                        ...        ...   \n",
       "38094              664006              Guilty as Sin  tt0107057   \n",
       "38095            15394941                Gopi Kishan  tt0109922   \n",
       "38096            35228177   Mermaids: The Body Found  tt1816585   \n",
       "38097             9971909          Another Nice Mess  tt0362411   \n",
       "38098            12476867                    Spliced  tt1596561   \n",
       "\n",
       "       averageRating  numVotes  \n",
       "0                4.9   56887.0  \n",
       "1                6.4     194.0  \n",
       "2                6.5     299.0  \n",
       "3                5.4     299.0  \n",
       "4                7.4    1607.0  \n",
       "...              ...       ...  \n",
       "38094            5.7    5743.0  \n",
       "38095            5.8     964.0  \n",
       "38096            4.6    1711.0  \n",
       "38097            5.8     111.0  \n",
       "38098            7.0     304.0  \n",
       "\n",
       "[38099 rows x 9 columns]"
      ]
     },
     "execution_count": 63,
     "metadata": {},
     "output_type": "execute_result"
    }
   ],
   "source": [
    "# Remove duplicates first based on the 'originalTitle' column\n",
    "merged_df_no_duplicates = movie_ratings.drop_duplicates(subset='originalTitle', keep='first').copy()\n",
    "\n",
    "# Filter out rows with NaN in 'averageRating'\n",
    "filtered_df = merged_df_no_duplicates.dropna(subset=['averageRating'])\n",
    "\n",
    "# Reset the index of the resulting DataFrame\n",
    "filtered_df.reset_index(drop=True, inplace=True)\n",
    "\n",
    "filtered_df"
   ]
  },
  {
   "cell_type": "code",
   "execution_count": 81,
   "metadata": {
    "ExecuteTime": {
     "end_time": "2023-11-08T10:04:20.434353Z",
     "start_time": "2023-11-08T10:04:17.779310900Z"
    }
   },
   "outputs": [
    {
     "data": {
      "text/html": [
       "<div>\n",
       "<style scoped>\n",
       "    .dataframe tbody tr th:only-of-type {\n",
       "        vertical-align: middle;\n",
       "    }\n",
       "\n",
       "    .dataframe tbody tr th {\n",
       "        vertical-align: top;\n",
       "    }\n",
       "\n",
       "    .dataframe thead th {\n",
       "        text-align: right;\n",
       "    }\n",
       "</style>\n",
       "<table border=\"1\" class=\"dataframe\">\n",
       "  <thead>\n",
       "    <tr style=\"text-align: right;\">\n",
       "      <th></th>\n",
       "      <th>wiki_movie_id</th>\n",
       "      <th>freebase_movie_id</th>\n",
       "      <th>release_date</th>\n",
       "      <th>character_name</th>\n",
       "      <th>actor_birth_date</th>\n",
       "      <th>actor_gender</th>\n",
       "      <th>actor_height_m</th>\n",
       "      <th>actor_ethnicity_id</th>\n",
       "      <th>actor_name</th>\n",
       "      <th>actor_age_at_release</th>\n",
       "      <th>...</th>\n",
       "      <th>actor_id</th>\n",
       "      <th>Movie_name</th>\n",
       "      <th>Movie_box_office_revenu</th>\n",
       "      <th>Movie_genres</th>\n",
       "      <th>Movie_release_year</th>\n",
       "      <th>Wikipedia_movie_ID</th>\n",
       "      <th>originalTitle</th>\n",
       "      <th>tconst</th>\n",
       "      <th>averageRating</th>\n",
       "      <th>numVotes</th>\n",
       "    </tr>\n",
       "  </thead>\n",
       "  <tbody>\n",
       "    <tr>\n",
       "      <th>0</th>\n",
       "      <td>975900</td>\n",
       "      <td>/m/03vyhn</td>\n",
       "      <td>2001-08-24</td>\n",
       "      <td>Akooshay</td>\n",
       "      <td>1958-08-26</td>\n",
       "      <td>F</td>\n",
       "      <td>1.620</td>\n",
       "      <td>NaN</td>\n",
       "      <td>Wanda De Jesus</td>\n",
       "      <td>42.0</td>\n",
       "      <td>...</td>\n",
       "      <td>/m/03wcfv7</td>\n",
       "      <td>Ghosts of Mars</td>\n",
       "      <td>14010832.0</td>\n",
       "      <td>{\"/m/01jfsb\": \"Thriller\", \"/m/06n90\": \"Science...</td>\n",
       "      <td>2001</td>\n",
       "      <td>975900.0</td>\n",
       "      <td>Ghosts of Mars</td>\n",
       "      <td>tt0228333</td>\n",
       "      <td>4.9</td>\n",
       "      <td>56887.0</td>\n",
       "    </tr>\n",
       "    <tr>\n",
       "      <th>1</th>\n",
       "      <td>975900</td>\n",
       "      <td>/m/03vyhn</td>\n",
       "      <td>2001-08-24</td>\n",
       "      <td>Lieutenant Melanie Ballard</td>\n",
       "      <td>1974-08-15</td>\n",
       "      <td>F</td>\n",
       "      <td>1.780</td>\n",
       "      <td>/m/044038p</td>\n",
       "      <td>Natasha Henstridge</td>\n",
       "      <td>27.0</td>\n",
       "      <td>...</td>\n",
       "      <td>/m/0346l4</td>\n",
       "      <td>Ghosts of Mars</td>\n",
       "      <td>14010832.0</td>\n",
       "      <td>{\"/m/01jfsb\": \"Thriller\", \"/m/06n90\": \"Science...</td>\n",
       "      <td>2001</td>\n",
       "      <td>975900.0</td>\n",
       "      <td>Ghosts of Mars</td>\n",
       "      <td>tt0228333</td>\n",
       "      <td>4.9</td>\n",
       "      <td>56887.0</td>\n",
       "    </tr>\n",
       "    <tr>\n",
       "      <th>2</th>\n",
       "      <td>975900</td>\n",
       "      <td>/m/03vyhn</td>\n",
       "      <td>2001-08-24</td>\n",
       "      <td>Desolation Williams</td>\n",
       "      <td>1969-06-15</td>\n",
       "      <td>M</td>\n",
       "      <td>1.727</td>\n",
       "      <td>/m/0x67</td>\n",
       "      <td>Ice Cube</td>\n",
       "      <td>32.0</td>\n",
       "      <td>...</td>\n",
       "      <td>/m/01vw26l</td>\n",
       "      <td>Ghosts of Mars</td>\n",
       "      <td>14010832.0</td>\n",
       "      <td>{\"/m/01jfsb\": \"Thriller\", \"/m/06n90\": \"Science...</td>\n",
       "      <td>2001</td>\n",
       "      <td>975900.0</td>\n",
       "      <td>Ghosts of Mars</td>\n",
       "      <td>tt0228333</td>\n",
       "      <td>4.9</td>\n",
       "      <td>56887.0</td>\n",
       "    </tr>\n",
       "    <tr>\n",
       "      <th>3</th>\n",
       "      <td>975900</td>\n",
       "      <td>/m/03vyhn</td>\n",
       "      <td>2001-08-24</td>\n",
       "      <td>Sgt Jericho Butler</td>\n",
       "      <td>1967-09-12</td>\n",
       "      <td>M</td>\n",
       "      <td>1.750</td>\n",
       "      <td>NaN</td>\n",
       "      <td>Jason Statham</td>\n",
       "      <td>33.0</td>\n",
       "      <td>...</td>\n",
       "      <td>/m/034hyc</td>\n",
       "      <td>Ghosts of Mars</td>\n",
       "      <td>14010832.0</td>\n",
       "      <td>{\"/m/01jfsb\": \"Thriller\", \"/m/06n90\": \"Science...</td>\n",
       "      <td>2001</td>\n",
       "      <td>975900.0</td>\n",
       "      <td>Ghosts of Mars</td>\n",
       "      <td>tt0228333</td>\n",
       "      <td>4.9</td>\n",
       "      <td>56887.0</td>\n",
       "    </tr>\n",
       "    <tr>\n",
       "      <th>4</th>\n",
       "      <td>975900</td>\n",
       "      <td>/m/03vyhn</td>\n",
       "      <td>2001-08-24</td>\n",
       "      <td>Bashira Kincaid</td>\n",
       "      <td>1977-09-25</td>\n",
       "      <td>F</td>\n",
       "      <td>1.650</td>\n",
       "      <td>NaN</td>\n",
       "      <td>Clea DuVall</td>\n",
       "      <td>23.0</td>\n",
       "      <td>...</td>\n",
       "      <td>/m/01y9xg</td>\n",
       "      <td>Ghosts of Mars</td>\n",
       "      <td>14010832.0</td>\n",
       "      <td>{\"/m/01jfsb\": \"Thriller\", \"/m/06n90\": \"Science...</td>\n",
       "      <td>2001</td>\n",
       "      <td>975900.0</td>\n",
       "      <td>Ghosts of Mars</td>\n",
       "      <td>tt0228333</td>\n",
       "      <td>4.9</td>\n",
       "      <td>56887.0</td>\n",
       "    </tr>\n",
       "  </tbody>\n",
       "</table>\n",
       "<p>5 rows × 22 columns</p>\n",
       "</div>"
      ],
      "text/plain": [
       "   wiki_movie_id freebase_movie_id release_date              character_name  \\\n",
       "0         975900         /m/03vyhn   2001-08-24                    Akooshay   \n",
       "1         975900         /m/03vyhn   2001-08-24  Lieutenant Melanie Ballard   \n",
       "2         975900         /m/03vyhn   2001-08-24         Desolation Williams   \n",
       "3         975900         /m/03vyhn   2001-08-24          Sgt Jericho Butler   \n",
       "4         975900         /m/03vyhn   2001-08-24             Bashira Kincaid   \n",
       "\n",
       "  actor_birth_date actor_gender  actor_height_m actor_ethnicity_id  \\\n",
       "0       1958-08-26            F           1.620                NaN   \n",
       "1       1974-08-15            F           1.780         /m/044038p   \n",
       "2       1969-06-15            M           1.727            /m/0x67   \n",
       "3       1967-09-12            M           1.750                NaN   \n",
       "4       1977-09-25            F           1.650                NaN   \n",
       "\n",
       "           actor_name  actor_age_at_release  ...    actor_id      Movie_name  \\\n",
       "0      Wanda De Jesus                  42.0  ...  /m/03wcfv7  Ghosts of Mars   \n",
       "1  Natasha Henstridge                  27.0  ...   /m/0346l4  Ghosts of Mars   \n",
       "2            Ice Cube                  32.0  ...  /m/01vw26l  Ghosts of Mars   \n",
       "3       Jason Statham                  33.0  ...   /m/034hyc  Ghosts of Mars   \n",
       "4         Clea DuVall                  23.0  ...   /m/01y9xg  Ghosts of Mars   \n",
       "\n",
       "  Movie_box_office_revenu                                       Movie_genres  \\\n",
       "0              14010832.0  {\"/m/01jfsb\": \"Thriller\", \"/m/06n90\": \"Science...   \n",
       "1              14010832.0  {\"/m/01jfsb\": \"Thriller\", \"/m/06n90\": \"Science...   \n",
       "2              14010832.0  {\"/m/01jfsb\": \"Thriller\", \"/m/06n90\": \"Science...   \n",
       "3              14010832.0  {\"/m/01jfsb\": \"Thriller\", \"/m/06n90\": \"Science...   \n",
       "4              14010832.0  {\"/m/01jfsb\": \"Thriller\", \"/m/06n90\": \"Science...   \n",
       "\n",
       "   Movie_release_year Wikipedia_movie_ID   originalTitle     tconst  \\\n",
       "0                2001           975900.0  Ghosts of Mars  tt0228333   \n",
       "1                2001           975900.0  Ghosts of Mars  tt0228333   \n",
       "2                2001           975900.0  Ghosts of Mars  tt0228333   \n",
       "3                2001           975900.0  Ghosts of Mars  tt0228333   \n",
       "4                2001           975900.0  Ghosts of Mars  tt0228333   \n",
       "\n",
       "  averageRating numVotes  \n",
       "0           4.9  56887.0  \n",
       "1           4.9  56887.0  \n",
       "2           4.9  56887.0  \n",
       "3           4.9  56887.0  \n",
       "4           4.9  56887.0  \n",
       "\n",
       "[5 rows x 22 columns]"
      ]
     },
     "execution_count": 81,
     "metadata": {},
     "output_type": "execute_result"
    }
   ],
   "source": [
    "test_merge = pd.merge(character, filtered_df, how='left', left_on='wiki_movie_id', right_on='Wikipedia_movie_ID').copy()\n",
    "test_merge.head()"
   ]
  },
  {
   "cell_type": "code",
   "execution_count": 82,
   "metadata": {
    "ExecuteTime": {
     "end_time": "2023-11-08T10:04:20.564416800Z",
     "start_time": "2023-11-08T10:04:20.426315200Z"
    }
   },
   "outputs": [
    {
     "name": "stdout",
     "output_type": "stream",
     "text": [
      "The number of NA averageRating value in the merged dataframe: 0.423\n"
     ]
    }
   ],
   "source": [
    "print(f\"The number of NA averageRating value in the merged dataframe: {test_merge['averageRating'].isna().sum()/test_merge['averageRating'].size:.3f}\")"
   ]
  },
  {
   "cell_type": "markdown",
   "metadata": {
    "collapsed": false
   },
   "source": [
    "### Get birth year"
   ]
  },
  {
   "cell_type": "code",
   "execution_count": 83,
   "metadata": {
    "ExecuteTime": {
     "end_time": "2023-11-08T10:04:21.157981900Z",
     "start_time": "2023-11-08T10:04:20.472331900Z"
    }
   },
   "outputs": [],
   "source": [
    "# This for the more classical dates\n",
    "test_merge['birth_year'] =  pd.to_datetime(test_merge['actor_birth_date'], errors='coerce').dt.year\n",
    "# And to manage other ones like 2007-03, 2007\n",
    "test_merge['birth_year'] = test_merge['actor_birth_date'].apply(lambda x: int(str(x).split('-')[0]) if not pd.isna(x) else pd.NA)"
   ]
  },
  {
   "cell_type": "code",
   "execution_count": 84,
   "metadata": {},
   "outputs": [],
   "source": [
    "# Just clean the unrelevant dates\n",
    "test_merge.loc[test_merge['birth_year'] > 2023, 'birth_year'] = pd.NA\n",
    "test_merge.loc[test_merge['birth_year'] < 1800, 'birth_year'] = pd.NA"
   ]
  },
  {
   "cell_type": "markdown",
   "metadata": {
    "collapsed": false
   },
   "source": [
    "### Get the age at release"
   ]
  },
  {
   "cell_type": "code",
   "execution_count": 87,
   "metadata": {
    "ExecuteTime": {
     "end_time": "2023-11-08T10:05:07.326854100Z",
     "start_time": "2023-11-08T10:05:07.123518100Z"
    }
   },
   "outputs": [
    {
     "data": {
      "text/html": [
       "<div>\n",
       "<style scoped>\n",
       "    .dataframe tbody tr th:only-of-type {\n",
       "        vertical-align: middle;\n",
       "    }\n",
       "\n",
       "    .dataframe tbody tr th {\n",
       "        vertical-align: top;\n",
       "    }\n",
       "\n",
       "    .dataframe thead th {\n",
       "        text-align: right;\n",
       "    }\n",
       "</style>\n",
       "<table border=\"1\" class=\"dataframe\">\n",
       "  <thead>\n",
       "    <tr style=\"text-align: right;\">\n",
       "      <th></th>\n",
       "      <th>wiki_movie_id</th>\n",
       "      <th>freebase_movie_id</th>\n",
       "      <th>release_date</th>\n",
       "      <th>character_name</th>\n",
       "      <th>actor_birth_date</th>\n",
       "      <th>actor_gender</th>\n",
       "      <th>actor_height_m</th>\n",
       "      <th>actor_ethnicity_id</th>\n",
       "      <th>actor_name</th>\n",
       "      <th>actor_age_at_release</th>\n",
       "      <th>...</th>\n",
       "      <th>Movie_box_office_revenu</th>\n",
       "      <th>Movie_genres</th>\n",
       "      <th>Movie_release_year</th>\n",
       "      <th>Wikipedia_movie_ID</th>\n",
       "      <th>originalTitle</th>\n",
       "      <th>tconst</th>\n",
       "      <th>averageRating</th>\n",
       "      <th>numVotes</th>\n",
       "      <th>birth_year</th>\n",
       "      <th>age_at_release</th>\n",
       "    </tr>\n",
       "  </thead>\n",
       "  <tbody>\n",
       "    <tr>\n",
       "      <th>0</th>\n",
       "      <td>975900</td>\n",
       "      <td>/m/03vyhn</td>\n",
       "      <td>2001-08-24</td>\n",
       "      <td>Akooshay</td>\n",
       "      <td>1958-08-26</td>\n",
       "      <td>F</td>\n",
       "      <td>1.620</td>\n",
       "      <td>NaN</td>\n",
       "      <td>Wanda De Jesus</td>\n",
       "      <td>42.0</td>\n",
       "      <td>...</td>\n",
       "      <td>14010832.0</td>\n",
       "      <td>{\"/m/01jfsb\": \"Thriller\", \"/m/06n90\": \"Science...</td>\n",
       "      <td>2001.0</td>\n",
       "      <td>975900.0</td>\n",
       "      <td>Ghosts of Mars</td>\n",
       "      <td>tt0228333</td>\n",
       "      <td>4.9</td>\n",
       "      <td>56887.0</td>\n",
       "      <td>1958</td>\n",
       "      <td>43.0</td>\n",
       "    </tr>\n",
       "    <tr>\n",
       "      <th>1</th>\n",
       "      <td>975900</td>\n",
       "      <td>/m/03vyhn</td>\n",
       "      <td>2001-08-24</td>\n",
       "      <td>Lieutenant Melanie Ballard</td>\n",
       "      <td>1974-08-15</td>\n",
       "      <td>F</td>\n",
       "      <td>1.780</td>\n",
       "      <td>/m/044038p</td>\n",
       "      <td>Natasha Henstridge</td>\n",
       "      <td>27.0</td>\n",
       "      <td>...</td>\n",
       "      <td>14010832.0</td>\n",
       "      <td>{\"/m/01jfsb\": \"Thriller\", \"/m/06n90\": \"Science...</td>\n",
       "      <td>2001.0</td>\n",
       "      <td>975900.0</td>\n",
       "      <td>Ghosts of Mars</td>\n",
       "      <td>tt0228333</td>\n",
       "      <td>4.9</td>\n",
       "      <td>56887.0</td>\n",
       "      <td>1974</td>\n",
       "      <td>27.0</td>\n",
       "    </tr>\n",
       "    <tr>\n",
       "      <th>2</th>\n",
       "      <td>975900</td>\n",
       "      <td>/m/03vyhn</td>\n",
       "      <td>2001-08-24</td>\n",
       "      <td>Desolation Williams</td>\n",
       "      <td>1969-06-15</td>\n",
       "      <td>M</td>\n",
       "      <td>1.727</td>\n",
       "      <td>/m/0x67</td>\n",
       "      <td>Ice Cube</td>\n",
       "      <td>32.0</td>\n",
       "      <td>...</td>\n",
       "      <td>14010832.0</td>\n",
       "      <td>{\"/m/01jfsb\": \"Thriller\", \"/m/06n90\": \"Science...</td>\n",
       "      <td>2001.0</td>\n",
       "      <td>975900.0</td>\n",
       "      <td>Ghosts of Mars</td>\n",
       "      <td>tt0228333</td>\n",
       "      <td>4.9</td>\n",
       "      <td>56887.0</td>\n",
       "      <td>1969</td>\n",
       "      <td>32.0</td>\n",
       "    </tr>\n",
       "    <tr>\n",
       "      <th>3</th>\n",
       "      <td>975900</td>\n",
       "      <td>/m/03vyhn</td>\n",
       "      <td>2001-08-24</td>\n",
       "      <td>Sgt Jericho Butler</td>\n",
       "      <td>1967-09-12</td>\n",
       "      <td>M</td>\n",
       "      <td>1.750</td>\n",
       "      <td>NaN</td>\n",
       "      <td>Jason Statham</td>\n",
       "      <td>33.0</td>\n",
       "      <td>...</td>\n",
       "      <td>14010832.0</td>\n",
       "      <td>{\"/m/01jfsb\": \"Thriller\", \"/m/06n90\": \"Science...</td>\n",
       "      <td>2001.0</td>\n",
       "      <td>975900.0</td>\n",
       "      <td>Ghosts of Mars</td>\n",
       "      <td>tt0228333</td>\n",
       "      <td>4.9</td>\n",
       "      <td>56887.0</td>\n",
       "      <td>1967</td>\n",
       "      <td>34.0</td>\n",
       "    </tr>\n",
       "    <tr>\n",
       "      <th>4</th>\n",
       "      <td>975900</td>\n",
       "      <td>/m/03vyhn</td>\n",
       "      <td>2001-08-24</td>\n",
       "      <td>Bashira Kincaid</td>\n",
       "      <td>1977-09-25</td>\n",
       "      <td>F</td>\n",
       "      <td>1.650</td>\n",
       "      <td>NaN</td>\n",
       "      <td>Clea DuVall</td>\n",
       "      <td>23.0</td>\n",
       "      <td>...</td>\n",
       "      <td>14010832.0</td>\n",
       "      <td>{\"/m/01jfsb\": \"Thriller\", \"/m/06n90\": \"Science...</td>\n",
       "      <td>2001.0</td>\n",
       "      <td>975900.0</td>\n",
       "      <td>Ghosts of Mars</td>\n",
       "      <td>tt0228333</td>\n",
       "      <td>4.9</td>\n",
       "      <td>56887.0</td>\n",
       "      <td>1977</td>\n",
       "      <td>24.0</td>\n",
       "    </tr>\n",
       "  </tbody>\n",
       "</table>\n",
       "<p>5 rows × 24 columns</p>\n",
       "</div>"
      ],
      "text/plain": [
       "   wiki_movie_id freebase_movie_id release_date              character_name  \\\n",
       "0         975900         /m/03vyhn   2001-08-24                    Akooshay   \n",
       "1         975900         /m/03vyhn   2001-08-24  Lieutenant Melanie Ballard   \n",
       "2         975900         /m/03vyhn   2001-08-24         Desolation Williams   \n",
       "3         975900         /m/03vyhn   2001-08-24          Sgt Jericho Butler   \n",
       "4         975900         /m/03vyhn   2001-08-24             Bashira Kincaid   \n",
       "\n",
       "  actor_birth_date actor_gender  actor_height_m actor_ethnicity_id  \\\n",
       "0       1958-08-26            F           1.620                NaN   \n",
       "1       1974-08-15            F           1.780         /m/044038p   \n",
       "2       1969-06-15            M           1.727            /m/0x67   \n",
       "3       1967-09-12            M           1.750                NaN   \n",
       "4       1977-09-25            F           1.650                NaN   \n",
       "\n",
       "           actor_name  actor_age_at_release  ... Movie_box_office_revenu  \\\n",
       "0      Wanda De Jesus                  42.0  ...              14010832.0   \n",
       "1  Natasha Henstridge                  27.0  ...              14010832.0   \n",
       "2            Ice Cube                  32.0  ...              14010832.0   \n",
       "3       Jason Statham                  33.0  ...              14010832.0   \n",
       "4         Clea DuVall                  23.0  ...              14010832.0   \n",
       "\n",
       "                                        Movie_genres Movie_release_year  \\\n",
       "0  {\"/m/01jfsb\": \"Thriller\", \"/m/06n90\": \"Science...             2001.0   \n",
       "1  {\"/m/01jfsb\": \"Thriller\", \"/m/06n90\": \"Science...             2001.0   \n",
       "2  {\"/m/01jfsb\": \"Thriller\", \"/m/06n90\": \"Science...             2001.0   \n",
       "3  {\"/m/01jfsb\": \"Thriller\", \"/m/06n90\": \"Science...             2001.0   \n",
       "4  {\"/m/01jfsb\": \"Thriller\", \"/m/06n90\": \"Science...             2001.0   \n",
       "\n",
       "  Wikipedia_movie_ID   originalTitle     tconst  averageRating  numVotes  \\\n",
       "0           975900.0  Ghosts of Mars  tt0228333            4.9   56887.0   \n",
       "1           975900.0  Ghosts of Mars  tt0228333            4.9   56887.0   \n",
       "2           975900.0  Ghosts of Mars  tt0228333            4.9   56887.0   \n",
       "3           975900.0  Ghosts of Mars  tt0228333            4.9   56887.0   \n",
       "4           975900.0  Ghosts of Mars  tt0228333            4.9   56887.0   \n",
       "\n",
       "  birth_year age_at_release  \n",
       "0       1958           43.0  \n",
       "1       1974           27.0  \n",
       "2       1969           32.0  \n",
       "3       1967           34.0  \n",
       "4       1977           24.0  \n",
       "\n",
       "[5 rows x 24 columns]"
      ]
     },
     "execution_count": 87,
     "metadata": {},
     "output_type": "execute_result"
    }
   ],
   "source": [
    "# Assuming 'Movie_release_year' and 'birth_year' are in string format, you can convert them to integers.\n",
    "test_merge['Movie_release_year'] = pd.to_numeric(test_merge['Movie_release_year'])\n",
    "\n",
    "# Now, calculate 'age_at_release' as the difference between 'Movie_release_year' and 'birth_year'.\n",
    "test_merge['age_at_release'] = test_merge['Movie_release_year'] - test_merge['birth_year']"
   ]
  },
  {
   "cell_type": "markdown",
   "metadata": {},
   "source": [
    "### Filter existing one and compare"
   ]
  },
  {
   "cell_type": "code",
   "execution_count": 108,
   "metadata": {},
   "outputs": [
    {
     "name": "stdout",
     "output_type": "stream",
     "text": [
      "Count of impossible ages: 381\n"
     ]
    }
   ],
   "source": [
    "# Just clean the ages\n",
    "print(\"Range of ages:\", np.nanmin(character['actor_age_at_release']), np.nanmax(character['actor_age_at_release'])) # (-7896.0, 103.0)\n",
    "print(f\"Count of impossible ages: {(test_merge['actor_age_at_release'] < 0).sum()}\")\n",
    "test_merge.loc[test_merge['actor_age_at_release'] < 0, 'actor_age_at_release'] = pd.NA"
   ]
  },
  {
   "cell_type": "code",
   "execution_count": 109,
   "metadata": {},
   "outputs": [
    {
     "data": {
      "text/plain": [
       "(292556, 292175, 201867)"
      ]
     },
     "execution_count": 109,
     "metadata": {},
     "output_type": "execute_result"
    }
   ],
   "source": [
    "character['actor_age_at_release'].count(), test_merge['actor_age_at_release'].count(), test_merge['age_at_release'].count()"
   ]
  },
  {
   "cell_type": "code",
   "execution_count": 110,
   "metadata": {},
   "outputs": [],
   "source": [
    "# Define your age group bins and labels\n",
    "age_bins = [0, 18, 25, 35, 50, 100]\n",
    "age_labels = ['0-17', '18-24', '25-34', '35-49', '50+']\n",
    "\n",
    "# Use the cut function to create age groups\n",
    "test_merge['age_group'] = pd.cut(test_merge['actor_age_at_release'], bins=age_bins, labels=age_labels)"
   ]
  },
  {
   "cell_type": "code",
   "execution_count": 111,
   "metadata": {
    "ExecuteTime": {
     "end_time": "2023-11-08T10:05:38.666747500Z",
     "start_time": "2023-11-08T10:05:38.206392400Z"
    },
    "collapsed": false
   },
   "outputs": [
    {
     "data": {
      "text/plain": [
       "<Axes: ylabel='Frequency'>"
      ]
     },
     "execution_count": 111,
     "metadata": {},
     "output_type": "execute_result"
    },
    {
     "data": {
      "image/png": "[encoded data removed]",
      "text/plain": [
       "<Figure size 640x480 with 1 Axes>"
      ]
     },
     "metadata": {},
     "output_type": "display_data"
    }
   ],
   "source": [
    "test_merge['actor_age_at_release'].plot.hist()"
   ]
  },
  {
   "cell_type": "markdown",
   "metadata": {
    "collapsed": false
   },
   "source": [
    "## Plot as Ridgelines"
   ]
  },
  {
   "cell_type": "code",
   "execution_count": 142,
   "metadata": {
    "ExecuteTime": {
     "end_time": "2023-11-08T10:12:00.996055200Z",
     "start_time": "2023-11-08T10:11:56.481874400Z"
    }
   },
   "outputs": [
    {
     "name": "stderr",
     "output_type": "stream",
     "text": [
      "c:\\Users\\gezas\\.conda\\envs\\ada\\lib\\site-packages\\seaborn\\axisgrid.py:118: UserWarning: The figure layout has changed to tight\n",
      "  self._figure.tight_layout(*args, **kwargs)\n",
      "c:\\Users\\gezas\\.conda\\envs\\ada\\lib\\site-packages\\seaborn\\axisgrid.py:118: UserWarning: The figure layout has changed to tight\n",
      "  self._figure.tight_layout(*args, **kwargs)\n",
      "c:\\Users\\gezas\\.conda\\envs\\ada\\lib\\site-packages\\seaborn\\axisgrid.py:118: UserWarning: The figure layout has changed to tight\n",
      "  self._figure.tight_layout(*args, **kwargs)\n"
     ]
    },
    {
     "data": {
      "image/png": "[encoded data removed]",
      "text/plain": [
       "<Figure size 1125x375 with 5 Axes>"
      ]
     },
     "metadata": {},
     "output_type": "display_data"
    }
   ],
   "source": [
    "# getting necessary libraries\n",
    "import numpy as np\n",
    "import pandas as pd\n",
    "import seaborn as sns\n",
    "import matplotlib.pyplot as plt\n",
    "sns.set_theme(style=\"white\", rc={\"axes.facecolor\": (0, 0, 0, 0)})\n",
    "\n",
    "final_df = test_merge[['actor_age_at_release', 'age_group', 'averageRating']]\n",
    "\n",
    "# we generate a color palette with Seaborn.color_palette()\n",
    "pal = sns.color_palette(palette='coolwarm', n_colors=12)\n",
    "\n",
    "# in the sns.FacetGrid class, the 'hue' argument is the one that is the one that will be represented by colors with 'palette'\n",
    "g = sns.FacetGrid(final_df, row='age_group', aspect=15, height=0.75, palette=pal)\n",
    "\n",
    "# then we add the densities kdeplots for each month\n",
    "g.map(sns.kdeplot, 'averageRating',\n",
    "      bw_adjust=1, clip=[2,10],\n",
    "      fill=True, alpha=1, linewidth=1.5)\n",
    "\n",
    "# here we add a white line that represents the contour of each kdeplot\n",
    "g.map(sns.kdeplot, 'averageRating', \n",
    "      bw_adjust=1, clip=[2,10], \n",
    "      color=\"w\", lw=2)\n",
    "\n",
    "# here we add a horizontal line for each plot\n",
    "g.map(plt.axhline, y=0,\n",
    "      lw=2, clip_on=False)\n",
    "\n",
    "# we loop over the FacetGrid figure axes (g.axes.flat) and add the month as text with the right color\n",
    "# notice how ax.lines[-1].get_color() enables you to access the last line's color in each matplotlib.Axes\n",
    "for i, ax in enumerate(g.axes.flat):\n",
    "    ax.text(2, 0.02, age_labels[i],\n",
    "            fontweight='bold', fontsize=15,\n",
    "            color=ax.lines[-1].get_color())\n",
    "    ax.set_ylabel('')\n",
    "    \n",
    "# we use matplotlib.Figure.subplots_adjust() function to get the subplots to overlap\n",
    "g.fig.subplots_adjust(hspace=-0.3)\n",
    "\n",
    "# eventually we remove axes titles, yticks and spines\n",
    "g.set_titles(\"\")\n",
    "g.set(yticks=[])\n",
    "g.despine(bottom=True, left=True)\n",
    "\n",
    "plt.setp(ax.get_xticklabels(), fontsize=15, fontweight='bold')\n",
    "plt.xlabel('IMDB ratings', fontweight='bold', fontsize=15)\n",
    "\n",
    "g.fig.suptitle('Average ratings per age groups',\n",
    "               ha='right',\n",
    "               fontsize=20,\n",
    "               fontweight=20)\n",
    "\n",
    "plt.show()"
   ]
  },
  {
   "cell_type": "code",
   "execution_count": 130,
   "metadata": {},
   "outputs": [
    {
     "data": {
      "text/plain": [
       "<Axes: xlabel='averageRating', ylabel='Density'>"
      ]
     },
     "execution_count": 130,
     "metadata": {},
     "output_type": "execute_result"
    },
    {
     "data": {
      "image/png": "[encoded data removed]",
      "text/plain": [
       "<Figure size 800x300 with 1 Axes>"
      ]
     },
     "metadata": {},
     "output_type": "display_data"
    }
   ],
   "source": [
    "final_df = test_merge[['actor_age_at_release', 'age_group', 'averageRating']]\n",
    "sns.set_style(\"whitegrid\")\n",
    "fig, ax = plt.subplots(1,1,figsize=(8,3))\n",
    "sns.kdeplot(data = final_df, x = 'averageRating', hue = 'age_group', ax = ax)"
   ]
  },
  {
   "cell_type": "code",
   "execution_count": 140,
   "metadata": {},
   "outputs": [
    {
     "name": "stderr",
     "output_type": "stream",
     "text": [
      "C:\\Users\\gezas\\AppData\\Local\\Temp\\ipykernel_16192\\4006548737.py:2: SettingWithCopyWarning: \n",
      "A value is trying to be set on a copy of a slice from a DataFrame.\n",
      "Try using .loc[row_indexer,col_indexer] = value instead\n",
      "\n",
      "See the caveats in the documentation: https://pandas.pydata.org/pandas-docs/stable/user_guide/indexing.html#returning-a-view-versus-a-copy\n",
      "  final_df['log_revenu'] = np.log10(final_df['Movie_box_office_revenu'])\n"
     ]
    },
    {
     "data": {
      "text/plain": [
       "Text(0.5, 0, 'log of box office revenu')"
      ]
     },
     "execution_count": 140,
     "metadata": {},
     "output_type": "execute_result"
    },
    {
     "data": {
      "image/png": "[encoded data removed]",
      "text/plain": [
       "<Figure size 700x300 with 1 Axes>"
      ]
     },
     "metadata": {},
     "output_type": "display_data"
    }
   ],
   "source": [
    "final_df = test_merge[['actor_age_at_release', 'age_group', 'Movie_box_office_revenu']]\n",
    "final_df['log_revenu'] = np.log10(final_df['Movie_box_office_revenu'])\n",
    "sns.set_style(\"whitegrid\")\n",
    "fig, ax = plt.subplots(1,1,figsize=(7,3))\n",
    "sns.kdeplot(data = final_df, x = 'log_revenu', hue = 'age_group', ax = ax)\n",
    "ax.set_xlabel('log of box office revenu')"
   ]
  },
  {
   "cell_type": "code",
   "execution_count": 143,
   "metadata": {
    "ExecuteTime": {
     "end_time": "2023-11-08T10:21:49.531518200Z",
     "start_time": "2023-11-08T10:21:45.123866Z"
    },
    "collapsed": false
   },
   "outputs": [
    {
     "name": "stderr",
     "output_type": "stream",
     "text": [
      "C:\\Users\\gezas\\AppData\\Local\\Temp\\ipykernel_16192\\3553678177.py:9: SettingWithCopyWarning: \n",
      "A value is trying to be set on a copy of a slice from a DataFrame.\n",
      "Try using .loc[row_indexer,col_indexer] = value instead\n",
      "\n",
      "See the caveats in the documentation: https://pandas.pydata.org/pandas-docs/stable/user_guide/indexing.html#returning-a-view-versus-a-copy\n",
      "  final_df['log_revenu'] = np.log10(final_df['Movie_box_office_revenu'])\n",
      "c:\\Users\\gezas\\.conda\\envs\\ada\\lib\\site-packages\\seaborn\\axisgrid.py:118: UserWarning: The figure layout has changed to tight\n",
      "  self._figure.tight_layout(*args, **kwargs)\n",
      "c:\\Users\\gezas\\.conda\\envs\\ada\\lib\\site-packages\\seaborn\\axisgrid.py:118: UserWarning: The figure layout has changed to tight\n",
      "  self._figure.tight_layout(*args, **kwargs)\n",
      "c:\\Users\\gezas\\.conda\\envs\\ada\\lib\\site-packages\\seaborn\\axisgrid.py:118: UserWarning: The figure layout has changed to tight\n",
      "  self._figure.tight_layout(*args, **kwargs)\n"
     ]
    },
    {
     "data": {
      "image/png": "[encoded data removed]",
      "text/plain": [
       "<Figure size 1125x375 with 5 Axes>"
      ]
     },
     "metadata": {},
     "output_type": "display_data"
    }
   ],
   "source": [
    "# getting necessary libraries\n",
    "import numpy as np\n",
    "import pandas as pd\n",
    "import seaborn as sns\n",
    "import matplotlib.pyplot as plt\n",
    "sns.set_theme(style=\"white\", rc={\"axes.facecolor\": (0, 0, 0, 0)})\n",
    "\n",
    "final_df = test_merge[['actor_age_at_release', 'age_group', 'Movie_box_office_revenu']]\n",
    "final_df['log_revenu'] = np.log10(final_df['Movie_box_office_revenu'])\n",
    "\n",
    "# we generate a color palette with Seaborn.color_palette()\n",
    "pal = sns.color_palette(palette='coolwarm', n_colors=12)\n",
    "\n",
    "# in the sns.FacetGrid class, the 'hue' argument is the one that is the one that will be represented by colors with 'palette'\n",
    "g = sns.FacetGrid(final_df, row='age_group', aspect=15, height=0.75, palette=pal)\n",
    "\n",
    "# then we add the densities kdeplots for each month\n",
    "g.map(sns.kdeplot, 'log_revenu',\n",
    "      bw_adjust=1, clip=[4,10],\n",
    "      fill=True, alpha=1, linewidth=1.5)\n",
    "\n",
    "# here we add a white line that represents the contour of each kdeplot\n",
    "g.map(sns.kdeplot, 'log_revenu',\n",
    "      bw_adjust=1, clip=[4,10],\n",
    "      color=\"w\", lw=2)\n",
    "\n",
    "# here we add a horizontal line for each plot\n",
    "g.map(plt.axhline, y=0,\n",
    "      lw=2, clip_on=False)\n",
    "\n",
    "# we loop over the FacetGrid figure axes (g.axes.flat) and add the month as text with the right color\n",
    "# notice how ax.lines[-1].get_color() enables you to access the last line's color in each matplotlib.Axes\n",
    "for i, ax in enumerate(g.axes.flat):\n",
    "    ax.text(3.5, 0.02, age_labels[i],\n",
    "            fontweight='bold', fontsize=15,\n",
    "            color=ax.lines[-1].get_color())\n",
    "    ax.set_ylabel('')\n",
    "\n",
    "# we use matplotlib.Figure.subplots_adjust() function to get the subplots to overlap\n",
    "g.fig.subplots_adjust(hspace=-0.3)\n",
    "\n",
    "# eventually we remove axes titles, yticks and spines\n",
    "g.set_titles(\"\")\n",
    "g.set(yticks=[])\n",
    "g.despine(bottom=True, left=True)\n",
    "\n",
    "plt.setp(ax.get_xticklabels(), fontsize=15, fontweight='bold')\n",
    "plt.xlabel('log10 movie box office revenu', fontweight='bold', fontsize=15)\n",
    "\n",
    "g.fig.suptitle('Box office revenu of the movie per actors age groups',\n",
    "               ha='right',\n",
    "               fontsize=20,\n",
    "               fontweight=20)\n",
    "\n",
    "plt.show()"
   ]
  },
  {
   "cell_type": "markdown",
   "metadata": {
    "collapsed": false
   },
   "source": [
    "## Between actor gender and ratings/revenue"
   ]
  },
  {
   "cell_type": "code",
   "execution_count": 78,
   "metadata": {
    "ExecuteTime": {
     "end_time": "2023-11-08T10:32:09.639336600Z",
     "start_time": "2023-11-08T10:32:09.504651300Z"
    },
    "collapsed": false
   },
   "outputs": [
    {
     "data": {
      "text/html": [
       "<div>\n",
       "<style scoped>\n",
       "    .dataframe tbody tr th:only-of-type {\n",
       "        vertical-align: middle;\n",
       "    }\n",
       "\n",
       "    .dataframe tbody tr th {\n",
       "        vertical-align: top;\n",
       "    }\n",
       "\n",
       "    .dataframe thead th {\n",
       "        text-align: right;\n",
       "    }\n",
       "</style>\n",
       "<table border=\"1\" class=\"dataframe\">\n",
       "  <thead>\n",
       "    <tr style=\"text-align: right;\">\n",
       "      <th></th>\n",
       "      <th>wiki_movie_id</th>\n",
       "      <th>freebase_movie_id</th>\n",
       "      <th>release_date</th>\n",
       "      <th>character_name</th>\n",
       "      <th>actor_birth_date</th>\n",
       "      <th>actor_gender</th>\n",
       "      <th>actor_height_m</th>\n",
       "      <th>actor_ethnicity_id</th>\n",
       "      <th>actor_name</th>\n",
       "      <th>actor_age_at_release</th>\n",
       "      <th>...</th>\n",
       "      <th>Movie_genres</th>\n",
       "      <th>Movie_release_year</th>\n",
       "      <th>Wikipedia_movie_ID</th>\n",
       "      <th>originalTitle</th>\n",
       "      <th>tconst</th>\n",
       "      <th>averageRating</th>\n",
       "      <th>numVotes</th>\n",
       "      <th>birth_year</th>\n",
       "      <th>age_at_release</th>\n",
       "      <th>age_group</th>\n",
       "    </tr>\n",
       "  </thead>\n",
       "  <tbody>\n",
       "    <tr>\n",
       "      <th>0</th>\n",
       "      <td>975900</td>\n",
       "      <td>/m/03vyhn</td>\n",
       "      <td>2001-08-24</td>\n",
       "      <td>Akooshay</td>\n",
       "      <td>1958-08-26</td>\n",
       "      <td>F</td>\n",
       "      <td>1.620</td>\n",
       "      <td>NaN</td>\n",
       "      <td>Wanda De Jesus</td>\n",
       "      <td>42.0</td>\n",
       "      <td>...</td>\n",
       "      <td>{\"/m/01jfsb\": \"Thriller\", \"/m/06n90\": \"Science...</td>\n",
       "      <td>2001.0</td>\n",
       "      <td>975900.0</td>\n",
       "      <td>Ghosts of Mars</td>\n",
       "      <td>tt0228333</td>\n",
       "      <td>4.9</td>\n",
       "      <td>56887.0</td>\n",
       "      <td>1958.0</td>\n",
       "      <td>43.0</td>\n",
       "      <td>35-49</td>\n",
       "    </tr>\n",
       "    <tr>\n",
       "      <th>1</th>\n",
       "      <td>975900</td>\n",
       "      <td>/m/03vyhn</td>\n",
       "      <td>2001-08-24</td>\n",
       "      <td>Lieutenant Melanie Ballard</td>\n",
       "      <td>1974-08-15</td>\n",
       "      <td>F</td>\n",
       "      <td>1.780</td>\n",
       "      <td>/m/044038p</td>\n",
       "      <td>Natasha Henstridge</td>\n",
       "      <td>27.0</td>\n",
       "      <td>...</td>\n",
       "      <td>{\"/m/01jfsb\": \"Thriller\", \"/m/06n90\": \"Science...</td>\n",
       "      <td>2001.0</td>\n",
       "      <td>975900.0</td>\n",
       "      <td>Ghosts of Mars</td>\n",
       "      <td>tt0228333</td>\n",
       "      <td>4.9</td>\n",
       "      <td>56887.0</td>\n",
       "      <td>1974.0</td>\n",
       "      <td>27.0</td>\n",
       "      <td>25-34</td>\n",
       "    </tr>\n",
       "    <tr>\n",
       "      <th>2</th>\n",
       "      <td>975900</td>\n",
       "      <td>/m/03vyhn</td>\n",
       "      <td>2001-08-24</td>\n",
       "      <td>Desolation Williams</td>\n",
       "      <td>1969-06-15</td>\n",
       "      <td>M</td>\n",
       "      <td>1.727</td>\n",
       "      <td>/m/0x67</td>\n",
       "      <td>Ice Cube</td>\n",
       "      <td>32.0</td>\n",
       "      <td>...</td>\n",
       "      <td>{\"/m/01jfsb\": \"Thriller\", \"/m/06n90\": \"Science...</td>\n",
       "      <td>2001.0</td>\n",
       "      <td>975900.0</td>\n",
       "      <td>Ghosts of Mars</td>\n",
       "      <td>tt0228333</td>\n",
       "      <td>4.9</td>\n",
       "      <td>56887.0</td>\n",
       "      <td>1969.0</td>\n",
       "      <td>32.0</td>\n",
       "      <td>25-34</td>\n",
       "    </tr>\n",
       "    <tr>\n",
       "      <th>3</th>\n",
       "      <td>975900</td>\n",
       "      <td>/m/03vyhn</td>\n",
       "      <td>2001-08-24</td>\n",
       "      <td>Sgt Jericho Butler</td>\n",
       "      <td>1967-09-12</td>\n",
       "      <td>M</td>\n",
       "      <td>1.750</td>\n",
       "      <td>NaN</td>\n",
       "      <td>Jason Statham</td>\n",
       "      <td>33.0</td>\n",
       "      <td>...</td>\n",
       "      <td>{\"/m/01jfsb\": \"Thriller\", \"/m/06n90\": \"Science...</td>\n",
       "      <td>2001.0</td>\n",
       "      <td>975900.0</td>\n",
       "      <td>Ghosts of Mars</td>\n",
       "      <td>tt0228333</td>\n",
       "      <td>4.9</td>\n",
       "      <td>56887.0</td>\n",
       "      <td>1967.0</td>\n",
       "      <td>34.0</td>\n",
       "      <td>25-34</td>\n",
       "    </tr>\n",
       "    <tr>\n",
       "      <th>4</th>\n",
       "      <td>975900</td>\n",
       "      <td>/m/03vyhn</td>\n",
       "      <td>2001-08-24</td>\n",
       "      <td>Bashira Kincaid</td>\n",
       "      <td>1977-09-25</td>\n",
       "      <td>F</td>\n",
       "      <td>1.650</td>\n",
       "      <td>NaN</td>\n",
       "      <td>Clea DuVall</td>\n",
       "      <td>23.0</td>\n",
       "      <td>...</td>\n",
       "      <td>{\"/m/01jfsb\": \"Thriller\", \"/m/06n90\": \"Science...</td>\n",
       "      <td>2001.0</td>\n",
       "      <td>975900.0</td>\n",
       "      <td>Ghosts of Mars</td>\n",
       "      <td>tt0228333</td>\n",
       "      <td>4.9</td>\n",
       "      <td>56887.0</td>\n",
       "      <td>1977.0</td>\n",
       "      <td>24.0</td>\n",
       "      <td>18-24</td>\n",
       "    </tr>\n",
       "  </tbody>\n",
       "</table>\n",
       "<p>5 rows × 25 columns</p>\n",
       "</div>"
      ],
      "text/plain": [
       "   wiki_movie_id freebase_movie_id release_date              character_name  \\\n",
       "0         975900         /m/03vyhn   2001-08-24                    Akooshay   \n",
       "1         975900         /m/03vyhn   2001-08-24  Lieutenant Melanie Ballard   \n",
       "2         975900         /m/03vyhn   2001-08-24         Desolation Williams   \n",
       "3         975900         /m/03vyhn   2001-08-24          Sgt Jericho Butler   \n",
       "4         975900         /m/03vyhn   2001-08-24             Bashira Kincaid   \n",
       "\n",
       "  actor_birth_date actor_gender  actor_height_m actor_ethnicity_id  \\\n",
       "0       1958-08-26            F           1.620                NaN   \n",
       "1       1974-08-15            F           1.780         /m/044038p   \n",
       "2       1969-06-15            M           1.727            /m/0x67   \n",
       "3       1967-09-12            M           1.750                NaN   \n",
       "4       1977-09-25            F           1.650                NaN   \n",
       "\n",
       "           actor_name  actor_age_at_release  ...  \\\n",
       "0      Wanda De Jesus                  42.0  ...   \n",
       "1  Natasha Henstridge                  27.0  ...   \n",
       "2            Ice Cube                  32.0  ...   \n",
       "3       Jason Statham                  33.0  ...   \n",
       "4         Clea DuVall                  23.0  ...   \n",
       "\n",
       "                                        Movie_genres Movie_release_year  \\\n",
       "0  {\"/m/01jfsb\": \"Thriller\", \"/m/06n90\": \"Science...             2001.0   \n",
       "1  {\"/m/01jfsb\": \"Thriller\", \"/m/06n90\": \"Science...             2001.0   \n",
       "2  {\"/m/01jfsb\": \"Thriller\", \"/m/06n90\": \"Science...             2001.0   \n",
       "3  {\"/m/01jfsb\": \"Thriller\", \"/m/06n90\": \"Science...             2001.0   \n",
       "4  {\"/m/01jfsb\": \"Thriller\", \"/m/06n90\": \"Science...             2001.0   \n",
       "\n",
       "  Wikipedia_movie_ID   originalTitle     tconst averageRating  numVotes  \\\n",
       "0           975900.0  Ghosts of Mars  tt0228333           4.9   56887.0   \n",
       "1           975900.0  Ghosts of Mars  tt0228333           4.9   56887.0   \n",
       "2           975900.0  Ghosts of Mars  tt0228333           4.9   56887.0   \n",
       "3           975900.0  Ghosts of Mars  tt0228333           4.9   56887.0   \n",
       "4           975900.0  Ghosts of Mars  tt0228333           4.9   56887.0   \n",
       "\n",
       "   birth_year age_at_release age_group  \n",
       "0      1958.0           43.0     35-49  \n",
       "1      1974.0           27.0     25-34  \n",
       "2      1969.0           32.0     25-34  \n",
       "3      1967.0           34.0     25-34  \n",
       "4      1977.0           24.0     18-24  \n",
       "\n",
       "[5 rows x 25 columns]"
      ]
     },
     "execution_count": 78,
     "metadata": {},
     "output_type": "execute_result"
    }
   ],
   "source": [
    "test_merge.head()"
   ]
  },
  {
   "cell_type": "code",
   "execution_count": null,
   "metadata": {
    "collapsed": false
   },
   "outputs": [],
   "source": [
    "# getting necessary libraries\n",
    "import numpy as np\n",
    "import pandas as pd\n",
    "import seaborn as sns\n",
    "import matplotlib.pyplot as plt\n",
    "sns.set_theme(style=\"white\", rc={\"axes.facecolor\": (0, 0, 0, 0)})"
   ]
  },
  {
   "cell_type": "code",
   "execution_count": 135,
   "metadata": {
    "ExecuteTime": {
     "end_time": "2023-11-08T10:35:50.996120900Z",
     "start_time": "2023-11-08T10:35:44.734686700Z"
    },
    "collapsed": false
   },
   "outputs": [
    {
     "name": "stderr",
     "output_type": "stream",
     "text": [
      "c:\\Users\\gezas\\.conda\\envs\\ada\\lib\\site-packages\\seaborn\\axisgrid.py:118: UserWarning: Tight layout not applied. tight_layout cannot make axes height small enough to accommodate all axes decorations.\n",
      "  self._figure.tight_layout(*args, **kwargs)\n",
      "c:\\Users\\gezas\\.conda\\envs\\ada\\lib\\site-packages\\seaborn\\axisgrid.py:118: UserWarning: The figure layout has changed to tight\n",
      "  self._figure.tight_layout(*args, **kwargs)\n",
      "c:\\Users\\gezas\\.conda\\envs\\ada\\lib\\site-packages\\seaborn\\axisgrid.py:118: UserWarning: Tight layout not applied. tight_layout cannot make axes height small enough to accommodate all axes decorations.\n",
      "  self._figure.tight_layout(*args, **kwargs)\n",
      "c:\\Users\\gezas\\.conda\\envs\\ada\\lib\\site-packages\\seaborn\\axisgrid.py:118: UserWarning: The figure layout has changed to tight\n",
      "  self._figure.tight_layout(*args, **kwargs)\n",
      "c:\\Users\\gezas\\.conda\\envs\\ada\\lib\\site-packages\\seaborn\\axisgrid.py:118: UserWarning: Tight layout not applied. tight_layout cannot make axes height small enough to accommodate all axes decorations.\n",
      "  self._figure.tight_layout(*args, **kwargs)\n",
      "c:\\Users\\gezas\\.conda\\envs\\ada\\lib\\site-packages\\seaborn\\axisgrid.py:118: UserWarning: The figure layout has changed to tight\n",
      "  self._figure.tight_layout(*args, **kwargs)\n"
     ]
    },
    {
     "data": {
      "image/png": "[encoded data removed]",
      "text/plain": [
       "<Figure size 1125x150 with 2 Axes>"
      ]
     },
     "metadata": {},
     "output_type": "display_data"
    }
   ],
   "source": [
    "# getting necessary libraries\n",
    "import numpy as np\n",
    "import pandas as pd\n",
    "import seaborn as sns\n",
    "import matplotlib.pyplot as plt\n",
    "sns.set_theme(style=\"white\", rc={\"axes.facecolor\": (0, 0, 0, 0)})\n",
    "\n",
    "final_df = test_merge[['actor_age_at_release', 'actor_gender', 'averageRating']]\n",
    "\n",
    "# we generate a color palette with Seaborn.color_palette()\n",
    "pal = sns.color_palette(palette='coolwarm', n_colors=12)\n",
    "\n",
    "# in the sns.FacetGrid class, the 'hue' argument is the one that is the one that will be represented by colors with 'palette'\n",
    "g = sns.FacetGrid(final_df, row='actor_gender', aspect=15, height=0.75, palette=pal)\n",
    "\n",
    "# then we add the densities kdeplots for each month\n",
    "g.map(sns.kdeplot, 'averageRating',\n",
    "      bw_adjust=1, clip=[2,10],\n",
    "      fill=True, alpha=1, linewidth=1.5)\n",
    "\n",
    "# here we add a white line that represents the contour of each kdeplot\n",
    "g.map(sns.kdeplot, 'averageRating',\n",
    "      bw_adjust=1, clip=[2,10],\n",
    "      color=\"w\", lw=2)\n",
    "\n",
    "# here we add a horizontal line for each plot\n",
    "g.map(plt.axhline, y=0,\n",
    "      lw=2, clip_on=False)\n",
    "\n",
    "# we loop over the FacetGrid figure axes (g.axes.flat) and add the month as text with the right color\n",
    "# notice how ax.lines[-1].get_color() enables you to access the last line's color in each matplotlib.Axes\n",
    "gender_labels = ['F', 'M']\n",
    "\n",
    "for i, ax in enumerate(g.axes.flat):\n",
    "    ax.text(0.5, 0.04, gender_labels[i],\n",
    "            fontweight='bold', fontsize=15,\n",
    "            color=ax.lines[-1].get_color())\n",
    "    ax.set_ylabel('')\n",
    "\n",
    "# we use matplotlib.Figure.subplots_adjust() function to get the subplots to overlap\n",
    "g.fig.subplots_adjust(hspace=-0.3)\n",
    "\n",
    "# eventually we remove axes titles, yticks and spines\n",
    "g.set_titles(\"\")\n",
    "g.set(yticks=[])\n",
    "g.despine(bottom=True, left=True)\n",
    "\n",
    "plt.setp(ax.get_xticklabels(), fontsize=15, fontweight='bold')\n",
    "plt.xlabel('IMDB ratings', fontweight='bold', fontsize=15)\n",
    "\n",
    "g.fig.suptitle('Average ratings per gender',\n",
    "               ha='right',\n",
    "               fontsize=20,\n",
    "               fontweight=20)\n",
    "\n",
    "plt.show()"
   ]
  },
  {
   "cell_type": "code",
   "execution_count": 132,
   "metadata": {
    "ExecuteTime": {
     "end_time": "2023-11-08T10:32:58.210713500Z",
     "start_time": "2023-11-08T10:32:54.942617400Z"
    },
    "collapsed": false
   },
   "outputs": [
    {
     "name": "stderr",
     "output_type": "stream",
     "text": [
      "C:\\Users\\gezas\\AppData\\Local\\Temp\\ipykernel_16192\\4023390744.py:2: SettingWithCopyWarning: \n",
      "A value is trying to be set on a copy of a slice from a DataFrame.\n",
      "Try using .loc[row_indexer,col_indexer] = value instead\n",
      "\n",
      "See the caveats in the documentation: https://pandas.pydata.org/pandas-docs/stable/user_guide/indexing.html#returning-a-view-versus-a-copy\n",
      "  final_df['log_revenu'] = np.log10(final_df['Movie_box_office_revenu'])\n",
      "c:\\Users\\gezas\\.conda\\envs\\ada\\lib\\site-packages\\seaborn\\axisgrid.py:118: UserWarning: Tight layout not applied. tight_layout cannot make axes height small enough to accommodate all axes decorations.\n",
      "  self._figure.tight_layout(*args, **kwargs)\n",
      "c:\\Users\\gezas\\.conda\\envs\\ada\\lib\\site-packages\\seaborn\\axisgrid.py:118: UserWarning: The figure layout has changed to tight\n",
      "  self._figure.tight_layout(*args, **kwargs)\n",
      "c:\\Users\\gezas\\.conda\\envs\\ada\\lib\\site-packages\\seaborn\\axisgrid.py:118: UserWarning: Tight layout not applied. tight_layout cannot make axes height small enough to accommodate all axes decorations.\n",
      "  self._figure.tight_layout(*args, **kwargs)\n",
      "c:\\Users\\gezas\\.conda\\envs\\ada\\lib\\site-packages\\seaborn\\axisgrid.py:118: UserWarning: The figure layout has changed to tight\n",
      "  self._figure.tight_layout(*args, **kwargs)\n",
      "c:\\Users\\gezas\\.conda\\envs\\ada\\lib\\site-packages\\seaborn\\axisgrid.py:118: UserWarning: Tight layout not applied. tight_layout cannot make axes height small enough to accommodate all axes decorations.\n",
      "  self._figure.tight_layout(*args, **kwargs)\n",
      "c:\\Users\\gezas\\.conda\\envs\\ada\\lib\\site-packages\\seaborn\\axisgrid.py:118: UserWarning: The figure layout has changed to tight\n",
      "  self._figure.tight_layout(*args, **kwargs)\n"
     ]
    },
    {
     "data": {
      "image/png": "[encoded data removed]",
      "text/plain": [
       "<Figure size 1125x150 with 2 Axes>"
      ]
     },
     "metadata": {},
     "output_type": "display_data"
    }
   ],
   "source": [
    "final_df = test_merge[['age_at_release', 'age_group', 'actor_gender', 'Movie_box_office_revenu']]\n",
    "final_df['log_revenu'] = np.log10(final_df['Movie_box_office_revenu'])\n",
    "\n",
    "# we generate a color palette with Seaborn.color_palette()\n",
    "pal = sns.color_palette(palette='coolwarm', n_colors=12)\n",
    "\n",
    "# in the sns.FacetGrid class, the 'hue' argument is the one that is the one that will be represented by colors with 'palette'\n",
    "g = sns.FacetGrid(final_df, row='actor_gender', aspect=15, height=0.75, palette=pal)\n",
    "\n",
    "# then we add the densities kdeplots for each month\n",
    "g.map(sns.kdeplot, 'log_revenu',\n",
    "      bw_adjust=1, clip_on=False,\n",
    "      fill=True, alpha=1, linewidth=1.5)\n",
    "\n",
    "# here we add a white line that represents the contour of each kdeplot\n",
    "g.map(sns.kdeplot, 'log_revenu',\n",
    "      bw_adjust=1, clip_on=False,\n",
    "      color=\"w\", lw=2)\n",
    "\n",
    "# here we add a horizontal line for each plot\n",
    "g.map(plt.axhline, y=0,\n",
    "      lw=2, clip_on=False)\n",
    "\n",
    "# we loop over the FacetGrid figure axes (g.axes.flat) and add the month as text with the right color\n",
    "# notice how ax.lines[-1].get_color() enables you to access the last line's color in each matplotlib.Axes\n",
    "\n",
    "for i, ax in enumerate(g.axes.flat):\n",
    "    ax.text(3.5, 0.02, gender_labels[i],\n",
    "            fontweight='bold', fontsize=15,\n",
    "            color=ax.lines[-1].get_color())\n",
    "    ax.set_ylabel('')\n",
    "\n",
    "# we use matplotlib.Figure.subplots_adjust() function to get the subplots to overlap\n",
    "g.fig.subplots_adjust(hspace=-0.3)\n",
    "\n",
    "# eventually we remove axes titles, yticks and spines\n",
    "g.set_titles(\"\")\n",
    "g.set(yticks=[])\n",
    "g.despine(bottom=True, left=True)\n",
    "\n",
    "plt.setp(ax.get_xticklabels(), fontsize=15, fontweight='bold')\n",
    "plt.xlabel('log10 movie box office revenu', fontweight='bold', fontsize=15)\n",
    "\n",
    "g.fig.suptitle('Box office revenu of the movie per actors gender',\n",
    "               ha='right',\n",
    "               fontsize=20,\n",
    "               fontweight=20)\n",
    "\n",
    "plt.show()"
   ]
  },
  {
   "cell_type": "markdown",
   "metadata": {
    "collapsed": false
   },
   "source": [
    "## Gender histogram"
   ]
  },
  {
   "cell_type": "code",
   "execution_count": 122,
   "metadata": {},
   "outputs": [
    {
     "data": {
      "image/png": "[encoded data removed]",
      "text/plain": [
       "<Figure size 800x300 with 1 Axes>"
      ]
     },
     "metadata": {},
     "output_type": "display_data"
    }
   ],
   "source": [
    "sns.set_style(\"whitegrid\")\n",
    "fig, ax = plt.subplots(1,1,figsize=(8,3))\n",
    "sns.kdeplot(data= final_df, x = 'actor_age_at_release', hue = 'actor_gender',ax = ax)\n",
    "plt.savefig(\"tests.png\")"
   ]
  },
  {
   "cell_type": "code",
   "execution_count": 133,
   "metadata": {
    "ExecuteTime": {
     "end_time": "2023-11-08T10:57:11.595365600Z",
     "start_time": "2023-11-08T10:57:06.371244900Z"
    },
    "collapsed": false
   },
   "outputs": [
    {
     "name": "stderr",
     "output_type": "stream",
     "text": [
      "C:\\Users\\gezas\\AppData\\Local\\Temp\\ipykernel_16192\\1571836673.py:3: SettingWithCopyWarning: \n",
      "A value is trying to be set on a copy of a slice from a DataFrame.\n",
      "Try using .loc[row_indexer,col_indexer] = value instead\n",
      "\n",
      "See the caveats in the documentation: https://pandas.pydata.org/pandas-docs/stable/user_guide/indexing.html#returning-a-view-versus-a-copy\n",
      "  final_df['log_revenu'] = np.log10(final_df['Movie_box_office_revenu'])\n",
      "c:\\Users\\gezas\\.conda\\envs\\ada\\lib\\site-packages\\seaborn\\axisgrid.py:118: UserWarning: Tight layout not applied. tight_layout cannot make axes height small enough to accommodate all axes decorations.\n",
      "  self._figure.tight_layout(*args, **kwargs)\n",
      "c:\\Users\\gezas\\.conda\\envs\\ada\\lib\\site-packages\\seaborn\\axisgrid.py:118: UserWarning: The figure layout has changed to tight\n",
      "  self._figure.tight_layout(*args, **kwargs)\n",
      "c:\\Users\\gezas\\.conda\\envs\\ada\\lib\\site-packages\\seaborn\\axisgrid.py:118: UserWarning: Tight layout not applied. tight_layout cannot make axes height small enough to accommodate all axes decorations.\n",
      "  self._figure.tight_layout(*args, **kwargs)\n",
      "c:\\Users\\gezas\\.conda\\envs\\ada\\lib\\site-packages\\seaborn\\axisgrid.py:118: UserWarning: The figure layout has changed to tight\n",
      "  self._figure.tight_layout(*args, **kwargs)\n",
      "c:\\Users\\gezas\\.conda\\envs\\ada\\lib\\site-packages\\seaborn\\axisgrid.py:118: UserWarning: Tight layout not applied. tight_layout cannot make axes height small enough to accommodate all axes decorations.\n",
      "  self._figure.tight_layout(*args, **kwargs)\n",
      "c:\\Users\\gezas\\.conda\\envs\\ada\\lib\\site-packages\\seaborn\\axisgrid.py:118: UserWarning: The figure layout has changed to tight\n",
      "  self._figure.tight_layout(*args, **kwargs)\n"
     ]
    },
    {
     "data": {
      "image/png": "[encoded data removed]",
      "text/plain": [
       "<Figure size 1125x150 with 2 Axes>"
      ]
     },
     "metadata": {},
     "output_type": "display_data"
    }
   ],
   "source": [
    "plt.show()\n",
    "final_df = test_merge[['actor_age_at_release', 'age_group', 'actor_gender', 'Movie_box_office_revenu']]\n",
    "final_df['log_revenu'] = np.log10(final_df['Movie_box_office_revenu'])\n",
    "\n",
    "# we generate a color palette with Seaborn.color_palette()\n",
    "pal = sns.color_palette(palette='coolwarm', n_colors=12)\n",
    "\n",
    "# in the sns.FacetGrid class, the 'hue' argument is the one that is the one that will be represented by colors with 'palette'\n",
    "g = sns.FacetGrid(final_df, row='actor_gender', aspect=15, height=0.75, palette=pal)\n",
    "\n",
    "# then we add the densities kdeplots\n",
    "g.map(sns.kdeplot, 'actor_age_at_release',\n",
    "      bw_adjust=1, clip = [0,90],\n",
    "      fill=True, alpha=1, linewidth=1.5)\n",
    "\n",
    "# here we add a white line that represents the contour of each kdeplot\n",
    "g.map(sns.kdeplot, 'actor_age_at_release',\n",
    "      bw_adjust=1, clip = [0,90],\n",
    "      color=\"w\", lw=2)\n",
    "\n",
    "# here we add a horizontal line for each plot\n",
    "g.map(plt.axhline, y=0,\n",
    "      lw=2, clip_on = False)\n",
    "\n",
    "# we loop over the FacetGrid figure axes (g.axes.flat) and add the month as text with the right color\n",
    "# notice how ax.lines[-1].get_color() enables you to access the last line's color in each matplotlib.Axes\n",
    "\n",
    "for i, ax in enumerate(g.axes.flat):\n",
    "    ax.text(0, 0.01, gender_labels[i],\n",
    "            fontweight='bold', fontsize=15,\n",
    "            color=ax.lines[-1].get_color())\n",
    "    ax.set_ylabel('')\n",
    "\n",
    "# we use matplotlib.Figure.subplots_adjust() function to get the subplots to overlap\n",
    "g.fig.subplots_adjust(hspace=-0.3)\n",
    "\n",
    "# eventually we remove axes titles, yticks and spines\n",
    "g.set_titles(\"\")\n",
    "g.set(yticks=[])\n",
    "g.despine(bottom=True, left=True)\n",
    "\n",
    "plt.setp(ax.get_xticklabels(), fontsize=15, fontweight='bold')\n",
    "plt.xlabel('age_at_release', fontweight='bold', fontsize=15)\n",
    "\n",
    "g.fig.suptitle('age_at_release of movie per actors gender',\n",
    "               ha='right',\n",
    "               fontsize=20,\n",
    "               fontweight=20)\n",
    "\n",
    "plt.show()"
   ]
  },
  {
   "cell_type": "code",
   "execution_count": null,
   "metadata": {},
   "outputs": [],
   "source": []
  }
 ],
 "metadata": {
  "kernelspec": {
   "display_name": "ada",
   "language": "python",
   "name": "python3"
  },
  "language_info": {
   "codemirror_mode": {
    "name": "ipython",
    "version": 3
   },
   "file_extension": ".py",
   "mimetype": "text/x-python",
   "name": "python",
   "nbconvert_exporter": "python",
   "pygments_lexer": "ipython3",
   "version": "3.9.18"
  }
 },
 "nbformat": 4,
 "nbformat_minor": 2
}
