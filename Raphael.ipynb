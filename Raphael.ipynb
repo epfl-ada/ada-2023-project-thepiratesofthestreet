{
 "cells": [
  {
   "cell_type": "markdown",
   "metadata": {},
   "source": [
    "# ADA project - Milestone 2"
   ]
  },
  {
   "cell_type": "markdown",
   "metadata": {},
   "source": [
    "## Part 1 : pre-processing and statistics\n",
    "\n",
    "In this part, we will get used with the data and construct the data tables we need to complete our study.\n",
    "We first construct a relational table between Movie IDs and movie genres to have access to all the genres with wich a film is described. \n",
    "\n",
    "We then compute the genres distributions in the movies to see how which mentionned genres are important to consider. It is relevant to have a good sample of the movies dataset therefore to know which genre refers to fictional worlds and to know how many movies are related to them.\n",
    "\n",
    "### Step 1 : Libraries and datasets"
   ]
  },
  {
   "cell_type": "code",
   "execution_count": 1,
   "metadata": {},
   "outputs": [],
   "source": [
    "# Imports of necessary libraries\n",
    "import os\n",
    "import pandas as pd\n",
    "import numpy as np\n",
    "import matplotlib.pyplot as plt\n",
    "import seaborn as sns\n",
    "import sys\n",
    "import platform"
   ]
  },
  {
   "cell_type": "code",
   "execution_count": 2,
   "metadata": {},
   "outputs": [
    {
     "data": {
      "text/plain": [
       "'3.9.18 | packaged by conda-forge | (main, Aug 30 2023, 03:40:31) [MSC v.1929 64 bit (AMD64)]'"
      ]
     },
     "execution_count": 2,
     "metadata": {},
     "output_type": "execute_result"
    }
   ],
   "source": [
    "sys.version"
   ]
  },
  {
   "cell_type": "code",
   "execution_count": 3,
   "metadata": {
    "tags": []
   },
   "outputs": [],
   "source": [
    "# import the CMU movie datasets\n",
    "movie_column_names = ['Wikipedia_movie_ID',\n",
    "                'Freebase_movie_ID',\n",
    "                'movie_name',\n",
    "                'movie_release_date',\n",
    "                'movie_box_office_revenu',\n",
    "                'movie_runtime',\n",
    "                'movie_languages',\n",
    "                'movie_countries',\n",
    "                'movie_genres']\n",
    "\n",
    "folder_path = os.path.abspath('MovieSummaries')\n",
    "\n",
    "df_movies = pd.read_csv(os.path.join(folder_path, \"movie.metadata.tsv\"), delimiter='\\t', names = movie_column_names)\n",
    "df_summaries = pd.read_csv(os.path.join(folder_path, \"plot_summaries.txt\"), delimiter='\\t', names=['Wikipedia_movie_ID', 'movie_summary'])"
   ]
  },
  {
   "cell_type": "markdown",
   "metadata": {},
   "source": [
    "#### Processing a relational table to link every movies to every genre\n",
    "\n",
    "The genre given to a movies is a easy and quick approach to get a first subset of fictional movies. Therefore, since multiple genre are given per movie, we extracted all genres into a new dataframe as a relational table between movies and all their genres."
   ]
  },
  {
   "cell_type": "code",
   "execution_count": 4,
   "metadata": {},
   "outputs": [
    {
     "name": "stdout",
     "output_type": "stream",
     "text": [
      "   Wikipedia_movie_ID Freebase_genre_ID      movie_genre\n",
      "0              975900         /m/01jfsb         Thriller\n",
      "1              975900          /m/06n90  Science Fiction\n",
      "2              975900          /m/03npn           Horror\n",
      "3              975900         /m/03k9fj        Adventure\n",
      "4              975900          /m/0fdjb     Supernatural\n"
     ]
    }
   ],
   "source": [
    "# Convert the genres objects into dictionnaries\n",
    "genres_list = df_movies['movie_genres'].apply(lambda x: eval(x) if pd.notna(x) else {})\n",
    "\n",
    "# Initialize an empty list to store the new relations <movie, genre>\n",
    "new_rows = []\n",
    "\n",
    "# Iterate over each row and process the genre dictionaries into new rows related to the movie's ID\n",
    "for i, genres_dict in enumerate(genres_list):\n",
    "    movie_id = df_movies.loc[i, 'Wikipedia_movie_ID']\n",
    "\n",
    "    for genre_id, genre_name in genres_dict.items():\n",
    "        new_rows.append({'Wikipedia_movie_ID': movie_id, 'Freebase_genre_ID': genre_id, 'movie_genre': genre_name})\n",
    "\n",
    "# Create a new DataFrame from the list of rows and save it as csv\n",
    "df_genres = pd.DataFrame(new_rows)\n",
    "df_genres.to_csv('cleaned_genres.csv', index=False)\n",
    "print(df_genres.head())"
   ]
  },
  {
   "cell_type": "markdown",
   "metadata": {},
   "source": [
    "#### All unique mentioned genres and their relative appearance"
   ]
  },
  {
   "cell_type": "code",
   "execution_count": 5,
   "metadata": {},
   "outputs": [
    {
     "data": {
      "text/html": [
       "<div>\n",
       "<style scoped>\n",
       "    .dataframe tbody tr th:only-of-type {\n",
       "        vertical-align: middle;\n",
       "    }\n",
       "\n",
       "    .dataframe tbody tr th {\n",
       "        vertical-align: top;\n",
       "    }\n",
       "\n",
       "    .dataframe thead th {\n",
       "        text-align: right;\n",
       "    }\n",
       "</style>\n",
       "<table border=\"1\" class=\"dataframe\">\n",
       "  <thead>\n",
       "    <tr style=\"text-align: right;\">\n",
       "      <th></th>\n",
       "      <th>Freebase_ID</th>\n",
       "      <th>movie_genre</th>\n",
       "      <th>movie_count</th>\n",
       "    </tr>\n",
       "  </thead>\n",
       "  <tbody>\n",
       "    <tr>\n",
       "      <th>0</th>\n",
       "      <td>/m/01jfsb</td>\n",
       "      <td>Thriller</td>\n",
       "      <td>8744</td>\n",
       "    </tr>\n",
       "    <tr>\n",
       "      <th>1</th>\n",
       "      <td>/m/06n90</td>\n",
       "      <td>Science Fiction</td>\n",
       "      <td>3052</td>\n",
       "    </tr>\n",
       "    <tr>\n",
       "      <th>2</th>\n",
       "      <td>/m/03npn</td>\n",
       "      <td>Horror</td>\n",
       "      <td>5280</td>\n",
       "    </tr>\n",
       "    <tr>\n",
       "      <th>3</th>\n",
       "      <td>/m/03k9fj</td>\n",
       "      <td>Adventure</td>\n",
       "      <td>4963</td>\n",
       "    </tr>\n",
       "    <tr>\n",
       "      <th>4</th>\n",
       "      <td>/m/0fdjb</td>\n",
       "      <td>Supernatural</td>\n",
       "      <td>641</td>\n",
       "    </tr>\n",
       "    <tr>\n",
       "      <th>...</th>\n",
       "      <td>...</td>\n",
       "      <td>...</td>\n",
       "      <td>...</td>\n",
       "    </tr>\n",
       "    <tr>\n",
       "      <th>243324</th>\n",
       "      <td>/m/07s9rl0</td>\n",
       "      <td>Drama</td>\n",
       "      <td>34007</td>\n",
       "    </tr>\n",
       "    <tr>\n",
       "      <th>243325</th>\n",
       "      <td>/m/01jfsb</td>\n",
       "      <td>Thriller</td>\n",
       "      <td>8744</td>\n",
       "    </tr>\n",
       "    <tr>\n",
       "      <th>243326</th>\n",
       "      <td>/m/03npn</td>\n",
       "      <td>Horror</td>\n",
       "      <td>5280</td>\n",
       "    </tr>\n",
       "    <tr>\n",
       "      <th>243327</th>\n",
       "      <td>/m/01585b</td>\n",
       "      <td>Slasher</td>\n",
       "      <td>768</td>\n",
       "    </tr>\n",
       "    <tr>\n",
       "      <th>243328</th>\n",
       "      <td>/m/02b5_l</td>\n",
       "      <td>Teen</td>\n",
       "      <td>925</td>\n",
       "    </tr>\n",
       "  </tbody>\n",
       "</table>\n",
       "<p>243329 rows × 3 columns</p>\n",
       "</div>"
      ],
      "text/plain": [
       "       Freebase_ID      movie_genre  movie_count\n",
       "0        /m/01jfsb         Thriller         8744\n",
       "1         /m/06n90  Science Fiction         3052\n",
       "2         /m/03npn           Horror         5280\n",
       "3        /m/03k9fj        Adventure         4963\n",
       "4         /m/0fdjb     Supernatural          641\n",
       "...            ...              ...          ...\n",
       "243324  /m/07s9rl0            Drama        34007\n",
       "243325   /m/01jfsb         Thriller         8744\n",
       "243326    /m/03npn           Horror         5280\n",
       "243327   /m/01585b          Slasher          768\n",
       "243328   /m/02b5_l             Teen          925\n",
       "\n",
       "[243329 rows x 3 columns]"
      ]
     },
     "metadata": {},
     "output_type": "display_data"
    }
   ],
   "source": [
    "# We aggregate the genres table by unique genres with the count of movies associated to each of it\n",
    "#unique_genres = df_genres[['Freebase_genre_ID','movie_genre']].groupby('movie_genre', as_index=False).aggregate([pd.Series.mode, 'count']).copy()\n",
    "\n",
    "#unique_genres = df_genres[['Freebase_genre_ID','movie_genre']].groupby('movie_genre', as_index=False).agg('count').copy()\n",
    "unique_genres = df_genres[['Freebase_genre_ID','movie_genre']]\n",
    "unique_genres['count'] = df_genres[['Freebase_genre_ID','movie_genre']].groupby('movie_genre', as_index=False)['movie_genre'].transform('count')\n",
    "\n",
    "unique_genres.columns = ['Freebase_ID','movie_genre', 'movie_count']\n",
    "\n",
    "# Sort by movie count to get the most common genres on top\n",
    "#unique_genres = unique_genres.sort_values(by='movie_count', ascending=False)\n",
    "display(unique_genres)"
   ]
  },
  {
   "cell_type": "markdown",
   "metadata": {},
   "source": [
    "Check if there are some movies without genres or without summaries"
   ]
  },
  {
   "cell_type": "code",
   "execution_count": 6,
   "metadata": {
    "tags": []
   },
   "outputs": [
    {
     "name": "stdout",
     "output_type": "stream",
     "text": [
      "The percentage of movies that have no summaries is : 48.37%.\n",
      "The percentage of movies that have no genre is : 0.00%.\n"
     ]
    }
   ],
   "source": [
    "# Check the number of movies that have either no genre or no summary:\n",
    "\n",
    "# A) Summaries\n",
    "df_summaries_movies = pd.merge(df_movies, df_summaries, how ='left' ).copy()\n",
    "\n",
    "nan_summaries = df_summaries_movies[df_summaries_movies['movie_summary'].isna()]\n",
    "nb_without_sum = nan_summaries.shape[0]\n",
    "nb_tot_movies = df_movies.shape[0]\n",
    "print(f'The percentage of movies that have no summaries is : {nb_without_sum/nb_tot_movies *100 :.2f}%.')\n",
    "\n",
    "df_summaries = df_summaries.rename(columns = {'Wikipedia_movie_ID' : 'movie_ID'})\n",
    "\n",
    "# B) Genres\n",
    "nan_genres = df_movies[df_movies['movie_genres'].isna()]\n",
    "nb_without_genres = nan_genres.shape[0]\n",
    "print(f'The percentage of movies that have no genre is : {nb_without_genres/nb_tot_movies *100 :.2f}%.')"
   ]
  },
  {
   "cell_type": "markdown",
   "metadata": {},
   "source": [
    "### Step 2 : Count the number of genres\n",
    "\n",
    "In this part we compute an overview of the movies genres to see if we can use the results for a fiction classification."
   ]
  },
  {
   "cell_type": "code",
   "execution_count": 7,
   "metadata": {},
   "outputs": [
    {
     "ename": "ValueError",
     "evalue": "Could not interpret input 'movie_genre'",
     "output_type": "error",
     "traceback": [
      "\u001b[1;31m---------------------------------------------------------------------------\u001b[0m",
      "\u001b[1;31mValueError\u001b[0m                                Traceback (most recent call last)",
      "Cell \u001b[1;32mIn[7], line 1\u001b[0m\n\u001b[1;32m----> 1\u001b[0m \u001b[43msns\u001b[49m\u001b[38;5;241;43m.\u001b[39;49m\u001b[43mbarplot\u001b[49m\u001b[43m(\u001b[49m\u001b[43mdata\u001b[49m\u001b[43m \u001b[49m\u001b[38;5;241;43m=\u001b[39;49m\u001b[43m \u001b[49m\u001b[43munique_genres\u001b[49m\u001b[43m[\u001b[49m\u001b[43m[\u001b[49m\u001b[38;5;124;43m'\u001b[39;49m\u001b[38;5;124;43mmovie_count\u001b[39;49m\u001b[38;5;124;43m'\u001b[39;49m\u001b[43m]\u001b[49m\u001b[43m]\u001b[49m\u001b[38;5;241;43m.\u001b[39;49m\u001b[43mhead\u001b[49m\u001b[43m(\u001b[49m\u001b[38;5;241;43m25\u001b[39;49m\u001b[43m)\u001b[49m\u001b[38;5;241;43m.\u001b[39;49m\u001b[43mreset_index\u001b[49m\u001b[43m(\u001b[49m\u001b[43m)\u001b[49m\u001b[43m,\u001b[49m\n\u001b[0;32m      2\u001b[0m \u001b[43m            \u001b[49m\u001b[43mx\u001b[49m\u001b[43m \u001b[49m\u001b[38;5;241;43m=\u001b[39;49m\u001b[43m \u001b[49m\u001b[38;5;124;43m'\u001b[39;49m\u001b[38;5;124;43mmovie_count\u001b[39;49m\u001b[38;5;124;43m'\u001b[39;49m\u001b[43m,\u001b[49m\u001b[43m \u001b[49m\u001b[43my\u001b[49m\u001b[43m \u001b[49m\u001b[38;5;241;43m=\u001b[39;49m\u001b[43m \u001b[49m\u001b[38;5;124;43m'\u001b[39;49m\u001b[38;5;124;43mmovie_genre\u001b[39;49m\u001b[38;5;124;43m'\u001b[39;49m\u001b[43m,\u001b[49m\u001b[43m \u001b[49m\u001b[43morientation\u001b[49m\u001b[43m \u001b[49m\u001b[38;5;241;43m=\u001b[39;49m\u001b[43m \u001b[49m\u001b[38;5;124;43m'\u001b[39;49m\u001b[38;5;124;43mhorizontal\u001b[39;49m\u001b[38;5;124;43m'\u001b[39;49m\u001b[43m,\u001b[49m\u001b[43m \u001b[49m\u001b[43mcolor\u001b[49m\u001b[43m \u001b[49m\u001b[38;5;241;43m=\u001b[39;49m\u001b[43m \u001b[49m\u001b[38;5;124;43m'\u001b[39;49m\u001b[38;5;124;43m#6495ED\u001b[39;49m\u001b[38;5;124;43m'\u001b[39;49m\u001b[43m)\u001b[49m\n\u001b[0;32m      3\u001b[0m plt\u001b[38;5;241m.\u001b[39mtitle(\u001b[38;5;124m\"\u001b[39m\u001b[38;5;124mTop 25 mentioned genres\u001b[39m\u001b[38;5;124m\"\u001b[39m)\n\u001b[0;32m      4\u001b[0m plt\u001b[38;5;241m.\u001b[39mylabel(\u001b[38;5;124m\"\u001b[39m\u001b[38;5;124m\"\u001b[39m)\n",
      "File \u001b[1;32m~\\anaconda3\\envs\\ada\\lib\\site-packages\\seaborn\\categorical.py:2755\u001b[0m, in \u001b[0;36mbarplot\u001b[1;34m(data, x, y, hue, order, hue_order, estimator, errorbar, n_boot, units, seed, orient, color, palette, saturation, width, errcolor, errwidth, capsize, dodge, ci, ax, **kwargs)\u001b[0m\n\u001b[0;32m   2752\u001b[0m \u001b[38;5;28;01mif\u001b[39;00m estimator \u001b[38;5;129;01mis\u001b[39;00m \u001b[38;5;28mlen\u001b[39m:\n\u001b[0;32m   2753\u001b[0m     estimator \u001b[38;5;241m=\u001b[39m \u001b[38;5;124m\"\u001b[39m\u001b[38;5;124msize\u001b[39m\u001b[38;5;124m\"\u001b[39m\n\u001b[1;32m-> 2755\u001b[0m plotter \u001b[38;5;241m=\u001b[39m \u001b[43m_BarPlotter\u001b[49m\u001b[43m(\u001b[49m\u001b[43mx\u001b[49m\u001b[43m,\u001b[49m\u001b[43m \u001b[49m\u001b[43my\u001b[49m\u001b[43m,\u001b[49m\u001b[43m \u001b[49m\u001b[43mhue\u001b[49m\u001b[43m,\u001b[49m\u001b[43m \u001b[49m\u001b[43mdata\u001b[49m\u001b[43m,\u001b[49m\u001b[43m \u001b[49m\u001b[43morder\u001b[49m\u001b[43m,\u001b[49m\u001b[43m \u001b[49m\u001b[43mhue_order\u001b[49m\u001b[43m,\u001b[49m\n\u001b[0;32m   2756\u001b[0m \u001b[43m                      \u001b[49m\u001b[43mestimator\u001b[49m\u001b[43m,\u001b[49m\u001b[43m \u001b[49m\u001b[43merrorbar\u001b[49m\u001b[43m,\u001b[49m\u001b[43m \u001b[49m\u001b[43mn_boot\u001b[49m\u001b[43m,\u001b[49m\u001b[43m \u001b[49m\u001b[43munits\u001b[49m\u001b[43m,\u001b[49m\u001b[43m \u001b[49m\u001b[43mseed\u001b[49m\u001b[43m,\u001b[49m\n\u001b[0;32m   2757\u001b[0m \u001b[43m                      \u001b[49m\u001b[43morient\u001b[49m\u001b[43m,\u001b[49m\u001b[43m \u001b[49m\u001b[43mcolor\u001b[49m\u001b[43m,\u001b[49m\u001b[43m \u001b[49m\u001b[43mpalette\u001b[49m\u001b[43m,\u001b[49m\u001b[43m \u001b[49m\u001b[43msaturation\u001b[49m\u001b[43m,\u001b[49m\n\u001b[0;32m   2758\u001b[0m \u001b[43m                      \u001b[49m\u001b[43mwidth\u001b[49m\u001b[43m,\u001b[49m\u001b[43m \u001b[49m\u001b[43merrcolor\u001b[49m\u001b[43m,\u001b[49m\u001b[43m \u001b[49m\u001b[43merrwidth\u001b[49m\u001b[43m,\u001b[49m\u001b[43m \u001b[49m\u001b[43mcapsize\u001b[49m\u001b[43m,\u001b[49m\u001b[43m \u001b[49m\u001b[43mdodge\u001b[49m\u001b[43m)\u001b[49m\n\u001b[0;32m   2760\u001b[0m \u001b[38;5;28;01mif\u001b[39;00m ax \u001b[38;5;129;01mis\u001b[39;00m \u001b[38;5;28;01mNone\u001b[39;00m:\n\u001b[0;32m   2761\u001b[0m     ax \u001b[38;5;241m=\u001b[39m plt\u001b[38;5;241m.\u001b[39mgca()\n",
      "File \u001b[1;32m~\\anaconda3\\envs\\ada\\lib\\site-packages\\seaborn\\categorical.py:1530\u001b[0m, in \u001b[0;36m_BarPlotter.__init__\u001b[1;34m(self, x, y, hue, data, order, hue_order, estimator, errorbar, n_boot, units, seed, orient, color, palette, saturation, width, errcolor, errwidth, capsize, dodge)\u001b[0m\n\u001b[0;32m   1525\u001b[0m \u001b[38;5;28;01mdef\u001b[39;00m \u001b[38;5;21m__init__\u001b[39m(\u001b[38;5;28mself\u001b[39m, x, y, hue, data, order, hue_order,\n\u001b[0;32m   1526\u001b[0m              estimator, errorbar, n_boot, units, seed,\n\u001b[0;32m   1527\u001b[0m              orient, color, palette, saturation, width,\n\u001b[0;32m   1528\u001b[0m              errcolor, errwidth, capsize, dodge):\n\u001b[0;32m   1529\u001b[0m \u001b[38;5;250m    \u001b[39m\u001b[38;5;124;03m\"\"\"Initialize the plotter.\"\"\"\u001b[39;00m\n\u001b[1;32m-> 1530\u001b[0m     \u001b[38;5;28;43mself\u001b[39;49m\u001b[38;5;241;43m.\u001b[39;49m\u001b[43mestablish_variables\u001b[49m\u001b[43m(\u001b[49m\u001b[43mx\u001b[49m\u001b[43m,\u001b[49m\u001b[43m \u001b[49m\u001b[43my\u001b[49m\u001b[43m,\u001b[49m\u001b[43m \u001b[49m\u001b[43mhue\u001b[49m\u001b[43m,\u001b[49m\u001b[43m \u001b[49m\u001b[43mdata\u001b[49m\u001b[43m,\u001b[49m\u001b[43m \u001b[49m\u001b[43morient\u001b[49m\u001b[43m,\u001b[49m\n\u001b[0;32m   1531\u001b[0m \u001b[43m                             \u001b[49m\u001b[43morder\u001b[49m\u001b[43m,\u001b[49m\u001b[43m \u001b[49m\u001b[43mhue_order\u001b[49m\u001b[43m,\u001b[49m\u001b[43m \u001b[49m\u001b[43munits\u001b[49m\u001b[43m)\u001b[49m\n\u001b[0;32m   1532\u001b[0m     \u001b[38;5;28mself\u001b[39m\u001b[38;5;241m.\u001b[39mestablish_colors(color, palette, saturation)\n\u001b[0;32m   1533\u001b[0m     \u001b[38;5;28mself\u001b[39m\u001b[38;5;241m.\u001b[39mestimate_statistic(estimator, errorbar, n_boot, seed)\n",
      "File \u001b[1;32m~\\anaconda3\\envs\\ada\\lib\\site-packages\\seaborn\\categorical.py:541\u001b[0m, in \u001b[0;36m_CategoricalPlotter.establish_variables\u001b[1;34m(self, x, y, hue, data, orient, order, hue_order, units)\u001b[0m\n\u001b[0;32m    539\u001b[0m     \u001b[38;5;28;01mif\u001b[39;00m \u001b[38;5;28misinstance\u001b[39m(var, \u001b[38;5;28mstr\u001b[39m):\n\u001b[0;32m    540\u001b[0m         err \u001b[38;5;241m=\u001b[39m \u001b[38;5;124mf\u001b[39m\u001b[38;5;124m\"\u001b[39m\u001b[38;5;124mCould not interpret input \u001b[39m\u001b[38;5;124m'\u001b[39m\u001b[38;5;132;01m{\u001b[39;00mvar\u001b[38;5;132;01m}\u001b[39;00m\u001b[38;5;124m'\u001b[39m\u001b[38;5;124m\"\u001b[39m\n\u001b[1;32m--> 541\u001b[0m         \u001b[38;5;28;01mraise\u001b[39;00m \u001b[38;5;167;01mValueError\u001b[39;00m(err)\n\u001b[0;32m    543\u001b[0m \u001b[38;5;66;03m# Figure out the plotting orientation\u001b[39;00m\n\u001b[0;32m    544\u001b[0m orient \u001b[38;5;241m=\u001b[39m infer_orient(\n\u001b[0;32m    545\u001b[0m     x, y, orient, require_numeric\u001b[38;5;241m=\u001b[39m\u001b[38;5;28mself\u001b[39m\u001b[38;5;241m.\u001b[39mrequire_numeric\n\u001b[0;32m    546\u001b[0m )\n",
      "\u001b[1;31mValueError\u001b[0m: Could not interpret input 'movie_genre'"
     ]
    }
   ],
   "source": [
    "sns.barplot(data = unique_genres[['movie_count']].head(25).reset_index(),\n",
    "            x = 'movie_count', y = 'movie_genre', orientation = 'horizontal', color = '#6495ED')\n",
    "plt.title(\"Top 25 mentioned genres\")\n",
    "plt.ylabel(\"\")\n",
    "plt.xlabel(\"Count of movies associated to the genre\")"
   ]
  },
  {
   "cell_type": "markdown",
   "metadata": {},
   "source": [
    "Looking at the top mentionned genrs, we can observe that obviously speculative fiction genres are a minority of them. To understand how much of the movie relations is neglected by focusing on only the top mentionned genres, a cumulative percentage of movie counts can be plotted. And from the results from the following figure, we can observe that by taking only the top 50 genres out of more than 300, more than 80% of all movie-genre relations are covered."
   ]
  },
  {
   "cell_type": "code",
   "execution_count": 8,
   "metadata": {},
   "outputs": [
    {
     "data": {
      "image/png": "[encoded data removed]",
      "text/plain": [
       "<Figure size 1200x400 with 1 Axes>"
      ]
     },
     "metadata": {},
     "output_type": "display_data"
    }
   ],
   "source": [
    "# Get the cumulative percentage of movie count by top-sorted genres\n",
    "genre_cumu_moviecount = unique_genres['movie_count'].cumsum() / unique_genres['movie_count'].sum()\n",
    "\n",
    "# Plot the cumulative count as percent with each genre label (see dataframe index)\n",
    "plt.figure(figsize=(12, 4))\n",
    "plt.plot(genre_cumu_moviecount*100,\n",
    "         label='Cumulative Percentage')\n",
    "plt.xticks(rotation=80, ha='right')\n",
    "plt.xlim([0,50])\n",
    "\n",
    "# Highlight the 50% and 90% mark\n",
    "plt.axhline(y=50, color='r', linestyle='--', label='50% Mark')\n",
    "plt.axhline(y=90, color='g', linestyle='--', label='90% Mark')\n",
    "\n",
    "plt.xlabel('Genres (Sorted by related movie Count)')\n",
    "plt.ylabel('Cumulative Percentage of Movies references')\n",
    "plt.title('Cumulative Percentage of movies references per Genre (top 50)')\n",
    "plt.legend()\n",
    "plt.grid(True)\n",
    "plt.show()"
   ]
  },
  {
   "cell_type": "markdown",
   "metadata": {},
   "source": [
    "## Part 2 : Fiction vs Non fiction : from the provided dataset to our scientific questions\n",
    "\n",
    "#### Step 3 :  Processing and statistics on two major genres related to fictional worlds : 'Science Fiction' and 'Fantasy'\n",
    "\n",
    "For a first approach, we considered only two genres that are clearly fictional, Science Fiction and Fantasy."
   ]
  },
  {
   "cell_type": "code",
   "execution_count": 9,
   "metadata": {},
   "outputs": [
    {
     "name": "stdout",
     "output_type": "stream",
     "text": [
      "The total number of movies referred to as fictional is 5366, corresponding to 6.56% of whole movies.\n"
     ]
    }
   ],
   "source": [
    "df_fictional = df_genres[df_genres['movie_genre'].isin(['Science Fiction', 'Fantasy'])].copy()\n",
    "print(f\"The total number of movies referred to as fictional is {df_fictional['Wikipedia_movie_ID'].unique().size}, corresponding to {df_fictional['Wikipedia_movie_ID'].unique().size/df_movies['Wikipedia_movie_ID'].unique().size:.2%} of whole movies.\")"
   ]
  },
  {
   "cell_type": "code",
   "execution_count": 10,
   "metadata": {},
   "outputs": [
    {
     "data": {
      "text/html": [
       "<div>\n",
       "<style scoped>\n",
       "    .dataframe tbody tr th:only-of-type {\n",
       "        vertical-align: middle;\n",
       "    }\n",
       "\n",
       "    .dataframe tbody tr th {\n",
       "        vertical-align: top;\n",
       "    }\n",
       "\n",
       "    .dataframe thead th {\n",
       "        text-align: right;\n",
       "    }\n",
       "</style>\n",
       "<table border=\"1\" class=\"dataframe\">\n",
       "  <thead>\n",
       "    <tr style=\"text-align: right;\">\n",
       "      <th></th>\n",
       "      <th>Wikipedia_movie_ID</th>\n",
       "      <th>Freebase_genre_ID</th>\n",
       "      <th>movie_genre</th>\n",
       "      <th>movie_name</th>\n",
       "      <th>movie_release_date</th>\n",
       "      <th>release_year</th>\n",
       "    </tr>\n",
       "  </thead>\n",
       "  <tbody>\n",
       "    <tr>\n",
       "      <th>0</th>\n",
       "      <td>975900</td>\n",
       "      <td>/m/06n90</td>\n",
       "      <td>Science Fiction</td>\n",
       "      <td>Ghosts of Mars</td>\n",
       "      <td>2001-08-24</td>\n",
       "      <td>2001.0</td>\n",
       "    </tr>\n",
       "    <tr>\n",
       "      <th>1</th>\n",
       "      <td>18998739</td>\n",
       "      <td>/m/01hmnh</td>\n",
       "      <td>Fantasy</td>\n",
       "      <td>The Sorcerer's Apprentice</td>\n",
       "      <td>2002</td>\n",
       "      <td>2002.0</td>\n",
       "    </tr>\n",
       "    <tr>\n",
       "      <th>2</th>\n",
       "      <td>11250635</td>\n",
       "      <td>/m/06n90</td>\n",
       "      <td>Science Fiction</td>\n",
       "      <td>The Mechanical Monsters</td>\n",
       "      <td>NaN</td>\n",
       "      <td>NaN</td>\n",
       "    </tr>\n",
       "    <tr>\n",
       "      <th>4</th>\n",
       "      <td>77856</td>\n",
       "      <td>/m/01hmnh</td>\n",
       "      <td>Fantasy</td>\n",
       "      <td>Mary Poppins</td>\n",
       "      <td>1964-08-27</td>\n",
       "      <td>1964.0</td>\n",
       "    </tr>\n",
       "    <tr>\n",
       "      <th>5</th>\n",
       "      <td>612710</td>\n",
       "      <td>/m/06n90</td>\n",
       "      <td>Science Fiction</td>\n",
       "      <td>New Rose Hotel</td>\n",
       "      <td>1999-10-01</td>\n",
       "      <td>1999.0</td>\n",
       "    </tr>\n",
       "  </tbody>\n",
       "</table>\n",
       "</div>"
      ],
      "text/plain": [
       "   Wikipedia_movie_ID Freebase_genre_ID      movie_genre  \\\n",
       "0              975900          /m/06n90  Science Fiction   \n",
       "1            18998739         /m/01hmnh          Fantasy   \n",
       "2            11250635          /m/06n90  Science Fiction   \n",
       "4               77856         /m/01hmnh          Fantasy   \n",
       "5              612710          /m/06n90  Science Fiction   \n",
       "\n",
       "                  movie_name movie_release_date  release_year  \n",
       "0             Ghosts of Mars         2001-08-24        2001.0  \n",
       "1  The Sorcerer's Apprentice               2002        2002.0  \n",
       "2    The Mechanical Monsters                NaN           NaN  \n",
       "4               Mary Poppins         1964-08-27        1964.0  \n",
       "5             New Rose Hotel         1999-10-01        1999.0  "
      ]
     },
     "execution_count": 10,
     "metadata": {},
     "output_type": "execute_result"
    }
   ],
   "source": [
    "# populate the fictional genre dataset to add information on the movie as the release date\n",
    "df_movies_fictional = pd.merge(df_fictional, df_movies[['Wikipedia_movie_ID', 'movie_name', 'movie_release_date']], on='Wikipedia_movie_ID', how='inner').copy()\n",
    "df_movies_fictional['release_year'] =  pd.to_datetime(df_movies_fictional['movie_release_date'], format='mixed', errors='coerce').dt.year\n",
    "df_movies_fictional_id = df_movies_fictional[~df_movies_fictional.duplicated('Wikipedia_movie_ID')].copy()\n",
    "df_movies_fictional_id.head()"
   ]
  },
  {
   "cell_type": "code",
   "execution_count": 11,
   "metadata": {
    "tags": []
   },
   "outputs": [],
   "source": [
    "# create a new column with only the release year\n",
    "df_movies['release_year'] = pd.to_datetime(df_movies['movie_release_date'], format='mixed', errors='coerce').dt.year"
   ]
  },
  {
   "cell_type": "markdown",
   "metadata": {},
   "source": [
    "Calculate the fraction of fictional movies over the years"
   ]
  },
  {
   "cell_type": "code",
   "execution_count": 12,
   "metadata": {
    "tags": []
   },
   "outputs": [],
   "source": [
    "# Group by year with NaN\n",
    "grouped_all_movies = df_movies.groupby('release_year')['release_year'].count()\n",
    "# Group by year with NaN for fictional movies\n",
    "grouped_genre_movies = df_movies_fictional_id.groupby('release_year')['release_year'].count()"
   ]
  },
  {
   "cell_type": "code",
   "execution_count": 13,
   "metadata": {},
   "outputs": [
    {
     "ename": "NameError",
     "evalue": "name 'grouped_genre_movies_df' is not defined",
     "output_type": "error",
     "traceback": [
      "\u001b[1;31m---------------------------------------------------------------------------\u001b[0m",
      "\u001b[1;31mNameError\u001b[0m                                 Traceback (most recent call last)",
      "Cell \u001b[1;32mIn[13], line 1\u001b[0m\n\u001b[1;32m----> 1\u001b[0m display(\u001b[43mgrouped_genre_movies_df\u001b[49m)\n",
      "\u001b[1;31mNameError\u001b[0m: name 'grouped_genre_movies_df' is not defined"
     ]
    }
   ],
   "source": [
    "display(grouped_genre_movies_df)"
   ]
  },
  {
   "cell_type": "code",
   "execution_count": 26,
   "metadata": {},
   "outputs": [
    {
     "data": {
      "text/html": [
       "<div>\n",
       "<style scoped>\n",
       "    .dataframe tbody tr th:only-of-type {\n",
       "        vertical-align: middle;\n",
       "    }\n",
       "\n",
       "    .dataframe tbody tr th {\n",
       "        vertical-align: top;\n",
       "    }\n",
       "\n",
       "    .dataframe thead th {\n",
       "        text-align: right;\n",
       "    }\n",
       "</style>\n",
       "<table border=\"1\" class=\"dataframe\">\n",
       "  <thead>\n",
       "    <tr style=\"text-align: right;\">\n",
       "      <th></th>\n",
       "      <th>release_year</th>\n",
       "      <th>count</th>\n",
       "    </tr>\n",
       "  </thead>\n",
       "  <tbody>\n",
       "    <tr>\n",
       "      <th>0</th>\n",
       "      <td>1890.0</td>\n",
       "      <td>4</td>\n",
       "    </tr>\n",
       "    <tr>\n",
       "      <th>1</th>\n",
       "      <td>1900.0</td>\n",
       "      <td>18</td>\n",
       "    </tr>\n",
       "    <tr>\n",
       "      <th>2</th>\n",
       "      <td>1910.0</td>\n",
       "      <td>32</td>\n",
       "    </tr>\n",
       "    <tr>\n",
       "      <th>3</th>\n",
       "      <td>1920.0</td>\n",
       "      <td>48</td>\n",
       "    </tr>\n",
       "    <tr>\n",
       "      <th>4</th>\n",
       "      <td>1930.0</td>\n",
       "      <td>90</td>\n",
       "    </tr>\n",
       "    <tr>\n",
       "      <th>5</th>\n",
       "      <td>1940.0</td>\n",
       "      <td>129</td>\n",
       "    </tr>\n",
       "    <tr>\n",
       "      <th>6</th>\n",
       "      <td>1950.0</td>\n",
       "      <td>305</td>\n",
       "    </tr>\n",
       "    <tr>\n",
       "      <th>7</th>\n",
       "      <td>1960.0</td>\n",
       "      <td>379</td>\n",
       "    </tr>\n",
       "    <tr>\n",
       "      <th>8</th>\n",
       "      <td>1970.0</td>\n",
       "      <td>405</td>\n",
       "    </tr>\n",
       "    <tr>\n",
       "      <th>9</th>\n",
       "      <td>1980.0</td>\n",
       "      <td>745</td>\n",
       "    </tr>\n",
       "    <tr>\n",
       "      <th>10</th>\n",
       "      <td>1990.0</td>\n",
       "      <td>923</td>\n",
       "    </tr>\n",
       "    <tr>\n",
       "      <th>11</th>\n",
       "      <td>2000.0</td>\n",
       "      <td>1542</td>\n",
       "    </tr>\n",
       "    <tr>\n",
       "      <th>12</th>\n",
       "      <td>2010.0</td>\n",
       "      <td>431</td>\n",
       "    </tr>\n",
       "  </tbody>\n",
       "</table>\n",
       "</div>"
      ],
      "text/plain": [
       "    release_year  count\n",
       "0         1890.0      4\n",
       "1         1900.0     18\n",
       "2         1910.0     32\n",
       "3         1920.0     48\n",
       "4         1930.0     90\n",
       "5         1940.0    129\n",
       "6         1950.0    305\n",
       "7         1960.0    379\n",
       "8         1970.0    405\n",
       "9         1980.0    745\n",
       "10        1990.0    923\n",
       "11        2000.0   1542\n",
       "12        2010.0    431"
      ]
     },
     "execution_count": 26,
     "metadata": {},
     "output_type": "execute_result"
    }
   ],
   "source": [
    "\n",
    "\n",
    "grouped_genre_movies_df=grouped_genre_movies.to_frame().rename(columns={'release_year':'count'}).reset_index()\n",
    "#count the number of fictional movies for each period of n years\n",
    "def period(n,df):\n",
    "    df_up = df.groupby(df[\"release_year\"]//n).sum()\n",
    "    df_up['release_year']=df_up.index*n\n",
    "    df_up = df_up.reset_index(drop=True)\n",
    "    return df_up\n",
    "period(10,grouped_genre_movies_df)\n",
    "\n",
    "#grouped_genre_movies_df.groupby(pd.Grouper(key='movie_release_date',freq='10Y'))\n",
    "#grouped_genre_movies_df.groupby(pd.cut(grouped_genre_movies_df[\"release_year\"], np.arange(, 1991, 1995)))\n",
    "#display(grouped_genre_movies_df)"
   ]
  },
  {
   "cell_type": "code",
   "execution_count": 14,
   "metadata": {
    "tags": []
   },
   "outputs": [
    {
     "data": {
      "text/plain": [
       "Text(0, 0.5, 'percentage')"
      ]
     },
     "execution_count": 14,
     "metadata": {},
     "output_type": "execute_result"
    },
    {
     "data": {
      "image/png": "[encoded data removed]",
      "text/plain": [
       "<Figure size 800x300 with 1 Axes>"
      ]
     },
     "metadata": {},
     "output_type": "display_data"
    }
   ],
   "source": [
    "# Replace NaN values by 0 \n",
    "grouped_all_movies = grouped_all_movies.fillna(0)\n",
    "\n",
    "# Calculate the fraction of fictional movies over the years, with NaN values as 0\n",
    "fraction_by_year = (grouped_genre_movies / grouped_all_movies)*100\n",
    "\n",
    "# figure\n",
    "plt.figure(figsize=(8,3))\n",
    "plt.plot(fraction_by_year.index,fraction_by_year.values)\n",
    "plt.title(\"Percentage of fictional movies over time\")\n",
    "plt.xlabel(\"years\")\n",
    "plt.ylabel(\"percentage\")"
   ]
  },
  {
   "cell_type": "markdown",
   "metadata": {},
   "source": [
    "The percentage of fictional movies (SF and Fantasy) slowly increased over the years from 1910th to 2015. The extreme values before this date are due to the very little number of movies released (for example in 1902 only 3 movies were released and were all fiction). In 2015 we noticed a high value that need additional analysis."
   ]
  },
  {
   "cell_type": "code",
   "execution_count": 15,
   "metadata": {
    "tags": []
   },
   "outputs": [
    {
     "data": {
      "text/plain": [
       "<matplotlib.legend.Legend at 0x118461dc130>"
      ]
     },
     "execution_count": 15,
     "metadata": {},
     "output_type": "execute_result"
    },
    {
     "data": {
      "image/png": "[encoded data removed]",
      "text/plain": [
       "<Figure size 800x400 with 1 Axes>"
      ]
     },
     "metadata": {},
     "output_type": "display_data"
    }
   ],
   "source": [
    "# Figure of number of movies released per year\n",
    "plt.figure(figsize=(8,4))\n",
    "plt.semilogy(grouped_genre_movies.index, grouped_genre_movies.values, label = \"Fictional movies\")\n",
    "plt.semilogy(grouped_all_movies.index, grouped_all_movies.values, label = \"All movies\")\n",
    "plt.xlabel('years')\n",
    "plt.ylabel('Number of movies')\n",
    "plt.title('Number of movies released per year')\n",
    "plt.legend()"
   ]
  },
  {
   "cell_type": "markdown",
   "metadata": {},
   "source": [
    "We observe that the number of fictional movies increases through time but the total number of movies relased per year increases very slowly.\n",
    "It's visible that before 1940, there is a inconsistent number of fictional movies. This needs to be taken into account during further analysis."
   ]
  },
  {
   "cell_type": "markdown",
   "metadata": {},
   "source": [
    "#### Step 4 : Naive-Bayes ML for improved speculative fictional summaries classification\n",
    "\n",
    "A first approach to extract fictional movies is to only consider movies genres that are clearly fictional like \"Science-fiction\" or \"Fantasy\". Nevertheless, limiting the approach to those ones can induce bias. Then, mentionned genre classification may make us miss some speculative movies that are not classified as “obvious” speculative fiction genres. For example, it is not possible to extract the fiction degree of a movie only classified as an “action movie”. In this way, we want to use Naive-Bayes ML to improve speculative fictional summaries classification.\n",
    "\n",
    "In this part, we discuss the Naive-Bayes ML approach for classification, the relevance of its results and we try to improve it by testing hyperparameters and feature processing as TF-IDF and stemming.\n",
    "\n",
    "We will for now, take all summaries of the genre \"Science Fiction\" and \"Fantasy\" vs the 'Documentary', 'Biography', 'Culture & Society', 'Biographical film', 'Biopic [feature]' and 'History' as training of the classifier. This is for pipeline testing purpose and the biais and confounders of such a choice of training dataset should be discussed."
   ]
  },
  {
   "cell_type": "code",
   "execution_count": 16,
   "metadata": {},
   "outputs": [],
   "source": [
    "# Import following additional libraries and functions\n",
    "from sklearn.feature_extraction.text import CountVectorizer, TfidfTransformer\n",
    "from sklearn.model_selection import train_test_split, GridSearchCV\n",
    "from sklearn.naive_bayes import MultinomialNB\n",
    "from sklearn.pipeline import Pipeline\n",
    "from sklearn.metrics import confusion_matrix, ConfusionMatrixDisplay, classification_report, f1_score\n",
    "\n",
    "import nltk\n",
    "from nltk.stem.snowball import SnowballStemmer"
   ]
  },
  {
   "cell_type": "code",
   "execution_count": 17,
   "metadata": {},
   "outputs": [
    {
     "name": "stderr",
     "output_type": "stream",
     "text": [
      "[nltk_data] Downloading package stopwords to\n",
      "[nltk_data]     C:\\Users\\aubru\\AppData\\Roaming\\nltk_data...\n",
      "[nltk_data]   Package stopwords is already up-to-date!\n"
     ]
    },
    {
     "data": {
      "text/plain": [
       "True"
      ]
     },
     "execution_count": 17,
     "metadata": {},
     "output_type": "execute_result"
    }
   ],
   "source": [
    "# to work with nltk snowballstemmer, need to download the following data (only once)\n",
    "nltk.download('stopwords')"
   ]
  },
  {
   "cell_type": "code",
   "execution_count": 18,
   "metadata": {},
   "outputs": [
    {
     "name": "stdout",
     "output_type": "stream",
     "text": [
      "The total number of movies IDs in each subset for fictional is 5366 and for non-fictional is 7778.\n"
     ]
    }
   ],
   "source": [
    "# Get 2 subset of movies ID based on genre clearly fictional and non fictional\n",
    "fictional_wiki_movie_id = df_fictional['Wikipedia_movie_ID'].unique().copy() #defined in Part 1 ('Science Fiction' and 'Fantasy')\n",
    "non_fictional_wiki_movie_id = df_genres[df_genres['movie_genre'].isin(['Documentary', 'Biography', 'Culture & Society', 'Biographical film', 'Biopic [feature]', 'History'])]['Wikipedia_movie_ID'].unique().copy()\n",
    "\n",
    "print(f\"The total number of movies IDs in each subset for fictional is {fictional_wiki_movie_id.size} and for non-fictional is {non_fictional_wiki_movie_id.size}.\")"
   ]
  },
  {
   "cell_type": "code",
   "execution_count": 19,
   "metadata": {},
   "outputs": [
    {
     "data": {
      "text/html": [
       "<div>\n",
       "<style scoped>\n",
       "    .dataframe tbody tr th:only-of-type {\n",
       "        vertical-align: middle;\n",
       "    }\n",
       "\n",
       "    .dataframe tbody tr th {\n",
       "        vertical-align: top;\n",
       "    }\n",
       "\n",
       "    .dataframe thead th {\n",
       "        text-align: right;\n",
       "    }\n",
       "</style>\n",
       "<table border=\"1\" class=\"dataframe\">\n",
       "  <thead>\n",
       "    <tr style=\"text-align: right;\">\n",
       "      <th></th>\n",
       "      <th>movie_ID</th>\n",
       "      <th>movie_summary</th>\n",
       "    </tr>\n",
       "  </thead>\n",
       "  <tbody>\n",
       "    <tr>\n",
       "      <th>0</th>\n",
       "      <td>23890098</td>\n",
       "      <td>Shlykov, a hard-working taxi driver and Lyosha...</td>\n",
       "    </tr>\n",
       "    <tr>\n",
       "      <th>1</th>\n",
       "      <td>31186339</td>\n",
       "      <td>The nation of Panem consists of a wealthy Capi...</td>\n",
       "    </tr>\n",
       "    <tr>\n",
       "      <th>2</th>\n",
       "      <td>20663735</td>\n",
       "      <td>Poovalli Induchoodan  is sentenced for six yea...</td>\n",
       "    </tr>\n",
       "    <tr>\n",
       "      <th>3</th>\n",
       "      <td>2231378</td>\n",
       "      <td>The Lemon Drop Kid , a New York City swindler,...</td>\n",
       "    </tr>\n",
       "    <tr>\n",
       "      <th>4</th>\n",
       "      <td>595909</td>\n",
       "      <td>Seventh-day Adventist Church pastor Michael Ch...</td>\n",
       "    </tr>\n",
       "    <tr>\n",
       "      <th>...</th>\n",
       "      <td>...</td>\n",
       "      <td>...</td>\n",
       "    </tr>\n",
       "    <tr>\n",
       "      <th>42298</th>\n",
       "      <td>34808485</td>\n",
       "      <td>The story is about Reema , a young Muslim scho...</td>\n",
       "    </tr>\n",
       "    <tr>\n",
       "      <th>42299</th>\n",
       "      <td>1096473</td>\n",
       "      <td>In 1928 Hollywood, director Leo Andreyev  look...</td>\n",
       "    </tr>\n",
       "    <tr>\n",
       "      <th>42300</th>\n",
       "      <td>35102018</td>\n",
       "      <td>American Luthier focuses on Randy Parsons’ tra...</td>\n",
       "    </tr>\n",
       "    <tr>\n",
       "      <th>42301</th>\n",
       "      <td>8628195</td>\n",
       "      <td>Abdur Rehman Khan , a middle-aged dry fruit se...</td>\n",
       "    </tr>\n",
       "    <tr>\n",
       "      <th>42302</th>\n",
       "      <td>6040782</td>\n",
       "      <td>1940 - Operation Dynamo has just taken place. ...</td>\n",
       "    </tr>\n",
       "  </tbody>\n",
       "</table>\n",
       "<p>42303 rows × 2 columns</p>\n",
       "</div>"
      ],
      "text/plain": [
       "       movie_ID                                      movie_summary\n",
       "0      23890098  Shlykov, a hard-working taxi driver and Lyosha...\n",
       "1      31186339  The nation of Panem consists of a wealthy Capi...\n",
       "2      20663735  Poovalli Induchoodan  is sentenced for six yea...\n",
       "3       2231378  The Lemon Drop Kid , a New York City swindler,...\n",
       "4        595909  Seventh-day Adventist Church pastor Michael Ch...\n",
       "...         ...                                                ...\n",
       "42298  34808485  The story is about Reema , a young Muslim scho...\n",
       "42299   1096473  In 1928 Hollywood, director Leo Andreyev  look...\n",
       "42300  35102018  American Luthier focuses on Randy Parsons’ tra...\n",
       "42301   8628195  Abdur Rehman Khan , a middle-aged dry fruit se...\n",
       "42302   6040782  1940 - Operation Dynamo has just taken place. ...\n",
       "\n",
       "[42303 rows x 2 columns]"
      ]
     },
     "metadata": {},
     "output_type": "display_data"
    }
   ],
   "source": [
    "display(df_summaries)"
   ]
  },
  {
   "cell_type": "code",
   "execution_count": 20,
   "metadata": {},
   "outputs": [
    {
     "name": "stdout",
     "output_type": "stream",
     "text": [
      "The total number of summaries in each subset for fictional is 3941 and for non-fictional is 2382.\n",
      "The percents of fictional and non-fictional summaries are: 62.3% vs 37.7%\n"
     ]
    }
   ],
   "source": [
    "# Now we find the summaries associated to each movies. (Note: not all movies have a summary !)\n",
    "fictional_summaries = df_summaries[df_summaries['movie_ID'].isin(fictional_wiki_movie_id)]['movie_summary']\n",
    "non_fictional_summaries = df_summaries[df_summaries['movie_ID'].isin(non_fictional_wiki_movie_id)]['movie_summary']\n",
    "\n",
    "print(f\"The total number of summaries in each subset for fictional is {fictional_summaries.size} and for non-fictional is {non_fictional_summaries.size}.\")\n",
    "print(f'The percents of fictional and non-fictional summaries are: {fictional_summaries.size/ (fictional_summaries.size + non_fictional_summaries.size):.1%} vs {non_fictional_summaries.size/ (fictional_summaries.size + non_fictional_summaries.size):.1%}')"
   ]
  },
  {
   "cell_type": "markdown",
   "metadata": {},
   "source": [
    "Since the number of summaries in both subsets is not equal and to avoid that the model is biased towards the bigger class, the bigger subset, here fictional summaries, is undersampled randomly to match sizes. Then each class is labeled (binary): 1 for fictional movies and 0 for non fictional one."
   ]
  },
  {
   "cell_type": "code",
   "execution_count": 21,
   "metadata": {},
   "outputs": [
    {
     "name": "stdout",
     "output_type": "stream",
     "text": [
      "The final shape of the dataset is : (4764,) and labels also corresponds : (4764,)\n"
     ]
    }
   ],
   "source": [
    "# undersample the fictional summaries\n",
    "fictional_summaries_undersampled = fictional_summaries.sample(len(non_fictional_summaries))\n",
    "# Concatenate the summaries and create associated labeling array.\n",
    "selected_summaries = pd.concat((fictional_summaries_undersampled, non_fictional_summaries)).copy()\n",
    "labels = np.hstack((np.ones(fictional_summaries_undersampled.shape), np.zeros(non_fictional_summaries.shape)))\n",
    "\n",
    "print(f'The final shape of the dataset is : {selected_summaries.shape} and labels also corresponds : {labels.shape}')"
   ]
  },
  {
   "cell_type": "code",
   "execution_count": 22,
   "metadata": {},
   "outputs": [
    {
     "name": "stdout",
     "output_type": "stream",
     "text": [
      "Training set size: 3334\n",
      "Test set size: 1430\n"
     ]
    }
   ],
   "source": [
    "# Split the data into training and testing with proportion 0.7 and 0.3.\n",
    "x_train, x_test, y_train, y_test = train_test_split(selected_summaries, labels, test_size=0.3, random_state=42) \n",
    "\n",
    "print(\"Training set size:\", len(x_train))\n",
    "print(\"Test set size:\", len(x_test))"
   ]
  },
  {
   "cell_type": "markdown",
   "metadata": {},
   "source": [
    "Check if there are some movies in the fictional dataframe that are also in the dataframes containing all genres."
   ]
  },
  {
   "cell_type": "code",
   "execution_count": 23,
   "metadata": {
    "tags": []
   },
   "outputs": [
    {
     "name": "stdout",
     "output_type": "stream",
     "text": [
      "The number of movies that appear in both fictionnal and non fictionnal dataframe is : 44\n"
     ]
    }
   ],
   "source": [
    "conflict = df_movies_fictional_id[df_movies_fictional_id[\"Wikipedia_movie_ID\"].isin(non_fictional_wiki_movie_id)]\n",
    "print(f'The number of movies that appear in both fictionnal and non fictionnal dataframe is : {conflict.shape[0]}')"
   ]
  },
  {
   "cell_type": "markdown",
   "metadata": {},
   "source": [
    "Now that we have a first training set, we can create the pipeline for the machine learning. We chose the multinomial Naives Bayes model because it is a simple but efficient method that works well with text data.[1] As a probabilistic classifier, the naive model assumes that the features (here word count) are independant of the class. This assumption is often violated in case of text classification since words in a document are often related, and their occurrence may be correlated. This has to be kept in mind because more the assumption is wrong, weaker would the performance of this models be expected.\n",
    "\n",
    "Mutlinomial NB takes as input a word vector. Here the most basic approach would be a count vectorizer. But since the summaries vary in length, a normalization of the count as TF-IDF could be relevant to avoid a bais towards bigger summaries. We will test both approaches.\n",
    "\n",
    "[1] <url> https://developer.ibm.com/tutorials/awb-classifying-data-multinomial-naive-bayes-algorithm/<url/>"
   ]
  },
  {
   "cell_type": "code",
   "execution_count": 24,
   "metadata": {},
   "outputs": [],
   "source": [
    "# Create a sklearn pipeline with 2 successive feature processing and the ML model\n",
    "text_clf = Pipeline([('vect', CountVectorizer()),\n",
    "                      ('tfidf', TfidfTransformer()),\n",
    "                      ('clf', MultinomialNB()),\n",
    "])\n",
    "# fit the pipeline on the training set\n",
    "text_clf = text_clf.fit(x_train, y_train)"
   ]
  },
  {
   "cell_type": "code",
   "execution_count": 25,
   "metadata": {},
   "outputs": [
    {
     "data": {
      "image/png": "[encoded data removed]",
      "text/plain": [
       "<Figure size 400x400 with 2 Axes>"
      ]
     },
     "metadata": {},
     "output_type": "display_data"
    }
   ],
   "source": [
    "# Test the model of the test set and plot result in confusion matrix\n",
    "predicted_test = text_clf.predict(x_test)\n",
    "conf_matrix = confusion_matrix(y_test, predicted_test)\n",
    "\n",
    "# Plot the confusion matrix\n",
    "fig, ax = plt.subplots(1,1,figsize=(4,4))\n",
    "disp = ConfusionMatrixDisplay(confusion_matrix=conf_matrix, display_labels=['non_fictional', 'fictional'])\n",
    "disp.plot(ax=ax)\n",
    "plt.show()"
   ]
  },
  {
   "cell_type": "markdown",
   "metadata": {},
   "source": [
    "### Step 5: Evaluation of the ML classification performance"
   ]
  },
  {
   "cell_type": "code",
   "execution_count": 49,
   "metadata": {},
   "outputs": [
    {
     "name": "stdout",
     "output_type": "stream",
     "text": [
      "Classification Report:\n",
      "               precision    recall  f1-score   support\n",
      "\n",
      "non_fictional       0.95      0.81      0.87       698\n",
      "    fictional       0.84      0.95      0.90       732\n",
      "\n",
      "     accuracy                           0.89      1430\n",
      "    macro avg       0.89      0.88      0.89      1430\n",
      " weighted avg       0.89      0.89      0.89      1430\n",
      "\n"
     ]
    }
   ],
   "source": [
    "# Get other important metrics (precision, recall and f1-score) with sklearn classification report function\n",
    "class_report = classification_report(y_test, predicted_test, target_names=['non_fictional', 'fictional'])\n",
    "\n",
    "print(\"Classification Report:\")\n",
    "print(class_report)"
   ]
  },
  {
   "cell_type": "markdown",
   "metadata": {},
   "source": [
    "With sklearn GridSearchSCV we can test, based on cross validation, multiple relevant hyperparameters of our pipeline to see if some improvement can be observed. Here we test the removal of the stop words, the complexity of the classifier (clf_alpha), the prior fitting of the classifier (clf_fit_prior) or the use of inverse-document-frequency (idf) reweighting. "
   ]
  },
  {
   "cell_type": "code",
   "execution_count": 50,
   "metadata": {},
   "outputs": [
    {
     "name": "stdout",
     "output_type": "stream",
     "text": [
      "clf__alpha: 0.01\n",
      "clf__fit_prior: True\n",
      "tfidf__use_idf: False\n",
      "vect__stop_words: english\n",
      "Best score: 0.900678059248294\n"
     ]
    }
   ],
   "source": [
    "# The different parameters to test\n",
    "param_grid = {\n",
    "    'vect__stop_words': ['english', None],\n",
    "    'tfidf__use_idf': (True, False),\n",
    "    'clf__alpha': (1e-2, 1e-3),\n",
    "    'clf__fit_prior': [False, True]\n",
    "} \n",
    "\n",
    "grid_search = GridSearchCV(text_clf, param_grid, scoring='f1', n_jobs=-1)\n",
    "\n",
    "# Fit the grid search to the data\n",
    "grid_search.fit(x_train, y_train)\n",
    "\n",
    "# Get the best model and parameters\n",
    "best_model = grid_search.best_estimator_\n",
    "best_params = grid_search.best_params_\n",
    "\n",
    "# Print the best parameters and accuracy\n",
    "for param, value in best_params.items():\n",
    "    print(f\"{param}: {value}\")\n",
    "print(\"Best score:\", grid_search.best_score_)"
   ]
  },
  {
   "cell_type": "code",
   "execution_count": 51,
   "metadata": {},
   "outputs": [
    {
     "name": "stdout",
     "output_type": "stream",
     "text": [
      "Classification Report:\n",
      "               precision    recall  f1-score   support\n",
      "\n",
      "non_fictional       0.91      0.89      0.90       698\n",
      "    fictional       0.89      0.92      0.90       732\n",
      "\n",
      "     accuracy                           0.90      1430\n",
      "    macro avg       0.90      0.90      0.90      1430\n",
      " weighted avg       0.90      0.90      0.90      1430\n",
      "\n"
     ]
    }
   ],
   "source": [
    "# And measures the metrics on the prediction in test set with this optimized model \n",
    "predicted_test = best_model.predict(x_test)\n",
    "\n",
    "# Measures metrics with classification report\n",
    "class_report = classification_report(y_test, predicted_test, target_names=['non_fictional', 'fictional'])\n",
    "\n",
    "print(\"Classification Report:\")\n",
    "print(class_report)"
   ]
  },
  {
   "cell_type": "markdown",
   "metadata": {},
   "source": [
    "The feature processing is an important step. Here the features are the words, therefore it is relevant to test also if trying to regroup words as for example in stems, can improve the model."
   ]
  },
  {
   "cell_type": "code",
   "execution_count": 52,
   "metadata": {},
   "outputs": [
    {
     "name": "stdout",
     "output_type": "stream",
     "text": [
      "Classification Report:\n",
      "               precision    recall  f1-score   support\n",
      "\n",
      "non_fictional       0.94      0.85      0.89       698\n",
      "    fictional       0.87      0.95      0.91       732\n",
      "\n",
      "     accuracy                           0.90      1430\n",
      "    macro avg       0.91      0.90      0.90      1430\n",
      " weighted avg       0.90      0.90      0.90      1430\n",
      "\n"
     ]
    }
   ],
   "source": [
    "# We can also try complexer word vectorization, here with nltk snowballstemmer algorithm\n",
    "stemmer = SnowballStemmer(\"english\")\n",
    "\n",
    "# A class that creates an analyzer for easier use in pipeline\n",
    "class StemmedCountVectorizer(CountVectorizer):\n",
    "    def build_analyzer(self):\n",
    "        analyzer = super(StemmedCountVectorizer, self).build_analyzer()\n",
    "        return lambda doc: ([stemmer.stem(w) for w in analyzer(doc)])\n",
    "stemmed_count_vect = StemmedCountVectorizer()\n",
    "\n",
    "# create new pipeline with new first word vectorizer and fit it to same train set\n",
    "text_clf_stemmed = Pipeline([('vect', stemmed_count_vect),\n",
    "                             ('tfidf', TfidfTransformer()),\n",
    "                             ('mnb', MultinomialNB())])\n",
    "text_clf_stemmed = text_clf_stemmed.fit(x_train, y_train)\n",
    "\n",
    "# predict the test set and measure metrics\n",
    "predicted_clf_stemmed = text_clf_stemmed.predict(x_test)\n",
    "class_report = classification_report(y_test, predicted_clf_stemmed, target_names=['non_fictional', 'fictional'])\n",
    "\n",
    "print(\"Classification Report:\")\n",
    "print(class_report)"
   ]
  },
  {
   "cell_type": "markdown",
   "metadata": {},
   "source": [
    "For now, we observed that the result of the methods reach scores up to around 90% for fictional classification. But nevertheless, we have to keep in mind the choice of the training and testing set and the application we want of it.\n",
    "\n",
    " Here, we can expect that the model is trained to classify non fictional only if features (words) typical of the training set (documentaries, biographies, etc) appear. We can make a quick test by taking three recent movies plots:  "
   ]
  },
  {
   "cell_type": "code",
   "execution_count": 53,
   "metadata": {},
   "outputs": [
    {
     "name": "stdout",
     "output_type": "stream",
     "text": [
      "The prediction on some recent movie plots:\n",
      "\t - jamesbond (2021) : fictional\n",
      "\t - barbie (2023) = fictional\n",
      "\t - \"1970\" (2021, docu) = non-fictional\n"
     ]
    }
   ],
   "source": [
    "def predict_genre(file_path, model):\n",
    "    with open(file_path, \"r\") as text_file:\n",
    "        content = text_file.read()\n",
    "    prediction = model.predict([content])\n",
    "    return \"fictional\" if prediction==1 else \"non-fictional\"\n",
    "\n",
    "jb_prediction = predict_genre(\"jamesbond_notimetodie.txt\", best_model)\n",
    "barbie_prediction = predict_genre(\"barbie_2023.txt\", best_model)\n",
    "docu_prediction = predict_genre(\"1970_docu.txt\", best_model)\n",
    "\n",
    "print(f'The prediction on some recent movie plots:')\n",
    "print(f'\\t - jamesbond (2021) : {jb_prediction}')\n",
    "print(f'\\t - barbie (2023) = {barbie_prediction}')\n",
    "print(f'\\t - \"1970\" (2021, docu) = {docu_prediction}')"
   ]
  },
  {
   "cell_type": "markdown",
   "metadata": {},
   "source": [
    "Therefore we can expect that with this training set the prediction on action movies or drame movies will not reach expectations. Therefore we have to think about an approach to train the model on sets including such movies genres. A manual classification of movies can be of interest but can take a lot of time. To have an estimation of how much we have to classify ourself to have good results, we can test the effect of reducing the training set size and plot the results."
   ]
  },
  {
   "cell_type": "code",
   "execution_count": 54,
   "metadata": {},
   "outputs": [
    {
     "data": {
      "image/png": "[encoded data removed]",
      "text/plain": [
       "<Figure size 700x400 with 1 Axes>"
      ]
     },
     "metadata": {},
     "output_type": "display_data"
    }
   ],
   "source": [
    "# We define the number of runs and the range of training set sizes to test\n",
    "num_runs = 10 # this will enable to estimate the variation with a confidence interval\n",
    "training_set_sizes = (np.arange(0.05, 1.0, 0.1)*x_train.size).astype(int)\n",
    "\n",
    "# numpy frame to store the scores\n",
    "all_f1_scores = np.zeros((num_runs, len(training_set_sizes)))\n",
    "\n",
    "# Iterate through each range of training sizes num_runs times\n",
    "for run in range(num_runs):\n",
    "    for i, size in enumerate(training_set_sizes):\n",
    "        # Create a subset of given size\n",
    "        x_subset, _, y_subset, _ = train_test_split(x_train, y_train, train_size=size, random_state=run*10)\n",
    "\n",
    "        # Fit the model on the subset and make prediction on same test set\n",
    "        text_clf.fit(x_subset, y_subset)\n",
    "        y_pred = text_clf.predict(x_test)\n",
    "\n",
    "        # Measure and save F1 score\n",
    "        f1 = f1_score(y_test, y_pred)\n",
    "        all_f1_scores[run, i] = f1\n",
    "\n",
    "# To estimate the variation we calculate mean and confidence intervals\n",
    "mean_f1_scores = np.mean(all_f1_scores, axis=0)\n",
    "std_f1_scores = np.std(all_f1_scores, axis=0)\n",
    "conf_int_low = mean_f1_scores - 1.96 * (std_f1_scores / np.sqrt(num_runs))\n",
    "conf_int_high = mean_f1_scores + 1.96 * (std_f1_scores / np.sqrt(num_runs))\n",
    "\n",
    "# Plot the results with confidence intervals\n",
    "fig, ax = plt.subplots(figsize = (7,4))\n",
    "ax.plot(training_set_sizes, mean_f1_scores, marker='o', label='Mean F1 Score')\n",
    "ax.fill_between(training_set_sizes, conf_int_low, conf_int_high, alpha=0.2, label='95% Confidence Interval')\n",
    "ax.set_xlabel('Training Set Size')\n",
    "ax.set_ylabel('Weighted F1 Score')\n",
    "ax.set_title('F1 Score vs Training Set Size with Confidence Interval')\n",
    "plt.legend()\n",
    "plt.show()"
   ]
  },
  {
   "cell_type": "markdown",
   "metadata": {},
   "source": [
    "Based on the graphe above, a training set of already around 500 summaries could already achieve some interesting performance. Nevertheless, to create one fully manually risks to take a lot of time. An alternative approach could be to only classify randomly summaries to create another validation set which would enable us to test the model on a more \"realistic\" sample. \n",
    "\n",
    "Better feature processing could also improve the model. Similar to stemming, lemmatization would reduce the words to their base and would give another approach on the features. More complexe vectorization techniques that could be relevant to check are word embeddings as Word2Vec."
   ]
  },
  {
   "cell_type": "markdown",
   "metadata": {},
   "source": [
    "# Part 3: Theme identification of the fictional movies and sentiment analysis"
   ]
  },
  {
   "cell_type": "markdown",
   "metadata": {
    "jp-MarkdownHeadingCollapsed": true
   },
   "source": [
    "### Step 6: We apply sentiment analysis on all the summaries of movies from our speculative fiction dataset."
   ]
  },
  {
   "cell_type": "markdown",
   "metadata": {},
   "source": [
    "We use the Stanford NLP pipeline for sentiment analysis. It categorizes sentiment into positive (2), neutral (1), and negative (0)."
   ]
  },
  {
   "cell_type": "code",
   "execution_count": 55,
   "metadata": {},
   "outputs": [
    {
     "ename": "ModuleNotFoundError",
     "evalue": "No module named 'stanza'",
     "output_type": "error",
     "traceback": [
      "\u001b[1;31m---------------------------------------------------------------------------\u001b[0m",
      "\u001b[1;31mModuleNotFoundError\u001b[0m                       Traceback (most recent call last)",
      "Cell \u001b[1;32mIn[55], line 1\u001b[0m\n\u001b[1;32m----> 1\u001b[0m \u001b[38;5;28;01mimport\u001b[39;00m \u001b[38;5;21;01mstanza\u001b[39;00m\n\u001b[0;32m      2\u001b[0m nlp \u001b[38;5;241m=\u001b[39m stanza\u001b[38;5;241m.\u001b[39mPipeline(lang\u001b[38;5;241m=\u001b[39m\u001b[38;5;124m'\u001b[39m\u001b[38;5;124men\u001b[39m\u001b[38;5;124m'\u001b[39m, processors\u001b[38;5;241m=\u001b[39m\u001b[38;5;124m'\u001b[39m\u001b[38;5;124mtokenize,sentiment\u001b[39m\u001b[38;5;124m'\u001b[39m)\n",
      "\u001b[1;31mModuleNotFoundError\u001b[0m: No module named 'stanza'"
     ]
    }
   ],
   "source": [
    "import stanza\n",
    "nlp = stanza.Pipeline(lang='en', processors='tokenize,sentiment')"
   ]
  },
  {
   "cell_type": "code",
   "execution_count": null,
   "metadata": {},
   "outputs": [],
   "source": [
    "movie_data_summaries = df_movies.merge(df_summaries, on='Wikipedia_movie_ID', how='inner')\n",
    "\n",
    "sad_movie_summary = movie_data_summaries[movie_data_summaries['movie_name'] == \"The Elephant Man\"].reset_index().at[0,'movie_summary']\n",
    "happy_movie_summary = movie_data_summaries[movie_data_summaries['movie_name'] == \"Love Actually\"].reset_index().at[0,'movie_summary']\n",
    "\n",
    "doc_sad = nlp(sad_movie_summary)\n",
    "doc_happy = nlp(happy_movie_summary)\n",
    "\n",
    "sad_sentences_sentiments = []\n",
    "for sentence in doc_sad.sentences:\n",
    "    sad_sentences_sentiments.append(sentence.sentiment)\n",
    "print('sentiment score sad movie:', np.mean(sad_sentences_sentiments))\n",
    "\n",
    "happy_sentences_sentiments = []\n",
    "for sentence in doc_happy.sentences:\n",
    "    happy_sentences_sentiments.append(sentence.sentiment)\n",
    "print('sentiment score happy movie:', np.mean(happy_sentences_sentiments))"
   ]
  },
  {
   "cell_type": "markdown",
   "metadata": {},
   "source": [
    "To evaluate the sentiment of a movie, we compute sentiment scores for each sentence of its summary and take the average. The lengths of the summaries needs to be taken into consideration further down the line.\n",
    "Because the runtime of sentiment analysis is very long, we just demonstrate the tool with two movies which we consider as sad and happy."
   ]
  },
  {
   "cell_type": "code",
   "execution_count": null,
   "metadata": {},
   "outputs": [],
   "source": [
    "movie_data_summaries = df_movies.merge(df_summaries, on='Wikipedia_movie_ID', how='inner')\n",
    "\n",
    "sad_movie_summary = movie_data_summaries[movie_data_summaries['movie_name'] == \"The Elephant Man\"].reset_index().at[0,'movie_summary']\n",
    "happy_movie_summary = movie_data_summaries[movie_data_summaries['movie_name'] == \"Love Actually\"].reset_index().at[0,'movie_summary']\n",
    "\n",
    "doc_sad = nlp(sad_movie_summary)\n",
    "doc_happy = nlp(happy_movie_summary)\n",
    "\n",
    "sad_sentences_sentiments = []\n",
    "for sentence in doc_sad.sentences:\n",
    "    sad_sentences_sentiments.append(sentence.sentiment)\n",
    "print('sentiment score sad movie:', np.mean(sad_sentences_sentiments))\n",
    "\n",
    "happy_sentences_sentiments = []\n",
    "for sentence in doc_happy.sentences:\n",
    "    happy_sentences_sentiments.append(sentence.sentiment)\n",
    "print('sentiment score happy movie:', np.mean(happy_sentences_sentiments))"
   ]
  },
  {
   "cell_type": "markdown",
   "metadata": {},
   "source": [
    "### Step 7: Fit an LDA model to the summaries to identify different themes among the movies"
   ]
  },
  {
   "cell_type": "markdown",
   "metadata": {},
   "source": [
    "We employ here Latent Dirichlet Allocation (LDA) to extract and analyze themes from movie summaries. LDA is a common topic modelling method and is well-suited for this task due to its interpretability. With simple but relevant feature processes as stop words and Proper Noun removal, the LDA is fitted on the fictional summary subset to see if early patterns can already be osberved."
   ]
  },
  {
   "cell_type": "code",
   "execution_count": 32,
   "metadata": {},
   "outputs": [],
   "source": [
    "# import further necessary packages\n",
    "from sklearn.feature_extraction.text import CountVectorizer\n",
    "from sklearn.decomposition import LatentDirichletAllocation\n",
    "from nltk.tag import pos_tag\n",
    "from nltk.tokenize import word_tokenize"
   ]
  },
  {
   "cell_type": "code",
   "execution_count": 33,
   "metadata": {},
   "outputs": [
    {
     "name": "stderr",
     "output_type": "stream",
     "text": [
      "[nltk_data] Downloading package averaged_perceptron_tagger to\n",
      "[nltk_data]     C:\\Users\\aubru\\AppData\\Roaming\\nltk_data...\n",
      "[nltk_data]   Package averaged_perceptron_tagger is already up-to-\n",
      "[nltk_data]       date!\n",
      "[nltk_data] Downloading package punkt to\n",
      "[nltk_data]     C:\\Users\\aubru\\AppData\\Roaming\\nltk_data...\n",
      "[nltk_data]   Package punkt is already up-to-date!\n"
     ]
    },
    {
     "data": {
      "text/plain": [
       "True"
      ]
     },
     "execution_count": 33,
     "metadata": {},
     "output_type": "execute_result"
    }
   ],
   "source": [
    "# For nltk processing (only needed to download once)\n",
    "import nltk\n",
    "nltk.download('averaged_perceptron_tagger')\n",
    "nltk.download('punkt')"
   ]
  },
  {
   "cell_type": "code",
   "execution_count": 34,
   "metadata": {},
   "outputs": [
    {
     "ename": "KeyboardInterrupt",
     "evalue": "",
     "output_type": "error",
     "traceback": [
      "\u001b[1;31m---------------------------------------------------------------------------\u001b[0m",
      "\u001b[1;31mKeyboardInterrupt\u001b[0m                         Traceback (most recent call last)",
      "Cell \u001b[1;32mIn[34], line 17\u001b[0m\n\u001b[0;32m     14\u001b[0m     \u001b[38;5;28;01mreturn\u001b[39;00m \u001b[38;5;124m'\u001b[39m\u001b[38;5;124m \u001b[39m\u001b[38;5;124m'\u001b[39m\u001b[38;5;241m.\u001b[39mjoin(filtered_tokens)\n\u001b[0;32m     16\u001b[0m \u001b[38;5;66;03m# Preprocess the documents\u001b[39;00m\n\u001b[1;32m---> 17\u001b[0m preprocessed_sample_summaries \u001b[38;5;241m=\u001b[39m [filter_names(doc) \u001b[38;5;28;01mfor\u001b[39;00m doc \u001b[38;5;129;01min\u001b[39;00m sample_summaries]\n\u001b[0;32m     19\u001b[0m \u001b[38;5;66;03m# Vectorize the summaries\u001b[39;00m\n\u001b[0;32m     20\u001b[0m vectorizer \u001b[38;5;241m=\u001b[39m CountVectorizer(\n\u001b[0;32m     21\u001b[0m     max_df\u001b[38;5;241m=\u001b[39m\u001b[38;5;241m0.95\u001b[39m, min_df\u001b[38;5;241m=\u001b[39m\u001b[38;5;241m2\u001b[39m, max_features\u001b[38;5;241m=\u001b[39mn_features, stop_words\u001b[38;5;241m=\u001b[39m\u001b[38;5;124m\"\u001b[39m\u001b[38;5;124menglish\u001b[39m\u001b[38;5;124m\"\u001b[39m)\n",
      "Cell \u001b[1;32mIn[34], line 17\u001b[0m, in \u001b[0;36m<listcomp>\u001b[1;34m(.0)\u001b[0m\n\u001b[0;32m     14\u001b[0m     \u001b[38;5;28;01mreturn\u001b[39;00m \u001b[38;5;124m'\u001b[39m\u001b[38;5;124m \u001b[39m\u001b[38;5;124m'\u001b[39m\u001b[38;5;241m.\u001b[39mjoin(filtered_tokens)\n\u001b[0;32m     16\u001b[0m \u001b[38;5;66;03m# Preprocess the documents\u001b[39;00m\n\u001b[1;32m---> 17\u001b[0m preprocessed_sample_summaries \u001b[38;5;241m=\u001b[39m [\u001b[43mfilter_names\u001b[49m\u001b[43m(\u001b[49m\u001b[43mdoc\u001b[49m\u001b[43m)\u001b[49m \u001b[38;5;28;01mfor\u001b[39;00m doc \u001b[38;5;129;01min\u001b[39;00m sample_summaries]\n\u001b[0;32m     19\u001b[0m \u001b[38;5;66;03m# Vectorize the summaries\u001b[39;00m\n\u001b[0;32m     20\u001b[0m vectorizer \u001b[38;5;241m=\u001b[39m CountVectorizer(\n\u001b[0;32m     21\u001b[0m     max_df\u001b[38;5;241m=\u001b[39m\u001b[38;5;241m0.95\u001b[39m, min_df\u001b[38;5;241m=\u001b[39m\u001b[38;5;241m2\u001b[39m, max_features\u001b[38;5;241m=\u001b[39mn_features, stop_words\u001b[38;5;241m=\u001b[39m\u001b[38;5;124m\"\u001b[39m\u001b[38;5;124menglish\u001b[39m\u001b[38;5;124m\"\u001b[39m)\n",
      "Cell \u001b[1;32mIn[34], line 12\u001b[0m, in \u001b[0;36mfilter_names\u001b[1;34m(text)\u001b[0m\n\u001b[0;32m     10\u001b[0m \u001b[38;5;28;01mdef\u001b[39;00m \u001b[38;5;21mfilter_names\u001b[39m(text):\n\u001b[0;32m     11\u001b[0m     tokens \u001b[38;5;241m=\u001b[39m word_tokenize(text)\n\u001b[1;32m---> 12\u001b[0m     tagged_tokens \u001b[38;5;241m=\u001b[39m \u001b[43mpos_tag\u001b[49m\u001b[43m(\u001b[49m\u001b[43mtokens\u001b[49m\u001b[43m)\u001b[49m\n\u001b[0;32m     13\u001b[0m     filtered_tokens \u001b[38;5;241m=\u001b[39m [token \u001b[38;5;28;01mfor\u001b[39;00m token, pos \u001b[38;5;129;01min\u001b[39;00m tagged_tokens \u001b[38;5;28;01mif\u001b[39;00m pos \u001b[38;5;241m!=\u001b[39m \u001b[38;5;124m'\u001b[39m\u001b[38;5;124mNNP\u001b[39m\u001b[38;5;124m'\u001b[39m]\n\u001b[0;32m     14\u001b[0m     \u001b[38;5;28;01mreturn\u001b[39;00m \u001b[38;5;124m'\u001b[39m\u001b[38;5;124m \u001b[39m\u001b[38;5;124m'\u001b[39m\u001b[38;5;241m.\u001b[39mjoin(filtered_tokens)\n",
      "File \u001b[1;32m~\\anaconda3\\envs\\ada\\lib\\site-packages\\nltk\\tag\\__init__.py:166\u001b[0m, in \u001b[0;36mpos_tag\u001b[1;34m(tokens, tagset, lang)\u001b[0m\n\u001b[0;32m    141\u001b[0m \u001b[38;5;250m\u001b[39m\u001b[38;5;124;03m\"\"\"\u001b[39;00m\n\u001b[0;32m    142\u001b[0m \u001b[38;5;124;03mUse NLTK's currently recommended part of speech tagger to\u001b[39;00m\n\u001b[0;32m    143\u001b[0m \u001b[38;5;124;03mtag the given list of tokens.\u001b[39;00m\n\u001b[1;32m   (...)\u001b[0m\n\u001b[0;32m    163\u001b[0m \u001b[38;5;124;03m:rtype: list(tuple(str, str))\u001b[39;00m\n\u001b[0;32m    164\u001b[0m \u001b[38;5;124;03m\"\"\"\u001b[39;00m\n\u001b[0;32m    165\u001b[0m tagger \u001b[38;5;241m=\u001b[39m _get_tagger(lang)\n\u001b[1;32m--> 166\u001b[0m \u001b[38;5;28;01mreturn\u001b[39;00m \u001b[43m_pos_tag\u001b[49m\u001b[43m(\u001b[49m\u001b[43mtokens\u001b[49m\u001b[43m,\u001b[49m\u001b[43m \u001b[49m\u001b[43mtagset\u001b[49m\u001b[43m,\u001b[49m\u001b[43m \u001b[49m\u001b[43mtagger\u001b[49m\u001b[43m,\u001b[49m\u001b[43m \u001b[49m\u001b[43mlang\u001b[49m\u001b[43m)\u001b[49m\n",
      "File \u001b[1;32m~\\anaconda3\\envs\\ada\\lib\\site-packages\\nltk\\tag\\__init__.py:123\u001b[0m, in \u001b[0;36m_pos_tag\u001b[1;34m(tokens, tagset, tagger, lang)\u001b[0m\n\u001b[0;32m    120\u001b[0m     \u001b[38;5;28;01mraise\u001b[39;00m \u001b[38;5;167;01mTypeError\u001b[39;00m(\u001b[38;5;124m\"\u001b[39m\u001b[38;5;124mtokens: expected a list of strings, got a string\u001b[39m\u001b[38;5;124m\"\u001b[39m)\n\u001b[0;32m    122\u001b[0m \u001b[38;5;28;01melse\u001b[39;00m:\n\u001b[1;32m--> 123\u001b[0m     tagged_tokens \u001b[38;5;241m=\u001b[39m \u001b[43mtagger\u001b[49m\u001b[38;5;241;43m.\u001b[39;49m\u001b[43mtag\u001b[49m\u001b[43m(\u001b[49m\u001b[43mtokens\u001b[49m\u001b[43m)\u001b[49m\n\u001b[0;32m    124\u001b[0m     \u001b[38;5;28;01mif\u001b[39;00m tagset:  \u001b[38;5;66;03m# Maps to the specified tagset.\u001b[39;00m\n\u001b[0;32m    125\u001b[0m         \u001b[38;5;28;01mif\u001b[39;00m lang \u001b[38;5;241m==\u001b[39m \u001b[38;5;124m\"\u001b[39m\u001b[38;5;124meng\u001b[39m\u001b[38;5;124m\"\u001b[39m:\n",
      "File \u001b[1;32m~\\anaconda3\\envs\\ada\\lib\\site-packages\\nltk\\tag\\perceptron.py:187\u001b[0m, in \u001b[0;36mPerceptronTagger.tag\u001b[1;34m(self, tokens, return_conf, use_tagdict)\u001b[0m\n\u001b[0;32m    185\u001b[0m \u001b[38;5;28;01mif\u001b[39;00m \u001b[38;5;129;01mnot\u001b[39;00m tag:\n\u001b[0;32m    186\u001b[0m     features \u001b[38;5;241m=\u001b[39m \u001b[38;5;28mself\u001b[39m\u001b[38;5;241m.\u001b[39m_get_features(i, word, context, prev, prev2)\n\u001b[1;32m--> 187\u001b[0m     tag, conf \u001b[38;5;241m=\u001b[39m \u001b[38;5;28;43mself\u001b[39;49m\u001b[38;5;241;43m.\u001b[39;49m\u001b[43mmodel\u001b[49m\u001b[38;5;241;43m.\u001b[39;49m\u001b[43mpredict\u001b[49m\u001b[43m(\u001b[49m\u001b[43mfeatures\u001b[49m\u001b[43m,\u001b[49m\u001b[43m \u001b[49m\u001b[43mreturn_conf\u001b[49m\u001b[43m)\u001b[49m\n\u001b[0;32m    188\u001b[0m output\u001b[38;5;241m.\u001b[39mappend((word, tag, conf) \u001b[38;5;28;01mif\u001b[39;00m return_conf \u001b[38;5;241m==\u001b[39m \u001b[38;5;28;01mTrue\u001b[39;00m \u001b[38;5;28;01melse\u001b[39;00m (word, tag))\n\u001b[0;32m    190\u001b[0m prev2 \u001b[38;5;241m=\u001b[39m prev\n",
      "File \u001b[1;32m~\\anaconda3\\envs\\ada\\lib\\site-packages\\nltk\\tag\\perceptron.py:66\u001b[0m, in \u001b[0;36mAveragedPerceptron.predict\u001b[1;34m(self, features, return_conf)\u001b[0m\n\u001b[0;32m     64\u001b[0m     weights \u001b[38;5;241m=\u001b[39m \u001b[38;5;28mself\u001b[39m\u001b[38;5;241m.\u001b[39mweights[feat]\n\u001b[0;32m     65\u001b[0m     \u001b[38;5;28;01mfor\u001b[39;00m label, weight \u001b[38;5;129;01min\u001b[39;00m weights\u001b[38;5;241m.\u001b[39mitems():\n\u001b[1;32m---> 66\u001b[0m         scores[label] \u001b[38;5;241m+\u001b[39m\u001b[38;5;241m=\u001b[39m \u001b[43mvalue\u001b[49m\u001b[43m \u001b[49m\u001b[38;5;241;43m*\u001b[39;49m\u001b[43m \u001b[49m\u001b[43mweight\u001b[49m\n\u001b[0;32m     68\u001b[0m \u001b[38;5;66;03m# Do a secondary alphabetic sort, for stability\u001b[39;00m\n\u001b[0;32m     69\u001b[0m best_label \u001b[38;5;241m=\u001b[39m \u001b[38;5;28mmax\u001b[39m(\u001b[38;5;28mself\u001b[39m\u001b[38;5;241m.\u001b[39mclasses, key\u001b[38;5;241m=\u001b[39m\u001b[38;5;28;01mlambda\u001b[39;00m label: (scores[label], label))\n",
      "\u001b[1;31mKeyboardInterrupt\u001b[0m: "
     ]
    }
   ],
   "source": [
    "# Data sample as the previously defined subset of fictional summaries\n",
    "sample_summaries = fictional_summaries.copy()\n",
    "\n",
    "# General parameters to adapt\n",
    "n_features = 1000\n",
    "n_components = 10\n",
    "n_top_words = 10\n",
    "\n",
    "# Text preprocessing to remove Proper nouns (NPP)\n",
    "def filter_names(text):\n",
    "    tokens = word_tokenize(text)\n",
    "    tagged_tokens = pos_tag(tokens)\n",
    "    filtered_tokens = [token for token, pos in tagged_tokens if pos != 'NNP']\n",
    "    return ' '.join(filtered_tokens)\n",
    "\n",
    "# Preprocess the documents\n",
    "preprocessed_sample_summaries = [filter_names(doc) for doc in sample_summaries]\n",
    "\n",
    "# Vectorize the summaries\n",
    "vectorizer = CountVectorizer(\n",
    "    max_df=0.95, min_df=2, max_features=n_features, stop_words=\"english\")\n",
    "dtm = vectorizer.fit_transform(preprocessed_sample_summaries)\n",
    "\n",
    "# Create the LatentDirichletAllocation model\n",
    "lda = LatentDirichletAllocation(\n",
    "    n_components=n_components,\n",
    "    max_iter=5,\n",
    "    learning_method=\"online\",\n",
    "    learning_offset=50.0,\n",
    "    random_state=11,\n",
    ")\n",
    "\n",
    "lda.fit(dtm)\n",
    "\n",
    "# Define function to show top n keywords for each topic\n",
    "def show_topics(vectorizer=vectorizer, lda_model=lda, n_words=10):\n",
    "    keywords = np.array(vectorizer.get_feature_names_out())\n",
    "    topic_keywords = []\n",
    "    for topic_weights in lda_model.components_:\n",
    "        top_keyword_locs = (-topic_weights).argsort()[:n_words]\n",
    "        topic_keywords.append(keywords.take(top_keyword_locs))\n",
    "    return topic_keywords\n",
    "\n",
    "# Show the topics with their n_top words in a DataFrame form\n",
    "topic_keywords = show_topics(vectorizer=vectorizer, lda_model=lda, n_words=n_top_words)\n",
    "df_topic_keywords = pd.DataFrame(topic_keywords)\n",
    "\n",
    "# Improve comprehension with adapted column and index names\n",
    "df_topic_keywords.columns = ['Word '+str(i) for i in range(df_topic_keywords.shape[1])]\n",
    "df_topic_keywords.index = ['Topic '+str(i) for i in range(df_topic_keywords.shape[0])]\n",
    "display(df_topic_keywords)"
   ]
  },
  {
   "cell_type": "code",
   "execution_count": null,
   "metadata": {},
   "outputs": [],
   "source": [
    "\n",
    "def plot_top_words(model, feature_names, n_top_words, n_topics, title):\n",
    "    \"\"\"\n",
    "    Function to plot n top words for m topics as horizontals barplots with the measured weight.\n",
    "    \n",
    "    This function is taken and adapted from sklearn example at https://scikit-learn.org/stable/auto_examples/applications/plot_topics_extraction_with_nmf_lda.html\n",
    "    \"\"\"\n",
    "    # Get number of rows and columns to plot\n",
    "    row_n = np.ceil(n_topics/5).astype(int)\n",
    "    col_n = min([n_topics, 5])\n",
    "    \n",
    "    # Main figure with row_n x col_n subplots \n",
    "    fig, axes = plt.subplots(row_n, col_n, figsize=(30, 15), sharex=True)\n",
    "    axes = axes.flatten()\n",
    "    for topic_idx, topic in enumerate(model.components_):\n",
    "        # getting words and their weight from topics\n",
    "        top_features_ind = topic.argsort()[-n_top_words:]\n",
    "        top_features = feature_names[top_features_ind]\n",
    "        weights = topic[top_features_ind]\n",
    "\n",
    "        # plot results as horizontal bars\n",
    "        ax = axes[topic_idx]\n",
    "        ax.barh(top_features, weights, height=0.7)\n",
    "        ax.set_title(f\"Topic {topic_idx +1}\", fontdict={\"fontsize\": 30})\n",
    "        ax.tick_params(axis=\"both\", which=\"major\", labelsize=20)\n",
    "        for i in \"top right left\".split():\n",
    "            ax.spines[i].set_visible(False)\n",
    "        fig.suptitle(title, fontsize=40)\n",
    "\n",
    "    plt.subplots_adjust(top=0.90, bottom=0.05, wspace=0.90, hspace=0.3)\n",
    "    plt.show()\n",
    "\n",
    "# Plot the top n words for all topics\n",
    "tf_feature_names = vectorizer.get_feature_names_out()\n",
    "plot_top_words(lda, tf_feature_names, n_top_words, n_topics=n_components, title=\"Topics in LDA model\")"
   ]
  },
  {
   "cell_type": "markdown",
   "metadata": {},
   "source": [
    "We can already observe some patterns in different topics which could be relevant to our research questions. For example topic 5 clearly refers to time traveling while topic 6 suggests some outer-space related movies. The advantages of LDA model is it's rapid implementation and interpretability."
   ]
  },
  {
   "cell_type": "markdown",
   "metadata": {},
   "source": [
    "### Define periods to study topics evolution over time"
   ]
  },
  {
   "cell_type": "markdown",
   "metadata": {},
   "source": [
    "#### With genres classification"
   ]
  },
  {
   "cell_type": "code",
   "execution_count": null,
   "metadata": {},
   "outputs": [],
   "source": [
    "\n",
    "grouped_genre_movies_df=grouped_genre_movies.to_frame().rename(columns={'release_year':'count'}).reset_index()\n",
    "#count the number of fictional movies for each period of n years\n",
    "def period(n,df):\n",
    "    df_up = df.groupby(df[\"release_year\"]//n).sum()\n",
    "    df_up['release_year']=df_up.index*n\n",
    "    df_up = df_up.reset_index(drop=True)\n",
    "    return df_up\n",
    "period(10,grouped_genre_movies_df)"
   ]
  },
  {
   "cell_type": "markdown",
   "metadata": {},
   "source": [
    "#### With ML classification"
   ]
  },
  {
   "cell_type": "code",
   "execution_count": 30,
   "metadata": {},
   "outputs": [
    {
     "data": {
      "text/plain": [
       "1        The nation of Panem consists of a wealthy Capi...\n",
       "49       The evil Lord Conqueror, head of Conqueror's C...\n",
       "54       During the Great depression in 1933 in Winnipe...\n",
       "76       In Los Angeles, California Fletcher Reede  is ...\n",
       "80       In the winter of 1945, immediately after the l...\n",
       "                               ...                        \n",
       "42259    The following is a detailed overview of the mi...\n",
       "42264    In the not too distant future, society has lev...\n",
       "42276    In the 13th century, three women accused of wi...\n",
       "42292    While drinking alone one night and reminiscing...\n",
       "42293    {{Plot}}  In an alternate universe, people are...\n",
       "Name: movie_summary, Length: 3941, dtype: object"
      ]
     },
     "metadata": {},
     "output_type": "display_data"
    }
   ],
   "source": [
    "display(fictional_summaries)"
   ]
  },
  {
   "cell_type": "code",
   "execution_count": null,
   "metadata": {},
   "outputs": [],
   "source": []
  }
 ],
 "metadata": {
  "kernelspec": {
   "display_name": "Python 3 (ipykernel)",
   "language": "python",
   "name": "python3"
  },
  "language_info": {
   "codemirror_mode": {
    "name": "ipython",
    "version": 3
   },
   "file_extension": ".py",
   "mimetype": "text/x-python",
   "name": "python",
   "nbconvert_exporter": "python",
   "pygments_lexer": "ipython3",
   "version": "3.9.18"
  }
 },
 "nbformat": 4,
 "nbformat_minor": 4
}
